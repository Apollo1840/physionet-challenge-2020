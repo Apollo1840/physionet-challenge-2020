{
 "cells": [
  {
   "cell_type": "markdown",
   "metadata": {},
   "source": [
    "# PhysioNet/Computing in Cardiology Challenge 2020\n",
    "## Classification of 12-lead ECGs\n",
    "### 1. Extract Features"
   ]
  },
  {
   "cell_type": "markdown",
   "metadata": {},
   "source": [
    "# Setup Notebook"
   ]
  },
  {
   "cell_type": "code",
   "execution_count": null,
   "metadata": {},
   "outputs": [],
   "source": [
    "# Import 3rd party libraries\n",
    "import os\n",
    "import sys\n",
    "import time\n",
    "import numpy as np\n",
    "from joblib import Parallel, delayed\n",
    "\n",
    "# Import local Libraries\n",
    "sys.path.insert(0, os.path.dirname(os.path.dirname(os.path.dirname(os.path.dirname(os.path.abspath(os.getcwd()))))))\n",
    "from kardioml.models.physionet2017.features.feature_extractor import Features\n",
    "from kardioml import DATA_PATH, ECG_LEADS, FILTER_BAND_LIMITS\n",
    "\n",
    "# Configure Notebook\n",
    "import warnings\n",
    "warnings.filterwarnings('ignore')\n",
    "%matplotlib inline\n",
    "%load_ext autoreload\n",
    "%autoreload 2"
   ]
  },
  {
   "cell_type": "markdown",
   "metadata": {},
   "source": [
    "# Get List of files"
   ]
  },
  {
   "cell_type": "code",
   "execution_count": null,
   "metadata": {},
   "outputs": [],
   "source": [
    "# Path\n",
    "path = 'physionet_2020_1'\n",
    "\n",
    "# Get meta data files\n",
    "filenames = [file.split('.')[0] for file in os.listdir(os.path.join(DATA_PATH, path, 'formatted')) \n",
    "             if 'json' in file]"
   ]
  },
  {
   "cell_type": "markdown",
   "metadata": {},
   "source": [
    "# Extract Features"
   ]
  },
  {
   "cell_type": "code",
   "execution_count": null,
   "metadata": {},
   "outputs": [],
   "source": [
    "def process_lead(idx, filenames, lead):\n",
    "    \n",
    "    # Extract features\n",
    "    features = Features(filename=filenames[idx], path=path)\n",
    "    features.extract_features(lead=lead, feature_groups=['full_waveform_features', 'rri_features', 'template_features'], \n",
    "                              filter_bandwidth=FILTER_BAND_LIMITS)\n",
    "\n",
    "    # Save features\n",
    "    features.save_features(lead=lead)"
   ]
  },
  {
   "cell_type": "code",
   "execution_count": null,
   "metadata": {},
   "outputs": [],
   "source": [
    "# Loop through leads\n",
    "for lead in ECG_LEADS[0:1]:\n",
    "    print('Processing {} lead {} signals.'.format(len(filenames), lead))\n",
    "    start_time = time.time()\n",
    "    # Loop through filenames\n",
    "    _ = Parallel(n_jobs=-1)(delayed(process_lead)(idx, filenames, lead) for idx in range(len(filenames)))  \n",
    "    print('Completed in {} minutes.'.format(np.round((time.time() - start_time) / 60, 2)))"
   ]
  },
  {
   "cell_type": "markdown",
   "metadata": {},
   "source": [
    "# Extract Features DEBUG"
   ]
  },
  {
   "cell_type": "code",
   "execution_count": null,
   "metadata": {
    "scrolled": false
   },
   "outputs": [],
   "source": [
    "# Loop through leads\n",
    "for lead in ECG_LEADS[0:1]:\n",
    "\n",
    "    # Loop through filenames\n",
    "    for filename in filenames[0:200]:\n",
    "\n",
    "        # Extract features\n",
    "        features = Features(filename=filename, path=path)\n",
    "        features.extract_features(lead=lead, feature_groups=['full_waveform_features', 'rri_features', 'template_features'], \n",
    "                                  filter_bandwidth=[3, 45])\n",
    "        \n",
    "        # Save features\n",
    "        features.save_features(lead=lead)"
   ]
  }
 ],
 "metadata": {
  "kernelspec": {
   "display_name": "Python 3",
   "language": "python",
   "name": "python3"
  },
  "language_info": {
   "codemirror_mode": {
    "name": "ipython",
    "version": 3
   },
   "file_extension": ".py",
   "mimetype": "text/x-python",
   "name": "python",
   "nbconvert_exporter": "python",
   "pygments_lexer": "ipython3",
   "version": "3.7.7"
  }
 },
 "nbformat": 4,
 "nbformat_minor": 4
}
