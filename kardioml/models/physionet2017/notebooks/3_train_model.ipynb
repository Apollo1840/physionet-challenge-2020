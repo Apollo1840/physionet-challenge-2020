{
 "cells": [
  {
   "cell_type": "markdown",
   "metadata": {},
   "source": [
    "# PhysioNet/Computing in Cardiology Challenge 2020\n",
    "## Classification of 12-lead ECGs\n",
    "### 3. Train Model"
   ]
  },
  {
   "cell_type": "markdown",
   "metadata": {},
   "source": [
    "# Setup Notebook"
   ]
  },
  {
   "cell_type": "code",
   "execution_count": 3,
   "metadata": {},
   "outputs": [
    {
     "name": "stdout",
     "output_type": "stream",
     "text": [
      "The autoreload extension is already loaded. To reload it, use:\n",
      "  %reload_ext autoreload\n"
     ]
    }
   ],
   "source": [
    "# Import 3rd party libraries\n",
    "import os\n",
    "import sys\n",
    "import ast\n",
    "import time\n",
    "import json\n",
    "import numpy as np\n",
    "import pandas as pd\n",
    "\n",
    "# Import local Libraries\n",
    "sys.path.insert(0, os.path.dirname(os.path.dirname(os.path.dirname(os.path.dirname(os.path.abspath(os.getcwd()))))))\n",
    "from kardioml import DATA_PATH, ECG_LEADS, FS, LABELS_LOOKUP, LABELS_COUNT\n",
    "from kardioml.models.physionet2017.training.xgboost_model import Model\n",
    "from kardioml.data.data_loader import load_challenge_data\n",
    "\n",
    "# Configure Notebook\n",
    "import warnings\n",
    "warnings.filterwarnings('ignore')\n",
    "%matplotlib inline\n",
    "%load_ext autoreload\n",
    "%autoreload 2"
   ]
  },
  {
   "cell_type": "markdown",
   "metadata": {},
   "source": [
    "# Import Data\n",
    "### Meta Data"
   ]
  },
  {
   "cell_type": "code",
   "execution_count": 4,
   "metadata": {},
   "outputs": [
    {
     "data": {
      "text/html": [
       "<div>\n",
       "<style scoped>\n",
       "    .dataframe tbody tr th:only-of-type {\n",
       "        vertical-align: middle;\n",
       "    }\n",
       "\n",
       "    .dataframe tbody tr th {\n",
       "        vertical-align: top;\n",
       "    }\n",
       "\n",
       "    .dataframe thead th {\n",
       "        text-align: right;\n",
       "    }\n",
       "</style>\n",
       "<table border=\"1\" class=\"dataframe\">\n",
       "  <thead>\n",
       "    <tr style=\"text-align: right;\">\n",
       "      <th></th>\n",
       "      <th>age</th>\n",
       "      <th>channel_order</th>\n",
       "      <th>filename</th>\n",
       "      <th>label_train</th>\n",
       "      <th>labels</th>\n",
       "      <th>labels_full</th>\n",
       "      <th>labels_int</th>\n",
       "      <th>sex</th>\n",
       "      <th>shape</th>\n",
       "      <th>label_count</th>\n",
       "      <th>length</th>\n",
       "      <th>labels_concat</th>\n",
       "    </tr>\n",
       "  </thead>\n",
       "  <tbody>\n",
       "    <tr>\n",
       "      <th>0</th>\n",
       "      <td>74.0</td>\n",
       "      <td>['I', 'II', 'III', 'aVR', 'aVL', 'aVF', 'V1', ...</td>\n",
       "      <td>A0001</td>\n",
       "      <td>[0, 0, 0, 0, 0, 0, 1, 0, 0]</td>\n",
       "      <td>['RBBB']</td>\n",
       "      <td>['Right bundle branch block']</td>\n",
       "      <td>[6]</td>\n",
       "      <td>Male</td>\n",
       "      <td>[12, 7500]</td>\n",
       "      <td>1</td>\n",
       "      <td>15.000</td>\n",
       "      <td>Right bundle branch block</td>\n",
       "    </tr>\n",
       "    <tr>\n",
       "      <th>1</th>\n",
       "      <td>49.0</td>\n",
       "      <td>['I', 'II', 'III', 'aVR', 'aVL', 'aVF', 'V1', ...</td>\n",
       "      <td>A0002</td>\n",
       "      <td>[0, 0, 0, 1, 0, 0, 0, 0, 0]</td>\n",
       "      <td>['Normal']</td>\n",
       "      <td>['Normal sinus rhythm']</td>\n",
       "      <td>[3]</td>\n",
       "      <td>Female</td>\n",
       "      <td>[12, 5000]</td>\n",
       "      <td>1</td>\n",
       "      <td>10.000</td>\n",
       "      <td>Normal sinus rhythm</td>\n",
       "    </tr>\n",
       "    <tr>\n",
       "      <th>2</th>\n",
       "      <td>81.0</td>\n",
       "      <td>['I', 'II', 'III', 'aVR', 'aVL', 'aVF', 'V1', ...</td>\n",
       "      <td>A0003</td>\n",
       "      <td>[1, 0, 0, 0, 0, 0, 0, 0, 0]</td>\n",
       "      <td>['AF']</td>\n",
       "      <td>['Atrial fibrillation']</td>\n",
       "      <td>[0]</td>\n",
       "      <td>Female</td>\n",
       "      <td>[12, 5000]</td>\n",
       "      <td>1</td>\n",
       "      <td>10.000</td>\n",
       "      <td>Atrial fibrillation</td>\n",
       "    </tr>\n",
       "    <tr>\n",
       "      <th>3</th>\n",
       "      <td>45.0</td>\n",
       "      <td>['I', 'II', 'III', 'aVR', 'aVL', 'aVF', 'V1', ...</td>\n",
       "      <td>A0004</td>\n",
       "      <td>[1, 0, 0, 0, 0, 0, 0, 0, 0]</td>\n",
       "      <td>['AF']</td>\n",
       "      <td>['Atrial fibrillation']</td>\n",
       "      <td>[0]</td>\n",
       "      <td>Male</td>\n",
       "      <td>[12, 5974]</td>\n",
       "      <td>1</td>\n",
       "      <td>11.948</td>\n",
       "      <td>Atrial fibrillation</td>\n",
       "    </tr>\n",
       "    <tr>\n",
       "      <th>4</th>\n",
       "      <td>53.0</td>\n",
       "      <td>['I', 'II', 'III', 'aVR', 'aVL', 'aVF', 'V1', ...</td>\n",
       "      <td>A0005</td>\n",
       "      <td>[0, 0, 0, 0, 0, 1, 0, 0, 0]</td>\n",
       "      <td>['PVC']</td>\n",
       "      <td>['Premature ventricular complex']</td>\n",
       "      <td>[5]</td>\n",
       "      <td>Male</td>\n",
       "      <td>[12, 12500]</td>\n",
       "      <td>1</td>\n",
       "      <td>25.000</td>\n",
       "      <td>Premature ventricular complex</td>\n",
       "    </tr>\n",
       "  </tbody>\n",
       "</table>\n",
       "</div>"
      ],
      "text/plain": [
       "    age                                      channel_order filename  \\\n",
       "0  74.0  ['I', 'II', 'III', 'aVR', 'aVL', 'aVF', 'V1', ...    A0001   \n",
       "1  49.0  ['I', 'II', 'III', 'aVR', 'aVL', 'aVF', 'V1', ...    A0002   \n",
       "2  81.0  ['I', 'II', 'III', 'aVR', 'aVL', 'aVF', 'V1', ...    A0003   \n",
       "3  45.0  ['I', 'II', 'III', 'aVR', 'aVL', 'aVF', 'V1', ...    A0004   \n",
       "4  53.0  ['I', 'II', 'III', 'aVR', 'aVL', 'aVF', 'V1', ...    A0005   \n",
       "\n",
       "                   label_train      labels                        labels_full  \\\n",
       "0  [0, 0, 0, 0, 0, 0, 1, 0, 0]    ['RBBB']      ['Right bundle branch block']   \n",
       "1  [0, 0, 0, 1, 0, 0, 0, 0, 0]  ['Normal']            ['Normal sinus rhythm']   \n",
       "2  [1, 0, 0, 0, 0, 0, 0, 0, 0]      ['AF']            ['Atrial fibrillation']   \n",
       "3  [1, 0, 0, 0, 0, 0, 0, 0, 0]      ['AF']            ['Atrial fibrillation']   \n",
       "4  [0, 0, 0, 0, 0, 1, 0, 0, 0]     ['PVC']  ['Premature ventricular complex']   \n",
       "\n",
       "  labels_int     sex        shape  label_count  length  \\\n",
       "0        [6]    Male   [12, 7500]            1  15.000   \n",
       "1        [3]  Female   [12, 5000]            1  10.000   \n",
       "2        [0]  Female   [12, 5000]            1  10.000   \n",
       "3        [0]    Male   [12, 5974]            1  11.948   \n",
       "4        [5]    Male  [12, 12500]            1  25.000   \n",
       "\n",
       "                   labels_concat  \n",
       "0      Right bundle branch block  \n",
       "1            Normal sinus rhythm  \n",
       "2            Atrial fibrillation  \n",
       "3            Atrial fibrillation  \n",
       "4  Premature ventricular complex  "
      ]
     },
     "execution_count": 4,
     "metadata": {},
     "output_type": "execute_result"
    }
   ],
   "source": [
    "# Import to DataFrame\n",
    "meta_data = pd.read_csv(os.path.join(DATA_PATH, 'physionet_2017', 'training', 'meta_data.csv'))\n",
    "\n",
    "# View DataFrame\n",
    "meta_data.head()"
   ]
  },
  {
   "cell_type": "markdown",
   "metadata": {},
   "source": [
    "### Features"
   ]
  },
  {
   "cell_type": "code",
   "execution_count": null,
   "metadata": {},
   "outputs": [],
   "source": [
    "# Import to DataFrame\n",
    "features = pd.read_csv(os.path.join(DATA_PATH, 'physionet_2017', 'training', 'features.csv'))\n",
    "\n",
    "# View DataFrame\n",
    "features.head()"
   ]
  },
  {
   "cell_type": "markdown",
   "metadata": {},
   "source": [
    "### Labels"
   ]
  },
  {
   "cell_type": "code",
   "execution_count": null,
   "metadata": {},
   "outputs": [],
   "source": [
    "# Import to DataFrame\n",
    "labels = pd.read_csv(os.path.join(DATA_PATH, 'physionet_2017', 'training', 'labels.csv'))\n",
    "\n",
    "# View DataFrame\n",
    "labels.head()"
   ]
  },
  {
   "cell_type": "markdown",
   "metadata": {},
   "source": [
    "# Hyper-Parameter Tuning"
   ]
  },
  {
   "cell_type": "code",
   "execution_count": null,
   "metadata": {},
   "outputs": [],
   "source": [
    "# Set parameter bounds\n",
    "param_bounds = {'learning_rate': (0.01, 1.0),\n",
    "                'n_estimators': (500, 1500),\n",
    "                'max_depth': (2, 8),\n",
    "                'subsample': (0.5, 1.0),  \n",
    "                'colsample': (0.5, 1.0),\n",
    "                'gamma': (0.001, 2.0),\n",
    "                'min_child_weight': (0, 10),\n",
    "                'max_delta_step': (0, 10)}\n",
    "\n",
    "# Set number of iterations\n",
    "n_iter = 40\n",
    "\n",
    "# Set number CV folds\n",
    "cv_folds = 4\n",
    "\n",
    "# Get 1-D labels for stratifying\n",
    "stratifier = meta_data['labels'].map(lambda val: ast.literal_eval(val)[0])\n",
    "\n",
    "# Initialize model\n",
    "model = Model(features=features, labels=labels, cv_folds=cv_folds, stratifier=stratifier)\n",
    "\n",
    "# Run hyper-paramter search\n",
    "model.tune_hyper_parameters(param_bounds=param_bounds, n_iter=n_iter)\n",
    "\n",
    "# Save model\n",
    "model.save()"
   ]
  },
  {
   "cell_type": "markdown",
   "metadata": {},
   "source": [
    "# Test Inference"
   ]
  },
  {
   "cell_type": "code",
   "execution_count": null,
   "metadata": {},
   "outputs": [],
   "source": [
    "# Load test data\n",
    "data, header_data = load_challenge_data(filename=os.path.join(DATA_PATH, 'raw', 'Training_WFDB', 'A0100.mat'))\n",
    "\n",
    "# Run inference\n",
    "model.challenge_prediction(data=data, header_data=header_data)"
   ]
  }
 ],
 "metadata": {
  "kernelspec": {
   "display_name": "Python 3",
   "language": "python",
   "name": "python3"
  },
  "language_info": {
   "codemirror_mode": {
    "name": "ipython",
    "version": 3
   },
   "file_extension": ".py",
   "mimetype": "text/x-python",
   "name": "python",
   "nbconvert_exporter": "python",
   "pygments_lexer": "ipython3",
   "version": "3.7.6"
  }
 },
 "nbformat": 4,
 "nbformat_minor": 4
}
