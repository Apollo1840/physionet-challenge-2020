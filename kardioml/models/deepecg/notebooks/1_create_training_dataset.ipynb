{
 "cells": [
  {
   "cell_type": "markdown",
   "metadata": {},
   "source": [
    "# PhysioNet/Computing in Cardiology Challenge 2020\n",
    "## Classification of 12-lead ECGs\n",
    "### 2. Create Training Dataset"
   ]
  },
  {
   "cell_type": "markdown",
   "metadata": {},
   "source": [
    "# Setup Noteboook"
   ]
  },
  {
   "cell_type": "code",
   "execution_count": 1,
   "metadata": {},
   "outputs": [],
   "source": [
    "# Import 3rd party libraries\n",
    "import os\n",
    "import sys\n",
    "import json\n",
    "import random\n",
    "import pandas as pd\n",
    "from sklearn.model_selection import train_test_split\n",
    "\n",
    "# Import local Libraries\n",
    "sys.path.insert(0, os.path.dirname(os.path.dirname(os.path.dirname(os.path.dirname(os.path.abspath(os.getcwd()))))))\n",
    "from kardioml import DATA_PATH\n",
    "\n",
    "# Configure Notebook\n",
    "import warnings\n",
    "warnings.filterwarnings('ignore')\n",
    "%matplotlib inline\n",
    "%load_ext autoreload\n",
    "%autoreload 2"
   ]
  },
  {
   "cell_type": "markdown",
   "metadata": {},
   "source": [
    "# Split Physionet 2020 Training Data\n",
    "## Create Training Lookup File\n",
    "#### Tranche 1"
   ]
  },
  {
   "cell_type": "code",
   "execution_count": 2,
   "metadata": {},
   "outputs": [
    {
     "data": {
      "text/html": [
       "<div>\n",
       "<style scoped>\n",
       "    .dataframe tbody tr th:only-of-type {\n",
       "        vertical-align: middle;\n",
       "    }\n",
       "\n",
       "    .dataframe tbody tr th {\n",
       "        vertical-align: top;\n",
       "    }\n",
       "\n",
       "    .dataframe thead th {\n",
       "        text-align: right;\n",
       "    }\n",
       "</style>\n",
       "<table border=\"1\" class=\"dataframe\">\n",
       "  <thead>\n",
       "    <tr style=\"text-align: right;\">\n",
       "      <th></th>\n",
       "      <th>filename</th>\n",
       "      <th>labels</th>\n",
       "      <th>path</th>\n",
       "    </tr>\n",
       "  </thead>\n",
       "  <tbody>\n",
       "    <tr>\n",
       "      <td>0</td>\n",
       "      <td>A0001</td>\n",
       "      <td>RBBB</td>\n",
       "      <td>C:\\Users\\sebastian goodfellow\\Documents\\code\\p...</td>\n",
       "    </tr>\n",
       "    <tr>\n",
       "      <td>1</td>\n",
       "      <td>A0002</td>\n",
       "      <td>Normal</td>\n",
       "      <td>C:\\Users\\sebastian goodfellow\\Documents\\code\\p...</td>\n",
       "    </tr>\n",
       "    <tr>\n",
       "      <td>2</td>\n",
       "      <td>A0003</td>\n",
       "      <td>AF</td>\n",
       "      <td>C:\\Users\\sebastian goodfellow\\Documents\\code\\p...</td>\n",
       "    </tr>\n",
       "    <tr>\n",
       "      <td>3</td>\n",
       "      <td>A0004</td>\n",
       "      <td>AF</td>\n",
       "      <td>C:\\Users\\sebastian goodfellow\\Documents\\code\\p...</td>\n",
       "    </tr>\n",
       "    <tr>\n",
       "      <td>4</td>\n",
       "      <td>A0005</td>\n",
       "      <td>PVC</td>\n",
       "      <td>C:\\Users\\sebastian goodfellow\\Documents\\code\\p...</td>\n",
       "    </tr>\n",
       "  </tbody>\n",
       "</table>\n",
       "</div>"
      ],
      "text/plain": [
       "  filename  labels                                               path\n",
       "0    A0001    RBBB  C:\\Users\\sebastian goodfellow\\Documents\\code\\p...\n",
       "1    A0002  Normal  C:\\Users\\sebastian goodfellow\\Documents\\code\\p...\n",
       "2    A0003      AF  C:\\Users\\sebastian goodfellow\\Documents\\code\\p...\n",
       "3    A0004      AF  C:\\Users\\sebastian goodfellow\\Documents\\code\\p...\n",
       "4    A0005     PVC  C:\\Users\\sebastian goodfellow\\Documents\\code\\p..."
      ]
     },
     "execution_count": 2,
     "metadata": {},
     "output_type": "execute_result"
    }
   ],
   "source": [
    "# Get meta data files\n",
    "filenames = [file.split('.')[0] for file in os.listdir(os.path.join(DATA_PATH, 'physionet_2020_1', 'formatted')) \n",
    "             if 'json' in file]\n",
    "\n",
    "# Get label for each file\n",
    "labels = list()\n",
    "for filename in filenames:\n",
    "    meta_data = json.load(open(os.path.join(DATA_PATH, 'physionet_2020_1', 'formatted', '{}.json'.format(filename))))\n",
    "    labels.append('{}-{}'.format(meta_data['labels'][0], meta_data['labels'][1]) if len(meta_data['labels']) > 1 \n",
    "                                 else meta_data['labels'][0])\n",
    "\n",
    "# Combine\n",
    "data_1 = pd.DataFrame({'filename': filenames, 'labels': labels})\n",
    "\n",
    "# Add path\n",
    "data_1['path'] = data_1['filename'].map(lambda filename: os.path.join(DATA_PATH, 'physionet_2020_1', 'formatted', filename))\n",
    "\n",
    "# View DataFrame\n",
    "data_1.head()"
   ]
  },
  {
   "cell_type": "markdown",
   "metadata": {},
   "source": [
    "#### Tranche 2"
   ]
  },
  {
   "cell_type": "code",
   "execution_count": 13,
   "metadata": {},
   "outputs": [
    {
     "data": {
      "text/html": [
       "<div>\n",
       "<style scoped>\n",
       "    .dataframe tbody tr th:only-of-type {\n",
       "        vertical-align: middle;\n",
       "    }\n",
       "\n",
       "    .dataframe tbody tr th {\n",
       "        vertical-align: top;\n",
       "    }\n",
       "\n",
       "    .dataframe thead th {\n",
       "        text-align: right;\n",
       "    }\n",
       "</style>\n",
       "<table border=\"1\" class=\"dataframe\">\n",
       "  <thead>\n",
       "    <tr style=\"text-align: right;\">\n",
       "      <th></th>\n",
       "      <th>filename</th>\n",
       "      <th>labels</th>\n",
       "      <th>path</th>\n",
       "    </tr>\n",
       "  </thead>\n",
       "  <tbody>\n",
       "    <tr>\n",
       "      <td>0</td>\n",
       "      <td>Q0023</td>\n",
       "      <td>STE</td>\n",
       "      <td>C:\\Users\\sebastian goodfellow\\Documents\\code\\p...</td>\n",
       "    </tr>\n",
       "    <tr>\n",
       "      <td>1</td>\n",
       "      <td>Q0026</td>\n",
       "      <td>PAC</td>\n",
       "      <td>C:\\Users\\sebastian goodfellow\\Documents\\code\\p...</td>\n",
       "    </tr>\n",
       "    <tr>\n",
       "      <td>2</td>\n",
       "      <td>Q0033</td>\n",
       "      <td>LBBB</td>\n",
       "      <td>C:\\Users\\sebastian goodfellow\\Documents\\code\\p...</td>\n",
       "    </tr>\n",
       "    <tr>\n",
       "      <td>3</td>\n",
       "      <td>Q0037</td>\n",
       "      <td>AF</td>\n",
       "      <td>C:\\Users\\sebastian goodfellow\\Documents\\code\\p...</td>\n",
       "    </tr>\n",
       "    <tr>\n",
       "      <td>4</td>\n",
       "      <td>Q0040</td>\n",
       "      <td>PAC</td>\n",
       "      <td>C:\\Users\\sebastian goodfellow\\Documents\\code\\p...</td>\n",
       "    </tr>\n",
       "  </tbody>\n",
       "</table>\n",
       "</div>"
      ],
      "text/plain": [
       "  filename labels                                               path\n",
       "0    Q0023    STE  C:\\Users\\sebastian goodfellow\\Documents\\code\\p...\n",
       "1    Q0026    PAC  C:\\Users\\sebastian goodfellow\\Documents\\code\\p...\n",
       "2    Q0033   LBBB  C:\\Users\\sebastian goodfellow\\Documents\\code\\p...\n",
       "3    Q0037     AF  C:\\Users\\sebastian goodfellow\\Documents\\code\\p...\n",
       "4    Q0040    PAC  C:\\Users\\sebastian goodfellow\\Documents\\code\\p..."
      ]
     },
     "execution_count": 13,
     "metadata": {},
     "output_type": "execute_result"
    }
   ],
   "source": [
    "# Get meta data files\n",
    "filenames = [file.split('.')[0] for file in os.listdir(os.path.join(DATA_PATH, 'physionet_2020_2', 'formatted')) \n",
    "             if 'json' in file]\n",
    "\n",
    "# Get label for each file\n",
    "labels = list()\n",
    "for filename in filenames:\n",
    "    meta_data = json.load(open(os.path.join(DATA_PATH, 'physionet_2020_2', 'formatted', '{}.json'.format(filename))))\n",
    "    labels.append('{}'.format(meta_data['labels'][0]) if len(meta_data['labels']) > 1 \n",
    "                                 else meta_data['labels'][0])\n",
    "\n",
    "# Combine\n",
    "data_2 = pd.DataFrame({'filename': filenames, 'labels': labels})\n",
    "\n",
    "# Add path\n",
    "data_2['path'] = data_2['filename'].map(lambda filename: os.path.join(DATA_PATH, 'physionet_2020_2', 'formatted', filename))\n",
    "\n",
    "# View DataFrame\n",
    "data_2.head()"
   ]
  },
  {
   "cell_type": "markdown",
   "metadata": {},
   "source": [
    "#### Combine Tranche 1 and 2"
   ]
  },
  {
   "cell_type": "code",
   "execution_count": 14,
   "metadata": {},
   "outputs": [
    {
     "data": {
      "text/html": [
       "<div>\n",
       "<style scoped>\n",
       "    .dataframe tbody tr th:only-of-type {\n",
       "        vertical-align: middle;\n",
       "    }\n",
       "\n",
       "    .dataframe tbody tr th {\n",
       "        vertical-align: top;\n",
       "    }\n",
       "\n",
       "    .dataframe thead th {\n",
       "        text-align: right;\n",
       "    }\n",
       "</style>\n",
       "<table border=\"1\" class=\"dataframe\">\n",
       "  <thead>\n",
       "    <tr style=\"text-align: right;\">\n",
       "      <th></th>\n",
       "      <th>filename</th>\n",
       "      <th>labels</th>\n",
       "      <th>path</th>\n",
       "    </tr>\n",
       "  </thead>\n",
       "  <tbody>\n",
       "    <tr>\n",
       "      <td>0</td>\n",
       "      <td>A0001</td>\n",
       "      <td>RBBB</td>\n",
       "      <td>C:\\Users\\sebastian goodfellow\\Documents\\code\\p...</td>\n",
       "    </tr>\n",
       "    <tr>\n",
       "      <td>1</td>\n",
       "      <td>A0002</td>\n",
       "      <td>Normal</td>\n",
       "      <td>C:\\Users\\sebastian goodfellow\\Documents\\code\\p...</td>\n",
       "    </tr>\n",
       "    <tr>\n",
       "      <td>2</td>\n",
       "      <td>A0003</td>\n",
       "      <td>AF</td>\n",
       "      <td>C:\\Users\\sebastian goodfellow\\Documents\\code\\p...</td>\n",
       "    </tr>\n",
       "    <tr>\n",
       "      <td>3</td>\n",
       "      <td>A0004</td>\n",
       "      <td>AF</td>\n",
       "      <td>C:\\Users\\sebastian goodfellow\\Documents\\code\\p...</td>\n",
       "    </tr>\n",
       "    <tr>\n",
       "      <td>4</td>\n",
       "      <td>A0005</td>\n",
       "      <td>PVC</td>\n",
       "      <td>C:\\Users\\sebastian goodfellow\\Documents\\code\\p...</td>\n",
       "    </tr>\n",
       "  </tbody>\n",
       "</table>\n",
       "</div>"
      ],
      "text/plain": [
       "  filename  labels                                               path\n",
       "0    A0001    RBBB  C:\\Users\\sebastian goodfellow\\Documents\\code\\p...\n",
       "1    A0002  Normal  C:\\Users\\sebastian goodfellow\\Documents\\code\\p...\n",
       "2    A0003      AF  C:\\Users\\sebastian goodfellow\\Documents\\code\\p...\n",
       "3    A0004      AF  C:\\Users\\sebastian goodfellow\\Documents\\code\\p...\n",
       "4    A0005     PVC  C:\\Users\\sebastian goodfellow\\Documents\\code\\p..."
      ]
     },
     "execution_count": 14,
     "metadata": {},
     "output_type": "execute_result"
    }
   ],
   "source": [
    "# Merge\n",
    "data = pd.concat([data_1, data_2], ignore_index=True, axis=0).reset_index(drop=True)\n",
    "\n",
    "# View DataFrame\n",
    "data.head()"
   ]
  },
  {
   "cell_type": "markdown",
   "metadata": {},
   "source": [
    "## Split Data "
   ]
  },
  {
   "cell_type": "code",
   "execution_count": 16,
   "metadata": {},
   "outputs": [],
   "source": [
    "# Set split ratios\n",
    "train_size = 0.8\n",
    "val_size = 0.2\n",
    "assert train_size + val_size == 1\n",
    "\n",
    "# Split dataset into train/evaluate\n",
    "data_train, data_val = train_test_split(data, test_size=val_size, stratify=data['labels'], random_state=0, shuffle=True)\n",
    "\n",
    "# Lookup file\n",
    "training_lookup = {'train': data_train['path'].tolist(), 'val': data_val['path'].tolist()}"
   ]
  },
  {
   "cell_type": "markdown",
   "metadata": {},
   "source": [
    "# Add Augmentation Datasets\n",
    "## Zheng 2020"
   ]
  },
  {
   "cell_type": "code",
   "execution_count": 27,
   "metadata": {},
   "outputs": [],
   "source": [
    "# Get file paths\n",
    "paths = [os.path.join(DATA_PATH, 'zheng_2020', 'formatted', file.split('.')[0]) \n",
    "         for file in os.listdir(os.path.join(DATA_PATH, 'zheng_2020', 'formatted')) if 'json' in file]\n",
    "\n",
    "# Add to lookup dictionary\n",
    "# training_lookup['train'].extend(paths)\n",
    "# random.shuffle(training_lookup['train'])\n",
    "# random.shuffle(training_lookup['train'])\n",
    "# random.shuffle(training_lookup['train'])\n",
    "# random.shuffle(training_lookup['train'])\n",
    "# random.shuffle(training_lookup['train'])"
   ]
  },
  {
   "cell_type": "markdown",
   "metadata": {},
   "source": [
    "# Save Lookup JSON"
   ]
  },
  {
   "cell_type": "code",
   "execution_count": 18,
   "metadata": {},
   "outputs": [],
   "source": [
    "# Save file\n",
    "os.makedirs(os.path.join(DATA_PATH, 'deepecg'), exist_ok=True)\n",
    "with open(os.path.join(DATA_PATH, 'deepecg', 'training_lookup.json'), 'w') as file:\n",
    "    json.dump(training_lookup, file, sort_keys=True)"
   ]
  }
 ],
 "metadata": {
  "kernelspec": {
   "display_name": "Python 3",
   "language": "python",
   "name": "python3"
  },
  "language_info": {
   "codemirror_mode": {
    "name": "ipython",
    "version": 3
   },
   "file_extension": ".py",
   "mimetype": "text/x-python",
   "name": "python",
   "nbconvert_exporter": "python",
   "pygments_lexer": "ipython3",
   "version": "3.6.9"
  }
 },
 "nbformat": 4,
 "nbformat_minor": 2
}
