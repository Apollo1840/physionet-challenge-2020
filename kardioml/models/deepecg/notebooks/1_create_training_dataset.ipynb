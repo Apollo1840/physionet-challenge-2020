{
 "cells": [
  {
   "cell_type": "markdown",
   "metadata": {},
   "source": [
    "# PhysioNet/Computing in Cardiology Challenge 2020\n",
    "## Classification of 12-lead ECGs\n",
    "### 2. Create Training Dataset"
   ]
  },
  {
   "cell_type": "markdown",
   "metadata": {},
   "source": [
    "# Setup Noteboook"
   ]
  },
  {
   "cell_type": "code",
   "execution_count": 2,
   "metadata": {},
   "outputs": [],
   "source": [
    "# Import 3rd party libraries\n",
    "import os\n",
    "import sys\n",
    "import json\n",
    "import random\n",
    "import numpy as np\n",
    "import pandas as pd\n",
    "from sklearn.model_selection import train_test_split\n",
    "from iterstrat.ml_stratifiers import MultilabelStratifiedKFold\n",
    "\n",
    "# Import local Libraries\n",
    "sys.path.insert(0, os.path.dirname(os.path.dirname(os.path.dirname(os.path.dirname(os.path.abspath(os.getcwd()))))))\n",
    "from kardioml import DATA_PATH\n",
    "\n",
    "# Configure Notebook\n",
    "import warnings\n",
    "warnings.filterwarnings('ignore')\n",
    "%matplotlib inline\n",
    "%load_ext autoreload\n",
    "%autoreload 2"
   ]
  },
  {
   "cell_type": "markdown",
   "metadata": {},
   "source": [
    "# Split Physionet 2020 Training Data\n",
    "## Create Training Lookup File"
   ]
  },
  {
   "cell_type": "code",
   "execution_count": 10,
   "metadata": {},
   "outputs": [],
   "source": [
    "# Set sample frequencies\n",
    "sample_frequencies = [250, 300, 350, 400, 450, 500]\n",
    "\n",
    "# Set datasets\n",
    "datasets = ['A', 'B', 'C', 'D', 'E', 'F']\n",
    "\n",
    "# Loop through sample frequencies\n",
    "for fs in sample_frequencies[0:1]:\n",
    "    \n",
    "    # Create directory for formatted data\n",
    "    os.makedirs(os.path.join(DATA_PATH, 'training', str(fs)), exist_ok=True)\n",
    "    \n",
    "    # Create list\n",
    "    lookup = list()\n",
    "    \n",
    "    # Loop through datasets\n",
    "    for dataset in datasets:\n",
    "        \n",
    "        # Get filenames\n",
    "        filenames = [filename.split('.')[0] for filename in os.listdir(os.path.join(DATA_PATH, dataset, str(fs))) \n",
    "                     if 'json' in filename]\n",
    "        \n",
    "        # Loop through filenames\n",
    "        for filename in filenames:\n",
    "\n",
    "            # Import meta data\n",
    "            meta_data = json.load(open(os.path.join(DATA_PATH, dataset, str(fs), '{}.json'.format(filename))))\n",
    "            \n",
    "            # Save label\n",
    "            if meta_data['labels_training']:\n",
    "                lookup.append({'filename': filename, 'labels': meta_data['labels_training'], 'dataset': dataset, 'fs': fs,\n",
    "                               'labels_merged': meta_data['labels_training_merged'], \n",
    "                               'path': os.path.join(DATA_PATH, dataset, str(fs))})\n",
    "                \n",
    "            \n",
    "            \n",
    "            \n",
    "            \n",
    "        \n",
    "        "
   ]
  },
  {
   "cell_type": "code",
   "execution_count": 11,
   "metadata": {},
   "outputs": [
    {
     "data": {
      "text/html": [
       "<div>\n",
       "<style scoped>\n",
       "    .dataframe tbody tr th:only-of-type {\n",
       "        vertical-align: middle;\n",
       "    }\n",
       "\n",
       "    .dataframe tbody tr th {\n",
       "        vertical-align: top;\n",
       "    }\n",
       "\n",
       "    .dataframe thead th {\n",
       "        text-align: right;\n",
       "    }\n",
       "</style>\n",
       "<table border=\"1\" class=\"dataframe\">\n",
       "  <thead>\n",
       "    <tr style=\"text-align: right;\">\n",
       "      <th></th>\n",
       "      <th>filename</th>\n",
       "      <th>labels</th>\n",
       "      <th>dataset</th>\n",
       "      <th>fs</th>\n",
       "      <th>labels_merged</th>\n",
       "      <th>path</th>\n",
       "    </tr>\n",
       "  </thead>\n",
       "  <tbody>\n",
       "    <tr>\n",
       "      <th>0</th>\n",
       "      <td>A0001</td>\n",
       "      <td>[0, 0, 0, 0, 0, 0, 0, 0, 0, 0, 0, 0, 0, 0, 0, ...</td>\n",
       "      <td>A</td>\n",
       "      <td>250</td>\n",
       "      <td>[0, 0, 0, 0, 1, 0, 0, 0, 0, 0, 0, 0, 0, 0, 0, ...</td>\n",
       "      <td>C:\\Users\\sebig\\Documents\\Code\\physionet-challe...</td>\n",
       "    </tr>\n",
       "    <tr>\n",
       "      <th>1</th>\n",
       "      <td>A0002</td>\n",
       "      <td>[0, 0, 0, 0, 0, 0, 0, 0, 0, 0, 0, 0, 0, 0, 0, ...</td>\n",
       "      <td>A</td>\n",
       "      <td>250</td>\n",
       "      <td>[0, 0, 0, 0, 0, 0, 0, 0, 0, 0, 0, 0, 0, 0, 0, ...</td>\n",
       "      <td>C:\\Users\\sebig\\Documents\\Code\\physionet-challe...</td>\n",
       "    </tr>\n",
       "    <tr>\n",
       "      <th>2</th>\n",
       "      <td>A0003</td>\n",
       "      <td>[0, 1, 0, 0, 0, 0, 0, 0, 0, 0, 0, 0, 0, 0, 0, ...</td>\n",
       "      <td>A</td>\n",
       "      <td>250</td>\n",
       "      <td>[0, 1, 0, 0, 0, 0, 0, 0, 0, 0, 0, 0, 0, 0, 0, ...</td>\n",
       "      <td>C:\\Users\\sebig\\Documents\\Code\\physionet-challe...</td>\n",
       "    </tr>\n",
       "    <tr>\n",
       "      <th>3</th>\n",
       "      <td>A0004</td>\n",
       "      <td>[0, 1, 0, 0, 0, 0, 0, 0, 0, 0, 0, 0, 0, 0, 0, ...</td>\n",
       "      <td>A</td>\n",
       "      <td>250</td>\n",
       "      <td>[0, 1, 0, 0, 0, 0, 0, 0, 0, 0, 0, 0, 0, 0, 0, ...</td>\n",
       "      <td>C:\\Users\\sebig\\Documents\\Code\\physionet-challe...</td>\n",
       "    </tr>\n",
       "    <tr>\n",
       "      <th>4</th>\n",
       "      <td>A0006</td>\n",
       "      <td>[0, 0, 0, 0, 0, 0, 0, 0, 0, 0, 0, 0, 0, 0, 0, ...</td>\n",
       "      <td>A</td>\n",
       "      <td>250</td>\n",
       "      <td>[0, 0, 0, 0, 1, 0, 0, 0, 0, 0, 0, 0, 0, 0, 0, ...</td>\n",
       "      <td>C:\\Users\\sebig\\Documents\\Code\\physionet-challe...</td>\n",
       "    </tr>\n",
       "  </tbody>\n",
       "</table>\n",
       "</div>"
      ],
      "text/plain": [
       "  filename                                             labels dataset   fs  \\\n",
       "0    A0001  [0, 0, 0, 0, 0, 0, 0, 0, 0, 0, 0, 0, 0, 0, 0, ...       A  250   \n",
       "1    A0002  [0, 0, 0, 0, 0, 0, 0, 0, 0, 0, 0, 0, 0, 0, 0, ...       A  250   \n",
       "2    A0003  [0, 1, 0, 0, 0, 0, 0, 0, 0, 0, 0, 0, 0, 0, 0, ...       A  250   \n",
       "3    A0004  [0, 1, 0, 0, 0, 0, 0, 0, 0, 0, 0, 0, 0, 0, 0, ...       A  250   \n",
       "4    A0006  [0, 0, 0, 0, 0, 0, 0, 0, 0, 0, 0, 0, 0, 0, 0, ...       A  250   \n",
       "\n",
       "                                       labels_merged  \\\n",
       "0  [0, 0, 0, 0, 1, 0, 0, 0, 0, 0, 0, 0, 0, 0, 0, ...   \n",
       "1  [0, 0, 0, 0, 0, 0, 0, 0, 0, 0, 0, 0, 0, 0, 0, ...   \n",
       "2  [0, 1, 0, 0, 0, 0, 0, 0, 0, 0, 0, 0, 0, 0, 0, ...   \n",
       "3  [0, 1, 0, 0, 0, 0, 0, 0, 0, 0, 0, 0, 0, 0, 0, ...   \n",
       "4  [0, 0, 0, 0, 1, 0, 0, 0, 0, 0, 0, 0, 0, 0, 0, ...   \n",
       "\n",
       "                                                path  \n",
       "0  C:\\Users\\sebig\\Documents\\Code\\physionet-challe...  \n",
       "1  C:\\Users\\sebig\\Documents\\Code\\physionet-challe...  \n",
       "2  C:\\Users\\sebig\\Documents\\Code\\physionet-challe...  \n",
       "3  C:\\Users\\sebig\\Documents\\Code\\physionet-challe...  \n",
       "4  C:\\Users\\sebig\\Documents\\Code\\physionet-challe...  "
      ]
     },
     "execution_count": 11,
     "metadata": {},
     "output_type": "execute_result"
    }
   ],
   "source": [
    "lookup = pd.DataFrame(lookup)\n",
    "lookup.head()"
   ]
  },
  {
   "cell_type": "markdown",
   "metadata": {},
   "source": [
    "#### A"
   ]
  },
  {
   "cell_type": "code",
   "execution_count": null,
   "metadata": {},
   "outputs": [],
   "source": [
    "# Get meta data files\n",
    "filenames = [file.split('.')[0] for file in os.listdir(os.path.join(DATA_PATH, 'A', 'formatted')) \n",
    "             if 'json' in file]\n",
    "\n",
    "# Get label for each file\n",
    "data_1 = {'filename': [], 'labels': []}\n",
    "for filename in filenames:\n",
    "    meta_data = json.load(open(os.path.join(DATA_PATH, 'physionet_2020_1', 'formatted', '{}.json'.format(filename))))\n",
    "    if meta_data['labels']:\n",
    "        data_1['filename'].append(filename)\n",
    "        data_1['labels'].append(meta_data['label_train'])\n",
    "\n",
    "# Combine\n",
    "data_1 = pd.DataFrame(data_1)\n",
    "\n",
    "# Add path\n",
    "data_1['path'] = data_1['filename'].map(lambda filename: os.path.join(DATA_PATH, 'physionet_2020_1', 'formatted', filename))\n",
    "\n",
    "# View DataFrame\n",
    "data_1.head()"
   ]
  },
  {
   "cell_type": "markdown",
   "metadata": {},
   "source": [
    "#### Tranche 2"
   ]
  },
  {
   "cell_type": "code",
   "execution_count": null,
   "metadata": {},
   "outputs": [],
   "source": [
    "# Get meta data files\n",
    "filenames = [file.split('.')[0] for file in os.listdir(os.path.join(DATA_PATH, 'physionet_2020_2', 'formatted')) \n",
    "             if 'json' in file]\n",
    "\n",
    "# Get label for each file\n",
    "data_2 = {'filename': [], 'labels': []}\n",
    "for filename in filenames:\n",
    "    meta_data = json.load(open(os.path.join(DATA_PATH, 'physionet_2020_2', 'formatted', '{}.json'.format(filename))))\n",
    "    if meta_data['labels']:\n",
    "        data_2['filename'].append(filename)\n",
    "        data_2['labels'].append(meta_data['label_train'])\n",
    "\n",
    "# Combine\n",
    "data_2 = pd.DataFrame(data_2)\n",
    "\n",
    "# Add path\n",
    "data_2['path'] = data_2['filename'].map(lambda filename: os.path.join(DATA_PATH, 'physionet_2020_2', 'formatted', filename))\n",
    "\n",
    "# View DataFrame\n",
    "data_2.head()"
   ]
  },
  {
   "cell_type": "markdown",
   "metadata": {},
   "source": [
    "#### Combine Tranche 1 and 2"
   ]
  },
  {
   "cell_type": "code",
   "execution_count": null,
   "metadata": {},
   "outputs": [],
   "source": [
    "# Merge\n",
    "data = pd.concat([data_1, data_2], ignore_index=True, axis=0).reset_index(drop=True)\n",
    "\n",
    "# View DataFrame\n",
    "data.head()"
   ]
  },
  {
   "cell_type": "markdown",
   "metadata": {},
   "source": [
    "## Split Data "
   ]
  },
  {
   "cell_type": "code",
   "execution_count": null,
   "metadata": {},
   "outputs": [],
   "source": [
    "# Split dataset into train/evaluate\n",
    "rmskf = MultilabelStratifiedKFold(n_splits=5, random_state=0)\n",
    "for train_index, val_index in rmskf.split(np.stack(data['labels'].values), np.stack(data['labels'].values)):\n",
    "    pass\n",
    "   \n",
    "# Lookup file\n",
    "training_lookup = {'train': data.loc[train_index, 'path'].tolist(), 'val': data.loc[val_index, 'path'].tolist()}"
   ]
  },
  {
   "cell_type": "markdown",
   "metadata": {},
   "source": [
    "# Save Lookup JSON"
   ]
  },
  {
   "cell_type": "code",
   "execution_count": null,
   "metadata": {},
   "outputs": [],
   "source": [
    "# Save file\n",
    "os.makedirs(os.path.join(DATA_PATH, 'deepecg'), exist_ok=True)\n",
    "with open(os.path.join(DATA_PATH, 'deepecg', 'training_lookup.json'), 'w') as file:\n",
    "    json.dump(training_lookup, file, sort_keys=True)"
   ]
  }
 ],
 "metadata": {
  "kernelspec": {
   "display_name": "Python 3",
   "language": "python",
   "name": "python3"
  },
  "language_info": {
   "codemirror_mode": {
    "name": "ipython",
    "version": 3
   },
   "file_extension": ".py",
   "mimetype": "text/x-python",
   "name": "python",
   "nbconvert_exporter": "python",
   "pygments_lexer": "ipython3",
   "version": "3.7.7"
  }
 },
 "nbformat": 4,
 "nbformat_minor": 2
}
