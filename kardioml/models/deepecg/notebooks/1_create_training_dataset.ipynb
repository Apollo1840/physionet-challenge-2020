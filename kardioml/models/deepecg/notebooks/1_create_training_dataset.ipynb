{
 "cells": [
  {
   "cell_type": "markdown",
   "metadata": {},
   "source": [
    "# PhysioNet/Computing in Cardiology Challenge 2020\n",
    "## Classification of 12-lead ECGs\n",
    "### 2. Create Training Dataset"
   ]
  },
  {
   "cell_type": "markdown",
   "metadata": {},
   "source": [
    "# Setup Noteboook"
   ]
  },
  {
   "cell_type": "code",
   "execution_count": null,
   "metadata": {},
   "outputs": [],
   "source": [
    "# Import 3rd party libraries\n",
    "import os\n",
    "import sys\n",
    "import json\n",
    "import random\n",
    "import numpy as np\n",
    "import pandas as pd\n",
    "from sklearn.model_selection import train_test_split\n",
    "from iterstrat.ml_stratifiers import MultilabelStratifiedKFold\n",
    "\n",
    "# Import local Libraries\n",
    "sys.path.insert(0, os.path.dirname(os.path.dirname(os.path.dirname(os.path.dirname(os.path.abspath(os.getcwd()))))))\n",
    "from kardioml import DATA_PATH\n",
    "\n",
    "# Configure Notebook\n",
    "import warnings\n",
    "warnings.filterwarnings('ignore')\n",
    "%matplotlib inline\n",
    "%load_ext autoreload\n",
    "%autoreload 2"
   ]
  },
  {
   "cell_type": "markdown",
   "metadata": {},
   "source": [
    "# Split Physionet 2020 Training Data\n",
    "## Create Training Lookup File\n",
    "#### Tranche 1"
   ]
  },
  {
   "cell_type": "code",
   "execution_count": null,
   "metadata": {},
   "outputs": [],
   "source": [
    "# Get meta data files\n",
    "filenames = [file.split('.')[0] for file in os.listdir(os.path.join(DATA_PATH, 'physionet_2020_1', 'formatted')) \n",
    "             if 'json' in file]\n",
    "\n",
    "# Get label for each file\n",
    "data_1 = {'filename': [], 'labels': []}\n",
    "for filename in filenames:\n",
    "    meta_data = json.load(open(os.path.join(DATA_PATH, 'physionet_2020_1', 'formatted', '{}.json'.format(filename))))\n",
    "    if meta_data['labels']:\n",
    "        data_1['filename'].append(filename)\n",
    "        data_1['labels'].append(meta_data['label_train'])\n",
    "\n",
    "# Combine\n",
    "data_1 = pd.DataFrame(data_1)\n",
    "\n",
    "# Add path\n",
    "data_1['path'] = data_1['filename'].map(lambda filename: os.path.join(DATA_PATH, 'physionet_2020_1', 'formatted', filename))\n",
    "\n",
    "# View DataFrame\n",
    "data_1.head()"
   ]
  },
  {
   "cell_type": "markdown",
   "metadata": {},
   "source": [
    "#### Tranche 2"
   ]
  },
  {
   "cell_type": "code",
   "execution_count": null,
   "metadata": {},
   "outputs": [],
   "source": [
    "# Get meta data files\n",
    "filenames = [file.split('.')[0] for file in os.listdir(os.path.join(DATA_PATH, 'physionet_2020_2', 'formatted')) \n",
    "             if 'json' in file]\n",
    "\n",
    "# Get label for each file\n",
    "data_2 = {'filename': [], 'labels': []}\n",
    "for filename in filenames:\n",
    "    meta_data = json.load(open(os.path.join(DATA_PATH, 'physionet_2020_2', 'formatted', '{}.json'.format(filename))))\n",
    "    if meta_data['labels']:\n",
    "        data_2['filename'].append(filename)\n",
    "        data_2['labels'].append(meta_data['label_train'])\n",
    "\n",
    "# Combine\n",
    "data_2 = pd.DataFrame(data_2)\n",
    "\n",
    "# Add path\n",
    "data_2['path'] = data_2['filename'].map(lambda filename: os.path.join(DATA_PATH, 'physionet_2020_2', 'formatted', filename))\n",
    "\n",
    "# View DataFrame\n",
    "data_2.head()"
   ]
  },
  {
   "cell_type": "markdown",
   "metadata": {},
   "source": [
    "#### Combine Tranche 1 and 2"
   ]
  },
  {
   "cell_type": "code",
   "execution_count": null,
   "metadata": {},
   "outputs": [],
   "source": [
    "# Merge\n",
    "data = pd.concat([data_1, data_2], ignore_index=True, axis=0).reset_index(drop=True)\n",
    "\n",
    "# View DataFrame\n",
    "data.head()"
   ]
  },
  {
   "cell_type": "markdown",
   "metadata": {},
   "source": [
    "## Split Data "
   ]
  },
  {
   "cell_type": "code",
   "execution_count": null,
   "metadata": {},
   "outputs": [],
   "source": [
    "# Split dataset into train/evaluate\n",
    "rmskf = MultilabelStratifiedKFold(n_splits=5, random_state=0)\n",
    "for train_index, val_index in rmskf.split(np.stack(data['labels'].values), np.stack(data['labels'].values)):\n",
    "    pass\n",
    "   \n",
    "# Lookup file\n",
    "training_lookup = {'train': data.loc[train_index, 'path'].tolist(), 'val': data.loc[val_index, 'path'].tolist()}"
   ]
  },
  {
   "cell_type": "markdown",
   "metadata": {},
   "source": [
    "# Add Augmentation Datasets\n",
    "## Zheng 2020"
   ]
  },
  {
   "cell_type": "code",
   "execution_count": null,
   "metadata": {},
   "outputs": [],
   "source": [
    "# Get file paths\n",
    "paths = [os.path.join(DATA_PATH, 'zheng_2020', 'formatted', file.split('.')[0]) \n",
    "         for file in os.listdir(os.path.join(DATA_PATH, 'zheng_2020', 'formatted')) if 'json' in file]\n",
    "\n",
    "# Add to lookup dictionary\n",
    "# training_lookup['train'].extend(paths)\n",
    "# random.shuffle(training_lookup['train'])\n",
    "# random.shuffle(training_lookup['train'])\n",
    "# random.shuffle(training_lookup['train'])\n",
    "# random.shuffle(training_lookup['train'])\n",
    "# random.shuffle(training_lookup['train'])"
   ]
  },
  {
   "cell_type": "markdown",
   "metadata": {},
   "source": [
    "# Save Lookup JSON"
   ]
  },
  {
   "cell_type": "code",
   "execution_count": null,
   "metadata": {},
   "outputs": [],
   "source": [
    "# Save file\n",
    "os.makedirs(os.path.join(DATA_PATH, 'deepecg'), exist_ok=True)\n",
    "with open(os.path.join(DATA_PATH, 'deepecg', 'training_lookup.json'), 'w') as file:\n",
    "    json.dump(training_lookup, file, sort_keys=True)"
   ]
  }
 ],
 "metadata": {
  "kernelspec": {
   "display_name": "Python 3",
   "language": "python",
   "name": "python3"
  },
  "language_info": {
   "codemirror_mode": {
    "name": "ipython",
    "version": 3
   },
   "file_extension": ".py",
   "mimetype": "text/x-python",
   "name": "python",
   "nbconvert_exporter": "python",
   "pygments_lexer": "ipython3",
   "version": "3.7.7"
  }
 },
 "nbformat": 4,
 "nbformat_minor": 2
}
