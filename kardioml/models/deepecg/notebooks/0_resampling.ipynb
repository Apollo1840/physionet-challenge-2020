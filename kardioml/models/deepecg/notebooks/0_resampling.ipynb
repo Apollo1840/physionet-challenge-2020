{
 "cells": [
  {
   "cell_type": "markdown",
   "metadata": {},
   "source": [
    "# PhysioNet/Computing in Cardiology Challenge 2020\n",
    "## Classification of 12-lead ECGs\n",
    "### 0. Resampling"
   ]
  },
  {
   "cell_type": "markdown",
   "metadata": {},
   "source": [
    "# Setup Noteboook"
   ]
  },
  {
   "cell_type": "code",
   "execution_count": 17,
   "metadata": {},
   "outputs": [
    {
     "name": "stdout",
     "output_type": "stream",
     "text": [
      "The autoreload extension is already loaded. To reload it, use:\n",
      "  %reload_ext autoreload\n"
     ]
    }
   ],
   "source": [
    "# Import 3rd party libraries\n",
    "import os\n",
    "import sys\n",
    "import json\n",
    "import shutil\n",
    "import random\n",
    "import numpy as np\n",
    "import pandas as pd\n",
    "from scipy import signal\n",
    "from joblib import Parallel, delayed\n",
    "\n",
    "# Import local Libraries\n",
    "sys.path.insert(0, os.path.dirname(os.path.dirname(os.path.dirname(os.path.dirname(os.path.abspath(os.getcwd()))))))\n",
    "from kardioml import DATA_PATH\n",
    "\n",
    "# Configure Notebook\n",
    "import warnings\n",
    "warnings.filterwarnings('ignore')\n",
    "%matplotlib inline\n",
    "%load_ext autoreload\n",
    "%autoreload 2"
   ]
  },
  {
   "cell_type": "code",
   "execution_count": 18,
   "metadata": {},
   "outputs": [],
   "source": [
    "def process_signal(path, filename, fs):\n",
    "    \n",
    "    # Import meta data\n",
    "    meta_data = json.load(open(os.path.join(path, 'formatted', '{}.json'.format(filename))))\n",
    "    meta_data['fs_training'] = fs\n",
    "    \n",
    "    # Import waveform\n",
    "    waveform = np.load(os.path.join(path, 'formatted', '{}.npy'.format(filename)))\n",
    "    \n",
    "    # Rescale\n",
    "    waveform = scale_waveforms(waveform=waveform, rpeaks=meta_data['rpeaks'])\n",
    "\n",
    "    # Resample waveform\n",
    "    samples = int(waveform.shape[0] * fs / meta_data['fs_resampled'])\n",
    "    waveform = signal.resample(x=waveform, num=samples, axis=0)\n",
    "    \n",
    "    # Save meta data\n",
    "    with open(os.path.join(path, str(fs), '{}.json'.format(filename)), 'w') as file:\n",
    "        json.dump(meta_data, file, sort_keys=False, indent=4)\n",
    "\n",
    "    # Save waveform data npy file\n",
    "    np.save(os.path.join(path, str(fs), '{}.npy'.format(filename)), waveform)\n",
    "    \n",
    "def scale_waveforms(waveform, rpeaks):\n",
    "    \"\"\"Get rpeaks for each channel and scale waveform amplitude by median rpeak amplitude of lead I.\"\"\"\n",
    "    if rpeaks:\n",
    "        for rpeak_array in rpeaks:\n",
    "            if rpeak_array:\n",
    "                return waveform / np.median(waveform[rpeaks[0], 0])\n",
    "    return (waveform - waveform.mean()) / waveform.std()"
   ]
  },
  {
   "cell_type": "code",
   "execution_count": 19,
   "metadata": {},
   "outputs": [],
   "source": [
    "# Set sample frequencies\n",
    "sample_frequencies = [350]\n",
    "\n",
    "# Set datasets\n",
    "datasets = ['A', 'B', 'D', 'E', 'F']\n",
    "\n",
    "# Loop through sample frequencies\n",
    "for fs in sample_frequencies:\n",
    "    \n",
    "    # Loop through datasets\n",
    "    for dataset in datasets:\n",
    "        \n",
    "        # Get filenames\n",
    "        filenames = [filename.split('.')[0] for filename in os.listdir(os.path.join(DATA_PATH, dataset, \n",
    "                                                                                    'formatted')) if 'json' in filename]\n",
    "        \n",
    "        # Create directory for formatted data\n",
    "        os.makedirs(os.path.join(DATA_PATH, dataset, str(fs)), exist_ok=True)\n",
    "        \n",
    "        # Loop through files\n",
    "        _ = Parallel(n_jobs=-1)(delayed(process_signal)(os.path.join(DATA_PATH, dataset), filename, fs) \n",
    "                                for filename in filenames)"
   ]
  }
 ],
 "metadata": {
  "kernelspec": {
   "display_name": "Python 3",
   "language": "python",
   "name": "python3"
  },
  "language_info": {
   "codemirror_mode": {
    "name": "ipython",
    "version": 3
   },
   "file_extension": ".py",
   "mimetype": "text/x-python",
   "name": "python",
   "nbconvert_exporter": "python",
   "pygments_lexer": "ipython3",
   "version": "3.6.9"
  }
 },
 "nbformat": 4,
 "nbformat_minor": 2
}
