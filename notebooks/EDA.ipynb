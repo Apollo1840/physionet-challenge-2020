{
 "cells": [
  {
   "cell_type": "code",
   "execution_count": 9,
   "metadata": {},
   "outputs": [],
   "source": [
    "import pandas as pd\n",
    "import numpy as np\n",
    "import os\n",
    "import scipy as sp\n",
    "import json\n",
    "import matplotlib.pyplot as plt \n",
    "import seaborn as sns"
   ]
  },
  {
   "cell_type": "markdown",
   "metadata": {},
   "source": [
    "# Load the data"
   ]
  },
  {
   "cell_type": "code",
   "execution_count": 10,
   "metadata": {},
   "outputs": [],
   "source": [
    "DATA_PATH = '../data/raw/'"
   ]
  },
  {
   "cell_type": "code",
   "execution_count": null,
   "metadata": {},
   "outputs": [],
   "source": [
    "meta = pd.read_csv(DATA_PATH+'A0001.hea')"
   ]
  },
  {
   "cell_type": "code",
   "execution_count": 12,
   "metadata": {},
   "outputs": [],
   "source": [
    "#get a list of files\n",
    "filenames = [file.split('.')[0] for file in os.listdir(DATA_PATH) if 'json' in file]\n",
    "\n",
    "# List of meta data\n",
    "meta_data_list = list()\n",
    "\n",
    "# Open files and extract meta data\n",
    "for filename in filenames:\n",
    "    \n",
    "    # Import meta dat\n",
    "    data = json.load(open(DATA_PATH+ f'{filename}.json'))\n",
    "    meta_data_list.append(data)\n",
    "    \n",
    "# Generate DataFrame\n",
    "meta_data = pd.DataFrame(meta_data_list)"
   ]
  },
  {
   "cell_type": "code",
   "execution_count": 13,
   "metadata": {},
   "outputs": [
    {
     "data": {
      "text/html": [
       "<div>\n",
       "<style scoped>\n",
       "    .dataframe tbody tr th:only-of-type {\n",
       "        vertical-align: middle;\n",
       "    }\n",
       "\n",
       "    .dataframe tbody tr th {\n",
       "        vertical-align: top;\n",
       "    }\n",
       "\n",
       "    .dataframe thead th {\n",
       "        text-align: right;\n",
       "    }\n",
       "</style>\n",
       "<table border=\"1\" class=\"dataframe\">\n",
       "  <thead>\n",
       "    <tr style=\"text-align: right;\">\n",
       "      <th></th>\n",
       "      <th>train</th>\n",
       "      <th>val</th>\n",
       "    </tr>\n",
       "  </thead>\n",
       "  <tbody>\n",
       "    <tr>\n",
       "      <th>0</th>\n",
       "      <td>[A0001, A0002, A0003, A0004, A0005, A0006, A00...</td>\n",
       "      <td>[A0013, A0019, A0020, A0031, A0039, A0040, A00...</td>\n",
       "    </tr>\n",
       "    <tr>\n",
       "      <th>1</th>\n",
       "      <td>[A0003, A0004, A0005, A0006, A0007, A0008, A00...</td>\n",
       "      <td>[A0001, A0002, A0017, A0029, A0030, A0044, A00...</td>\n",
       "    </tr>\n",
       "    <tr>\n",
       "      <th>2</th>\n",
       "      <td>[A0001, A0002, A0004, A0006, A0007, A0008, A00...</td>\n",
       "      <td>[A0003, A0005, A0009, A0010, A0011, A0012, A00...</td>\n",
       "    </tr>\n",
       "    <tr>\n",
       "      <th>3</th>\n",
       "      <td>[A0001, A0002, A0003, A0004, A0005, A0006, A00...</td>\n",
       "      <td>[A0008, A0016, A0021, A0033, A0036, A0038, A00...</td>\n",
       "    </tr>\n",
       "    <tr>\n",
       "      <th>4</th>\n",
       "      <td>[A0001, A0002, A0003, A0005, A0008, A0009, A00...</td>\n",
       "      <td>[A0004, A0006, A0007, A0014, A0015, A0024, A00...</td>\n",
       "    </tr>\n",
       "  </tbody>\n",
       "</table>\n",
       "</div>"
      ],
      "text/plain": [
       "                                               train  \\\n",
       "0  [A0001, A0002, A0003, A0004, A0005, A0006, A00...   \n",
       "1  [A0003, A0004, A0005, A0006, A0007, A0008, A00...   \n",
       "2  [A0001, A0002, A0004, A0006, A0007, A0008, A00...   \n",
       "3  [A0001, A0002, A0003, A0004, A0005, A0006, A00...   \n",
       "4  [A0001, A0002, A0003, A0005, A0008, A0009, A00...   \n",
       "\n",
       "                                                 val  \n",
       "0  [A0013, A0019, A0020, A0031, A0039, A0040, A00...  \n",
       "1  [A0001, A0002, A0017, A0029, A0030, A0044, A00...  \n",
       "2  [A0003, A0005, A0009, A0010, A0011, A0012, A00...  \n",
       "3  [A0008, A0016, A0021, A0033, A0036, A0038, A00...  \n",
       "4  [A0004, A0006, A0007, A0014, A0015, A0024, A00...  "
      ]
     },
     "execution_count": 13,
     "metadata": {},
     "output_type": "execute_result"
    }
   ],
   "source": [
    "meta_data.head(10)"
   ]
  },
  {
   "cell_type": "code",
   "execution_count": 19,
   "metadata": {},
   "outputs": [
    {
     "data": {
      "text/plain": [
       "'A0003'"
      ]
     },
     "execution_count": 19,
     "metadata": {},
     "output_type": "execute_result"
    }
   ],
   "source": [
    "meta_data['train'].values[1][0]"
   ]
  },
  {
   "cell_type": "markdown",
   "metadata": {},
   "source": [
    "# Initial colclusions: "
   ]
  },
  {
   "cell_type": "markdown",
   "metadata": {},
   "source": []
  },
  {
   "cell_type": "markdown",
   "metadata": {},
   "source": [
    "# Ideas: "
   ]
  },
  {
   "cell_type": "markdown",
   "metadata": {},
   "source": [
    "1. Create a script with inital pre-processing:\n",
    "    1. split by folds\n",
    "    2. add signal processing (remove low-freq trend #?\n",
    "    3. scaling #?\n",
    "    4. angular sofrmtax?\n",
    "    5. MAE/MSE metric?\n",
    "    6. combined loss?"
   ]
  },
  {
   "cell_type": "markdown",
   "metadata": {},
   "source": [
    "# Plan: "
   ]
  },
  {
   "cell_type": "markdown",
   "metadata": {},
   "source": [
    "1. "
   ]
  }
 ],
 "metadata": {
  "kernelspec": {
   "display_name": "Python 3",
   "language": "python",
   "name": "python3"
  },
  "language_info": {
   "codemirror_mode": {
    "name": "ipython",
    "version": 3
   },
   "file_extension": ".py",
   "mimetype": "text/x-python",
   "name": "python",
   "nbconvert_exporter": "python",
   "pygments_lexer": "ipython3",
   "version": "3.7.7"
  }
 },
 "nbformat": 4,
 "nbformat_minor": 4
}
