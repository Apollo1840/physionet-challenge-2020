{
 "cells": [
  {
   "cell_type": "code",
   "execution_count": 2,
   "metadata": {},
   "outputs": [],
   "source": [
    "import pandas as pd\n",
    "import numpy as np\n",
    "import seaborn as sns\n",
    "import json\n",
    "import os\n",
    "import gc\n",
    "from tqdm import tqdm\n",
    "import matplotlib.pyplot as plt"
   ]
  },
  {
   "cell_type": "code",
   "execution_count": 14,
   "metadata": {},
   "outputs": [],
   "source": [
    "#DATASETS = ['A','B','C','D','E','F']\n",
    "DATASETS = ['A','B','D','E']\n",
    "datalist = []\n",
    "\n",
    "for dataset in DATASETS:\n",
    "    files = [i[:-4] for i in os.listdir(f'../data/{dataset}/formatted/') if i.find('.npy')!=-1]\n",
    "    for file in files:\n",
    "        datalist.append(f'../data/{dataset}/formatted/'+file)\n",
    "\n"
   ]
  },
  {
   "cell_type": "markdown",
   "metadata": {},
   "source": [
    "# Check the length fits json and numpy"
   ]
  },
  {
   "cell_type": "code",
   "execution_count": 15,
   "metadata": {},
   "outputs": [
    {
     "name": "stderr",
     "output_type": "stream",
     "text": [
      "100%|██████████| 32683/32683 [03:15<00:00, 167.02it/s]\n"
     ]
    }
   ],
   "source": [
    "for data in tqdm(datalist):\n",
    "    signal = np.load(data+'.npy')\n",
    "    meta = json.load(open(data+'.json'))\n",
    "    \n",
    "    if meta['shape'][0] != signal.shape[0]:\n",
    "        break\n",
    "    "
   ]
  },
  {
   "cell_type": "markdown",
   "metadata": {},
   "source": [
    "# Check the length distribution, all datasets"
   ]
  },
  {
   "cell_type": "code",
   "execution_count": null,
   "metadata": {},
   "outputs": [
    {
     "name": "stderr",
     "output_type": "stream",
     "text": [
      "  7%|▋         | 2202/32683 [00:12<02:53, 175.23it/s]"
     ]
    }
   ],
   "source": [
    "length_list = []\n",
    "exclusions = []\n",
    "exclusions_labels = []\n",
    "exclusions_digits = []\n",
    "\n",
    "for data in tqdm(datalist):\n",
    "    meta = json.load(open(data+'.json'))\n",
    "    if meta['labels_training_merged'] is None:\n",
    "        continue\n",
    "    if meta['shape'][0] > 38000:\n",
    "        file_name = data.split('/')     \n",
    "        exclusions.append(file_name[-1])\n",
    "        exclusions_labels.append(meta['labels_full'])\n",
    "        exclusions_digits.append(meta['labels_training_merged'])\n",
    "    length_list.append(meta['shape'][0])\n",
    "\n",
    "    \n",
    "sns.distplot(length_list)"
   ]
  },
  {
   "cell_type": "code",
   "execution_count": 21,
   "metadata": {},
   "outputs": [
    {
     "data": {
      "text/plain": [
       "[<matplotlib.lines.Line2D at 0x7faa38f19fd0>]"
      ]
     },
     "execution_count": 21,
     "metadata": {},
     "output_type": "execute_result"
    },
    {
     "data": {
      "image/png": "[encoded data removed]",
      "text/plain": [
       "<Figure size 432x288 with 1 Axes>"
      ]
     },
     "metadata": {
      "needs_background": "light"
     },
     "output_type": "display_data"
    }
   ],
   "source": [
    "hist = np.histogram(length_list,2000)\n",
    "plt.plot(hist[1][:-1][:100],hist[0])"
   ]
  },
  {
   "cell_type": "code",
   "execution_count": 31,
   "metadata": {},
   "outputs": [
    {
     "data": {
      "text/plain": [
       "38000.0"
      ]
     },
     "execution_count": 31,
     "metadata": {},
     "output_type": "execute_result"
    }
   ],
   "source": [
    "np.percentile(length_list,99)"
   ]
  },
  {
   "cell_type": "markdown",
   "metadata": {},
   "source": [
    "# Check distribution of classes, calculate weights"
   ]
  },
  {
   "cell_type": "code",
   "execution_count": 5,
   "metadata": {},
   "outputs": [
    {
     "name": "stderr",
     "output_type": "stream",
     "text": [
      "100%|██████████| 6877/6877 [00:38<00:00, 179.30it/s]\n"
     ]
    }
   ],
   "source": [
    "labels = []\n",
    "\n",
    "for data in tqdm(datalist):\n",
    "    meta = json.load(open(data+'.json'))\n",
    "    if meta['shape'][0] > 38000:\n",
    "        continue\n",
    "    elif meta['labels_training_merged'] is None:\n",
    "        continue\n",
    "    else:\n",
    "        labels.append(meta['labels_training_merged'])\n",
    "    \n",
    "\n",
    "    \n",
    "labels = np.array(labels)"
   ]
  },
  {
   "cell_type": "code",
   "execution_count": 13,
   "metadata": {},
   "outputs": [
    {
     "data": {
      "text/plain": [
       "[0.13184772516248838,\n",
       " 0.21875580315691737,\n",
       " 0.0,\n",
       " 0.0,\n",
       " 0.33593314763231197,\n",
       " 0.0,\n",
       " 0.0,\n",
       " 0.0,\n",
       " 0.04271123491179202,\n",
       " 0.0,\n",
       " 0.0,\n",
       " 0.0,\n",
       " 0.10306406685236769,\n",
       " 0.0,\n",
       " 0.0,\n",
       " 0.0,\n",
       " 0.0,\n",
       " 0.0,\n",
       " 0.0,\n",
       " 0.0,\n",
       " 0.0,\n",
       " 0.16768802228412255,\n",
       " 0.0,\n",
       " 0.0,\n",
       " 0.0,\n",
       " 0.0,\n",
       " 0.0]"
      ]
     },
     "execution_count": 13,
     "metadata": {},
     "output_type": "execute_result"
    }
   ],
   "source": [
    "weights = np.sum(labels,axis=0)\n",
    "weights = weights / np.sum(weights)\n",
    "weights.tolist()"
   ]
  },
  {
   "cell_type": "code",
   "execution_count": null,
   "metadata": {},
   "outputs": [],
   "source": []
  }
 ],
 "metadata": {
  "kernelspec": {
   "display_name": "Python 3",
   "language": "python",
   "name": "python3"
  },
  "language_info": {
   "codemirror_mode": {
    "name": "ipython",
    "version": 3
   },
   "file_extension": ".py",
   "mimetype": "text/x-python",
   "name": "python",
   "nbconvert_exporter": "python",
   "pygments_lexer": "ipython3",
   "version": "3.7.7"
  }
 },
 "nbformat": 4,
 "nbformat_minor": 4
}
