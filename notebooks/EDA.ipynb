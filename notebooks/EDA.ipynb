{
 "cells": [
  {
   "cell_type": "code",
   "execution_count": 15,
   "metadata": {},
   "outputs": [],
   "source": [
    "import pandas as pd\n",
    "import numpy as np\n",
    "import os\n",
    "import scipy as sp\n",
    "import json\n",
    "import matplotlib.pyplot as plt \n",
    "import seaborn as sns\n",
    "import biosppy"
   ]
  },
  {
   "cell_type": "markdown",
   "metadata": {},
   "source": [
    "# Load the data"
   ]
  },
  {
   "cell_type": "code",
   "execution_count": 4,
   "metadata": {},
   "outputs": [],
   "source": [
    "DATA_PATH = '../data/formatted/'"
   ]
  },
  {
   "cell_type": "code",
   "execution_count": 5,
   "metadata": {},
   "outputs": [
    {
     "data": {
      "text/html": [
       "<div>\n",
       "<style scoped>\n",
       "    .dataframe tbody tr th:only-of-type {\n",
       "        vertical-align: middle;\n",
       "    }\n",
       "\n",
       "    .dataframe tbody tr th {\n",
       "        vertical-align: top;\n",
       "    }\n",
       "\n",
       "    .dataframe thead th {\n",
       "        text-align: right;\n",
       "    }\n",
       "</style>\n",
       "<table border=\"1\" class=\"dataframe\">\n",
       "  <thead>\n",
       "    <tr style=\"text-align: right;\">\n",
       "      <th></th>\n",
       "      <th>age</th>\n",
       "      <th>channel_order</th>\n",
       "      <th>filename</th>\n",
       "      <th>hr</th>\n",
       "      <th>label_train</th>\n",
       "      <th>labels</th>\n",
       "      <th>labels_full</th>\n",
       "      <th>labels_int</th>\n",
       "      <th>sex</th>\n",
       "      <th>shape</th>\n",
       "    </tr>\n",
       "  </thead>\n",
       "  <tbody>\n",
       "    <tr>\n",
       "      <th>0</th>\n",
       "      <td>54</td>\n",
       "      <td>[I, II, III, aVR, aVL, aVF, V1, V2, V3, V4, V5...</td>\n",
       "      <td>A2652</td>\n",
       "      <td>57.0316</td>\n",
       "      <td>[0, 0, 0, 0, 1, 0, 1, 0, 0]</td>\n",
       "      <td>[RBBB, PAC]</td>\n",
       "      <td>[Right bundle branch block, Premature atrial c...</td>\n",
       "      <td>[6, 4]</td>\n",
       "      <td>Male</td>\n",
       "      <td>[12, 8680]</td>\n",
       "    </tr>\n",
       "    <tr>\n",
       "      <th>1</th>\n",
       "      <td>68</td>\n",
       "      <td>[I, II, III, aVR, aVL, aVF, V1, V2, V3, V4, V5...</td>\n",
       "      <td>A4228</td>\n",
       "      <td>59.4477</td>\n",
       "      <td>[0, 0, 0, 1, 0, 0, 0, 0, 0]</td>\n",
       "      <td>[Normal]</td>\n",
       "      <td>[Normal sinus rhythm]</td>\n",
       "      <td>[3]</td>\n",
       "      <td>Male</td>\n",
       "      <td>[12, 5000]</td>\n",
       "    </tr>\n",
       "    <tr>\n",
       "      <th>2</th>\n",
       "      <td>40</td>\n",
       "      <td>[I, II, III, aVR, aVL, aVF, V1, V2, V3, V4, V5...</td>\n",
       "      <td>A2889</td>\n",
       "      <td>68.4375</td>\n",
       "      <td>[0, 0, 0, 0, 0, 0, 1, 0, 0]</td>\n",
       "      <td>[RBBB]</td>\n",
       "      <td>[Right bundle branch block]</td>\n",
       "      <td>[6]</td>\n",
       "      <td>Male</td>\n",
       "      <td>[12, 15500]</td>\n",
       "    </tr>\n",
       "    <tr>\n",
       "      <th>3</th>\n",
       "      <td>83</td>\n",
       "      <td>[I, II, III, aVR, aVL, aVF, V1, V2, V3, V4, V5...</td>\n",
       "      <td>A6312</td>\n",
       "      <td>163.366</td>\n",
       "      <td>[0, 0, 0, 0, 1, 0, 0, 0, 0]</td>\n",
       "      <td>[PAC]</td>\n",
       "      <td>[Premature atrial complex]</td>\n",
       "      <td>[4]</td>\n",
       "      <td>Male</td>\n",
       "      <td>[12, 5000]</td>\n",
       "    </tr>\n",
       "    <tr>\n",
       "      <th>4</th>\n",
       "      <td>22</td>\n",
       "      <td>[I, II, III, aVR, aVL, aVF, V1, V2, V3, V4, V5...</td>\n",
       "      <td>A5549</td>\n",
       "      <td>81.3458</td>\n",
       "      <td>[0, 0, 0, 0, 0, 0, 1, 0, 0]</td>\n",
       "      <td>[RBBB]</td>\n",
       "      <td>[Right bundle branch block]</td>\n",
       "      <td>[6]</td>\n",
       "      <td>Female</td>\n",
       "      <td>[12, 11000]</td>\n",
       "    </tr>\n",
       "    <tr>\n",
       "      <th>5</th>\n",
       "      <td>54</td>\n",
       "      <td>[I, II, III, aVR, aVL, aVF, V1, V2, V3, V4, V5...</td>\n",
       "      <td>A4279</td>\n",
       "      <td>124.549</td>\n",
       "      <td>[1, 0, 0, 0, 0, 0, 0, 0, 0]</td>\n",
       "      <td>[AF]</td>\n",
       "      <td>[Atrial fibrillation]</td>\n",
       "      <td>[0]</td>\n",
       "      <td>Female</td>\n",
       "      <td>[12, 11000]</td>\n",
       "    </tr>\n",
       "    <tr>\n",
       "      <th>6</th>\n",
       "      <td>86</td>\n",
       "      <td>[I, II, III, aVR, aVL, aVF, V1, V2, V3, V4, V5...</td>\n",
       "      <td>A3857</td>\n",
       "      <td>88.2573</td>\n",
       "      <td>[0, 1, 0, 0, 0, 0, 0, 0, 0]</td>\n",
       "      <td>[I-AVB]</td>\n",
       "      <td>[First-degree atrioventricular block]</td>\n",
       "      <td>[1]</td>\n",
       "      <td>Male</td>\n",
       "      <td>[12, 5000]</td>\n",
       "    </tr>\n",
       "    <tr>\n",
       "      <th>7</th>\n",
       "      <td>28</td>\n",
       "      <td>[I, II, III, aVR, aVL, aVF, V1, V2, V3, V4, V5...</td>\n",
       "      <td>A0577</td>\n",
       "      <td>87.7704</td>\n",
       "      <td>[0, 0, 0, 0, 0, 0, 1, 0, 0]</td>\n",
       "      <td>[RBBB]</td>\n",
       "      <td>[Right bundle branch block]</td>\n",
       "      <td>[6]</td>\n",
       "      <td>Female</td>\n",
       "      <td>[12, 8055]</td>\n",
       "    </tr>\n",
       "    <tr>\n",
       "      <th>8</th>\n",
       "      <td>39</td>\n",
       "      <td>[I, II, III, aVR, aVL, aVF, V1, V2, V3, V4, V5...</td>\n",
       "      <td>A2824</td>\n",
       "      <td>73.2207</td>\n",
       "      <td>[0, 0, 0, 1, 0, 0, 0, 0, 0]</td>\n",
       "      <td>[Normal]</td>\n",
       "      <td>[Normal sinus rhythm]</td>\n",
       "      <td>[3]</td>\n",
       "      <td>Female</td>\n",
       "      <td>[12, 5000]</td>\n",
       "    </tr>\n",
       "    <tr>\n",
       "      <th>9</th>\n",
       "      <td>65</td>\n",
       "      <td>[I, II, III, aVR, aVL, aVF, V1, V2, V3, V4, V5...</td>\n",
       "      <td>A5921</td>\n",
       "      <td>67.0791</td>\n",
       "      <td>[0, 0, 0, 0, 0, 0, 1, 0, 0]</td>\n",
       "      <td>[RBBB]</td>\n",
       "      <td>[Right bundle branch block]</td>\n",
       "      <td>[6]</td>\n",
       "      <td>Male</td>\n",
       "      <td>[12, 5500]</td>\n",
       "    </tr>\n",
       "  </tbody>\n",
       "</table>\n",
       "</div>"
      ],
      "text/plain": [
       "  age                                      channel_order filename       hr  \\\n",
       "0  54  [I, II, III, aVR, aVL, aVF, V1, V2, V3, V4, V5...    A2652  57.0316   \n",
       "1  68  [I, II, III, aVR, aVL, aVF, V1, V2, V3, V4, V5...    A4228  59.4477   \n",
       "2  40  [I, II, III, aVR, aVL, aVF, V1, V2, V3, V4, V5...    A2889  68.4375   \n",
       "3  83  [I, II, III, aVR, aVL, aVF, V1, V2, V3, V4, V5...    A6312  163.366   \n",
       "4  22  [I, II, III, aVR, aVL, aVF, V1, V2, V3, V4, V5...    A5549  81.3458   \n",
       "5  54  [I, II, III, aVR, aVL, aVF, V1, V2, V3, V4, V5...    A4279  124.549   \n",
       "6  86  [I, II, III, aVR, aVL, aVF, V1, V2, V3, V4, V5...    A3857  88.2573   \n",
       "7  28  [I, II, III, aVR, aVL, aVF, V1, V2, V3, V4, V5...    A0577  87.7704   \n",
       "8  39  [I, II, III, aVR, aVL, aVF, V1, V2, V3, V4, V5...    A2824  73.2207   \n",
       "9  65  [I, II, III, aVR, aVL, aVF, V1, V2, V3, V4, V5...    A5921  67.0791   \n",
       "\n",
       "                   label_train       labels  \\\n",
       "0  [0, 0, 0, 0, 1, 0, 1, 0, 0]  [RBBB, PAC]   \n",
       "1  [0, 0, 0, 1, 0, 0, 0, 0, 0]     [Normal]   \n",
       "2  [0, 0, 0, 0, 0, 0, 1, 0, 0]       [RBBB]   \n",
       "3  [0, 0, 0, 0, 1, 0, 0, 0, 0]        [PAC]   \n",
       "4  [0, 0, 0, 0, 0, 0, 1, 0, 0]       [RBBB]   \n",
       "5  [1, 0, 0, 0, 0, 0, 0, 0, 0]         [AF]   \n",
       "6  [0, 1, 0, 0, 0, 0, 0, 0, 0]      [I-AVB]   \n",
       "7  [0, 0, 0, 0, 0, 0, 1, 0, 0]       [RBBB]   \n",
       "8  [0, 0, 0, 1, 0, 0, 0, 0, 0]     [Normal]   \n",
       "9  [0, 0, 0, 0, 0, 0, 1, 0, 0]       [RBBB]   \n",
       "\n",
       "                                         labels_full labels_int     sex  \\\n",
       "0  [Right bundle branch block, Premature atrial c...     [6, 4]    Male   \n",
       "1                              [Normal sinus rhythm]        [3]    Male   \n",
       "2                        [Right bundle branch block]        [6]    Male   \n",
       "3                         [Premature atrial complex]        [4]    Male   \n",
       "4                        [Right bundle branch block]        [6]  Female   \n",
       "5                              [Atrial fibrillation]        [0]  Female   \n",
       "6              [First-degree atrioventricular block]        [1]    Male   \n",
       "7                        [Right bundle branch block]        [6]  Female   \n",
       "8                              [Normal sinus rhythm]        [3]  Female   \n",
       "9                        [Right bundle branch block]        [6]    Male   \n",
       "\n",
       "         shape  \n",
       "0   [12, 8680]  \n",
       "1   [12, 5000]  \n",
       "2  [12, 15500]  \n",
       "3   [12, 5000]  \n",
       "4  [12, 11000]  \n",
       "5  [12, 11000]  \n",
       "6   [12, 5000]  \n",
       "7   [12, 8055]  \n",
       "8   [12, 5000]  \n",
       "9   [12, 5500]  "
      ]
     },
     "execution_count": 5,
     "metadata": {},
     "output_type": "execute_result"
    }
   ],
   "source": [
    "#get a list of files\n",
    "filenames = [file.split('.')[0] for file in os.listdir(DATA_PATH) if 'json' in file]\n",
    "\n",
    "# List of meta data\n",
    "meta_data_list = list()\n",
    "\n",
    "# Open files and extract meta data\n",
    "for filename in filenames:\n",
    "    \n",
    "    # Import meta dat\n",
    "    data = json.load(open(DATA_PATH+ f'{filename}.json'))\n",
    "    meta_data_list.append(data)\n",
    "    \n",
    "# Generate DataFrame\n",
    "meta_data = pd.DataFrame(meta_data_list)\n",
    "\n",
    "meta_data.head(10)"
   ]
  },
  {
   "cell_type": "code",
   "execution_count": 13,
   "metadata": {},
   "outputs": [],
   "source": [
    "shapes = meta_data['shape'].values\n",
    "\n",
    "m_0 = np.inf\n",
    "m_1 = 0\n",
    "\n",
    "for i in range(shapes.shape[0]):\n",
    "    if shapes[i][0] < m_0:\n",
    "        m_0 = shapes[i][0]\n",
    "    if shapes[i][1] > m_1:\n",
    "        m_1 = shapes[i][1]"
   ]
  },
  {
   "cell_type": "code",
   "execution_count": 14,
   "metadata": {},
   "outputs": [
    {
     "name": "stdout",
     "output_type": "stream",
     "text": [
      "Min number of channels:  12\n",
      "Max number of samples:  72000\n"
     ]
    }
   ],
   "source": [
    "print('Min number of channels: ',m_0)\n",
    "print('Max number of samples: ',m_1)"
   ]
  },
  {
   "cell_type": "code",
   "execution_count": 18,
   "metadata": {},
   "outputs": [],
   "source": [
    "record_id = 0\n",
    "df = meta_data.copy()\n",
    "\n",
    "ecg = np.load(DATA_PATH+df['filename'].values[record_id]+'.npy')"
   ]
  },
  {
   "cell_type": "code",
   "execution_count": 19,
   "metadata": {},
   "outputs": [
    {
     "data": {
      "text/plain": [
       "(12, 8680)"
      ]
     },
     "execution_count": 19,
     "metadata": {},
     "output_type": "execute_result"
    }
   ],
   "source": [
    "ecg.shape"
   ]
  },
  {
   "cell_type": "code",
   "execution_count": 21,
   "metadata": {},
   "outputs": [
    {
     "ename": "ValueError",
     "evalue": "x, y, and format string must not be None",
     "output_type": "error",
     "traceback": [
      "\u001b[0;31m---------------------------------------------------------------------------\u001b[0m",
      "\u001b[0;31mValueError\u001b[0m                                Traceback (most recent call last)",
      "\u001b[0;32m<ipython-input-21-d210f6c90d86>\u001b[0m in \u001b[0;36m<module>\u001b[0;34m\u001b[0m\n\u001b[1;32m      4\u001b[0m     \u001b[0;32mreturn\u001b[0m \u001b[0;36m0\u001b[0m\u001b[0;34m\u001b[0m\u001b[0;34m\u001b[0m\u001b[0m\n\u001b[1;32m      5\u001b[0m \u001b[0;34m\u001b[0m\u001b[0m\n\u001b[0;32m----> 6\u001b[0;31m \u001b[0mplot_record\u001b[0m\u001b[0;34m(\u001b[0m\u001b[0mrecord_id\u001b[0m\u001b[0;34m=\u001b[0m\u001b[0;36m0\u001b[0m\u001b[0;34m,\u001b[0m\u001b[0mdf\u001b[0m\u001b[0;34m=\u001b[0m\u001b[0mmeta_data\u001b[0m\u001b[0;34m)\u001b[0m\u001b[0;34m\u001b[0m\u001b[0;34m\u001b[0m\u001b[0m\n\u001b[0m",
      "\u001b[0;32m<ipython-input-21-d210f6c90d86>\u001b[0m in \u001b[0;36mplot_record\u001b[0;34m(record_id, df)\u001b[0m\n\u001b[1;32m      1\u001b[0m \u001b[0;32mdef\u001b[0m \u001b[0mplot_record\u001b[0m\u001b[0;34m(\u001b[0m\u001b[0mrecord_id\u001b[0m\u001b[0;34m,\u001b[0m\u001b[0mdf\u001b[0m\u001b[0;34m)\u001b[0m\u001b[0;34m:\u001b[0m\u001b[0;34m\u001b[0m\u001b[0;34m\u001b[0m\u001b[0m\n\u001b[1;32m      2\u001b[0m     \u001b[0mecg\u001b[0m \u001b[0;34m=\u001b[0m \u001b[0mnp\u001b[0m\u001b[0;34m.\u001b[0m\u001b[0mload\u001b[0m\u001b[0;34m(\u001b[0m\u001b[0mDATA_PATH\u001b[0m\u001b[0;34m+\u001b[0m\u001b[0mdf\u001b[0m\u001b[0;34m[\u001b[0m\u001b[0;34m'filename'\u001b[0m\u001b[0;34m]\u001b[0m\u001b[0;34m.\u001b[0m\u001b[0mvalues\u001b[0m\u001b[0;34m[\u001b[0m\u001b[0mrecord_id\u001b[0m\u001b[0;34m]\u001b[0m\u001b[0;34m+\u001b[0m\u001b[0;34m'.npy'\u001b[0m\u001b[0;34m)\u001b[0m\u001b[0;34m\u001b[0m\u001b[0;34m\u001b[0m\u001b[0m\n\u001b[0;32m----> 3\u001b[0;31m     \u001b[0mbiosppy\u001b[0m\u001b[0;34m.\u001b[0m\u001b[0mplotting\u001b[0m\u001b[0;34m.\u001b[0m\u001b[0mplot_ecg\u001b[0m\u001b[0;34m(\u001b[0m\u001b[0mts\u001b[0m\u001b[0;34m=\u001b[0m\u001b[0mnp\u001b[0m\u001b[0;34m.\u001b[0m\u001b[0marange\u001b[0m\u001b[0;34m(\u001b[0m\u001b[0mecg\u001b[0m\u001b[0;34m.\u001b[0m\u001b[0mshape\u001b[0m\u001b[0;34m[\u001b[0m\u001b[0;36m1\u001b[0m\u001b[0;34m]\u001b[0m\u001b[0;34m)\u001b[0m\u001b[0;34m,\u001b[0m\u001b[0mfiltered\u001b[0m\u001b[0;34m=\u001b[0m\u001b[0mecg\u001b[0m\u001b[0;34m)\u001b[0m\u001b[0;34m\u001b[0m\u001b[0;34m\u001b[0m\u001b[0m\n\u001b[0m\u001b[1;32m      4\u001b[0m     \u001b[0;32mreturn\u001b[0m \u001b[0;36m0\u001b[0m\u001b[0;34m\u001b[0m\u001b[0;34m\u001b[0m\u001b[0m\n\u001b[1;32m      5\u001b[0m \u001b[0;34m\u001b[0m\u001b[0m\n",
      "\u001b[0;32m~/anaconda3/envs/tf_gpu/lib/python3.7/site-packages/biosppy/plotting.py\u001b[0m in \u001b[0;36mplot_ecg\u001b[0;34m(ts, raw, filtered, rpeaks, templates_ts, templates, heart_rate_ts, heart_rate, path, show)\u001b[0m\n\u001b[1;32m    912\u001b[0m     \u001b[0max1\u001b[0m \u001b[0;34m=\u001b[0m \u001b[0mfig\u001b[0m\u001b[0;34m.\u001b[0m\u001b[0madd_subplot\u001b[0m\u001b[0;34m(\u001b[0m\u001b[0mgs\u001b[0m\u001b[0;34m[\u001b[0m\u001b[0;34m:\u001b[0m\u001b[0;36m2\u001b[0m\u001b[0;34m,\u001b[0m \u001b[0;36m0\u001b[0m\u001b[0;34m]\u001b[0m\u001b[0;34m)\u001b[0m\u001b[0;34m\u001b[0m\u001b[0;34m\u001b[0m\u001b[0m\n\u001b[1;32m    913\u001b[0m \u001b[0;34m\u001b[0m\u001b[0m\n\u001b[0;32m--> 914\u001b[0;31m     \u001b[0max1\u001b[0m\u001b[0;34m.\u001b[0m\u001b[0mplot\u001b[0m\u001b[0;34m(\u001b[0m\u001b[0mts\u001b[0m\u001b[0;34m,\u001b[0m \u001b[0mraw\u001b[0m\u001b[0;34m,\u001b[0m \u001b[0mlinewidth\u001b[0m\u001b[0;34m=\u001b[0m\u001b[0mMAJOR_LW\u001b[0m\u001b[0;34m,\u001b[0m \u001b[0mlabel\u001b[0m\u001b[0;34m=\u001b[0m\u001b[0;34m'Raw'\u001b[0m\u001b[0;34m)\u001b[0m\u001b[0;34m\u001b[0m\u001b[0;34m\u001b[0m\u001b[0m\n\u001b[0m\u001b[1;32m    915\u001b[0m \u001b[0;34m\u001b[0m\u001b[0m\n\u001b[1;32m    916\u001b[0m     \u001b[0max1\u001b[0m\u001b[0;34m.\u001b[0m\u001b[0mset_ylabel\u001b[0m\u001b[0;34m(\u001b[0m\u001b[0;34m'Amplitude'\u001b[0m\u001b[0;34m)\u001b[0m\u001b[0;34m\u001b[0m\u001b[0;34m\u001b[0m\u001b[0m\n",
      "\u001b[0;32m~/anaconda3/envs/tf_gpu/lib/python3.7/site-packages/matplotlib/axes/_axes.py\u001b[0m in \u001b[0;36mplot\u001b[0;34m(self, scalex, scaley, data, *args, **kwargs)\u001b[0m\n\u001b[1;32m   1644\u001b[0m         \"\"\"\n\u001b[1;32m   1645\u001b[0m         \u001b[0mkwargs\u001b[0m \u001b[0;34m=\u001b[0m \u001b[0mcbook\u001b[0m\u001b[0;34m.\u001b[0m\u001b[0mnormalize_kwargs\u001b[0m\u001b[0;34m(\u001b[0m\u001b[0mkwargs\u001b[0m\u001b[0;34m,\u001b[0m \u001b[0mmlines\u001b[0m\u001b[0;34m.\u001b[0m\u001b[0mLine2D\u001b[0m\u001b[0;34m)\u001b[0m\u001b[0;34m\u001b[0m\u001b[0;34m\u001b[0m\u001b[0m\n\u001b[0;32m-> 1646\u001b[0;31m         \u001b[0mlines\u001b[0m \u001b[0;34m=\u001b[0m \u001b[0;34m[\u001b[0m\u001b[0;34m*\u001b[0m\u001b[0mself\u001b[0m\u001b[0;34m.\u001b[0m\u001b[0m_get_lines\u001b[0m\u001b[0;34m(\u001b[0m\u001b[0;34m*\u001b[0m\u001b[0margs\u001b[0m\u001b[0;34m,\u001b[0m \u001b[0mdata\u001b[0m\u001b[0;34m=\u001b[0m\u001b[0mdata\u001b[0m\u001b[0;34m,\u001b[0m \u001b[0;34m**\u001b[0m\u001b[0mkwargs\u001b[0m\u001b[0;34m)\u001b[0m\u001b[0;34m]\u001b[0m\u001b[0;34m\u001b[0m\u001b[0;34m\u001b[0m\u001b[0m\n\u001b[0m\u001b[1;32m   1647\u001b[0m         \u001b[0;32mfor\u001b[0m \u001b[0mline\u001b[0m \u001b[0;32min\u001b[0m \u001b[0mlines\u001b[0m\u001b[0;34m:\u001b[0m\u001b[0;34m\u001b[0m\u001b[0;34m\u001b[0m\u001b[0m\n\u001b[1;32m   1648\u001b[0m             \u001b[0mself\u001b[0m\u001b[0;34m.\u001b[0m\u001b[0madd_line\u001b[0m\u001b[0;34m(\u001b[0m\u001b[0mline\u001b[0m\u001b[0;34m)\u001b[0m\u001b[0;34m\u001b[0m\u001b[0;34m\u001b[0m\u001b[0m\n",
      "\u001b[0;32m~/anaconda3/envs/tf_gpu/lib/python3.7/site-packages/matplotlib/axes/_base.py\u001b[0m in \u001b[0;36m__call__\u001b[0;34m(self, *args, **kwargs)\u001b[0m\n\u001b[1;32m    214\u001b[0m                 \u001b[0mthis\u001b[0m \u001b[0;34m+=\u001b[0m \u001b[0margs\u001b[0m\u001b[0;34m[\u001b[0m\u001b[0;36m0\u001b[0m\u001b[0;34m]\u001b[0m\u001b[0;34m,\u001b[0m\u001b[0;34m\u001b[0m\u001b[0;34m\u001b[0m\u001b[0m\n\u001b[1;32m    215\u001b[0m                 \u001b[0margs\u001b[0m \u001b[0;34m=\u001b[0m \u001b[0margs\u001b[0m\u001b[0;34m[\u001b[0m\u001b[0;36m1\u001b[0m\u001b[0;34m:\u001b[0m\u001b[0;34m]\u001b[0m\u001b[0;34m\u001b[0m\u001b[0;34m\u001b[0m\u001b[0m\n\u001b[0;32m--> 216\u001b[0;31m             \u001b[0;32myield\u001b[0m \u001b[0;32mfrom\u001b[0m \u001b[0mself\u001b[0m\u001b[0;34m.\u001b[0m\u001b[0m_plot_args\u001b[0m\u001b[0;34m(\u001b[0m\u001b[0mthis\u001b[0m\u001b[0;34m,\u001b[0m \u001b[0mkwargs\u001b[0m\u001b[0;34m)\u001b[0m\u001b[0;34m\u001b[0m\u001b[0;34m\u001b[0m\u001b[0m\n\u001b[0m\u001b[1;32m    217\u001b[0m \u001b[0;34m\u001b[0m\u001b[0m\n\u001b[1;32m    218\u001b[0m     \u001b[0;32mdef\u001b[0m \u001b[0mget_next_color\u001b[0m\u001b[0;34m(\u001b[0m\u001b[0mself\u001b[0m\u001b[0;34m)\u001b[0m\u001b[0;34m:\u001b[0m\u001b[0;34m\u001b[0m\u001b[0;34m\u001b[0m\u001b[0m\n",
      "\u001b[0;32m~/anaconda3/envs/tf_gpu/lib/python3.7/site-packages/matplotlib/axes/_base.py\u001b[0m in \u001b[0;36m_plot_args\u001b[0;34m(self, tup, kwargs)\u001b[0m\n\u001b[1;32m    320\u001b[0m         \u001b[0;31m# element array of None which causes problems downstream.\u001b[0m\u001b[0;34m\u001b[0m\u001b[0;34m\u001b[0m\u001b[0;34m\u001b[0m\u001b[0m\n\u001b[1;32m    321\u001b[0m         \u001b[0;32mif\u001b[0m \u001b[0many\u001b[0m\u001b[0;34m(\u001b[0m\u001b[0mv\u001b[0m \u001b[0;32mis\u001b[0m \u001b[0;32mNone\u001b[0m \u001b[0;32mfor\u001b[0m \u001b[0mv\u001b[0m \u001b[0;32min\u001b[0m \u001b[0mtup\u001b[0m\u001b[0;34m)\u001b[0m\u001b[0;34m:\u001b[0m\u001b[0;34m\u001b[0m\u001b[0;34m\u001b[0m\u001b[0m\n\u001b[0;32m--> 322\u001b[0;31m             \u001b[0;32mraise\u001b[0m \u001b[0mValueError\u001b[0m\u001b[0;34m(\u001b[0m\u001b[0;34m\"x, y, and format string must not be None\"\u001b[0m\u001b[0;34m)\u001b[0m\u001b[0;34m\u001b[0m\u001b[0;34m\u001b[0m\u001b[0m\n\u001b[0m\u001b[1;32m    323\u001b[0m \u001b[0;34m\u001b[0m\u001b[0m\n\u001b[1;32m    324\u001b[0m         \u001b[0mkw\u001b[0m \u001b[0;34m=\u001b[0m \u001b[0;34m{\u001b[0m\u001b[0;34m}\u001b[0m\u001b[0;34m\u001b[0m\u001b[0;34m\u001b[0m\u001b[0m\n",
      "\u001b[0;31mValueError\u001b[0m: x, y, and format string must not be None"
     ]
    },
    {
     "data": {
      "image/png": "[encoded data removed]",
      "text/plain": [
       "<Figure size 432x288 with 1 Axes>"
      ]
     },
     "metadata": {
      "needs_background": "light"
     },
     "output_type": "display_data"
    }
   ],
   "source": [
    "def plot_record(record_id,df):\n",
    "    ecg = np.load(DATA_PATH+df['filename'].values[record_id]+'.npy')\n",
    "    biosppy.plotting.plot_ecg(ts=np.arange(ecg.shape[1]),filtered=ecg)\n",
    "    return 0\n",
    "\n",
    "plot_record(record_id=0,df=meta_data)"
   ]
  },
  {
   "cell_type": "markdown",
   "metadata": {},
   "source": [
    "# Ideas: "
   ]
  },
  {
   "cell_type": "markdown",
   "metadata": {},
   "source": [
    "1. Create a script with inital pre-processing:\n",
    "    1. split by folds\n",
    "    2. add signal processing (remove low-freq trend #?\n",
    "    3. scaling #?\n",
    "    4. angular sofrmtax?\n",
    "    5. MAE/MSE metric?\n",
    "    6. combined loss?"
   ]
  },
  {
   "cell_type": "markdown",
   "metadata": {},
   "source": [
    "# Plan: "
   ]
  },
  {
   "cell_type": "markdown",
   "metadata": {},
   "source": [
    "1. "
   ]
  }
 ],
 "metadata": {
  "kernelspec": {
   "display_name": "Python 3",
   "language": "python",
   "name": "python3"
  },
  "language_info": {
   "codemirror_mode": {
    "name": "ipython",
    "version": 3
   },
   "file_extension": ".py",
   "mimetype": "text/x-python",
   "name": "python",
   "nbconvert_exporter": "python",
   "pygments_lexer": "ipython3",
   "version": "3.7.7"
  }
 },
 "nbformat": 4,
 "nbformat_minor": 4
}
