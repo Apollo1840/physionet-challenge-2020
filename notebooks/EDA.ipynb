{
 "cells": [
  {
   "cell_type": "code",
   "execution_count": 1,
   "metadata": {},
   "outputs": [
    {
     "name": "stdout",
     "output_type": "stream",
     "text": [
      "/home/dmitriishubin/Desktop/physionet-challenge-2020\n"
     ]
    }
   ],
   "source": [
    "cd .."
   ]
  },
  {
   "cell_type": "code",
   "execution_count": 2,
   "metadata": {},
   "outputs": [],
   "source": [
    "import pandas as pd\n",
    "import numpy as np\n",
    "import seaborn as sns\n",
    "import json\n",
    "import os\n",
    "import gc\n",
    "from tqdm import tqdm\n",
    "import matplotlib.pyplot as plt\n",
    "\n",
    "from kardioml.data.p_t_wave_detector import PTWaveDetection"
   ]
  },
  {
   "cell_type": "code",
   "execution_count": 3,
   "metadata": {},
   "outputs": [],
   "source": [
    "%matplotlib qt"
   ]
  },
  {
   "cell_type": "code",
   "execution_count": 5,
   "metadata": {},
   "outputs": [],
   "source": [
    "#DATASETS = ['A','B','C','D','E','F']\n",
    "DATASETS = ['A','B','D','E'] #current for training\n",
    "#DATASETS = ['F']\n",
    "datalist = []\n",
    "\n",
    "for dataset in DATASETS:\n",
    "    files = [i[:-4] for i in os.listdir(f'./data/{dataset}/formatted/') if i.find('.npy')!=-1]\n",
    "    for file in files:\n",
    "        datalist.append(f'./data/{dataset}/formatted/'+file)\n",
    "\n"
   ]
  },
  {
   "cell_type": "markdown",
   "metadata": {},
   "source": [
    "# Check the length fits json and numpy"
   ]
  },
  {
   "cell_type": "code",
   "execution_count": null,
   "metadata": {},
   "outputs": [],
   "source": [
    "for data in tqdm(datalist):\n",
    "    signal = np.load(data+'.npy')\n",
    "    meta = json.load(open(data+'.json'))\n",
    "    \n",
    "    if meta['shape'][0] != signal.shape[0]:\n",
    "        break\n",
    "    "
   ]
  },
  {
   "cell_type": "markdown",
   "metadata": {},
   "source": [
    "# Check the length distribution, all datasets"
   ]
  },
  {
   "cell_type": "code",
   "execution_count": null,
   "metadata": {},
   "outputs": [],
   "source": [
    "length_list = []\n",
    "exclusions = []\n",
    "exclusions_labels = []\n",
    "exclusions_digits = []\n",
    "\n",
    "for data in tqdm(datalist):\n",
    "    meta = json.load(open(data+'.json'))\n",
    "    if meta['labels_training_merged'] is None:\n",
    "        continue\n",
    "    if meta['shape'][0] > 38000:\n",
    "        file_name = data.split('/')     \n",
    "        exclusions.append(file_name[-1])\n",
    "        exclusions_labels.append(meta['labels_full'])\n",
    "        exclusions_digits.append(meta['labels_training_merged'])\n",
    "    length_list.append(meta['shape'][0])\n",
    "\n",
    "    \n",
    "sns.distplot(length_list)"
   ]
  },
  {
   "cell_type": "code",
   "execution_count": null,
   "metadata": {},
   "outputs": [],
   "source": [
    "hist = np.histogram(length_list,2000)\n",
    "plt.plot(hist[1][:-1][:100],hist[0])"
   ]
  },
  {
   "cell_type": "code",
   "execution_count": null,
   "metadata": {},
   "outputs": [],
   "source": [
    "np.percentile(length_list,99)"
   ]
  },
  {
   "cell_type": "markdown",
   "metadata": {},
   "source": [
    "# Check distribution of classes, calculate weights"
   ]
  },
  {
   "cell_type": "code",
   "execution_count": null,
   "metadata": {},
   "outputs": [],
   "source": [
    "labels = []\n",
    "\n",
    "for data in tqdm(datalist):\n",
    "    meta = json.load(open(data+'.json'))\n",
    "    if meta['shape'][0] > 38000:\n",
    "        continue\n",
    "    elif meta['labels_training_merged'] is None:\n",
    "        continue\n",
    "    else:\n",
    "        labels.append(meta['labels_training_merged'])\n",
    "    \n",
    "\n",
    "    \n",
    "labels = np.array(labels)"
   ]
  },
  {
   "cell_type": "code",
   "execution_count": null,
   "metadata": {},
   "outputs": [],
   "source": [
    "weights = np.sum(labels,axis=0)\n",
    "weights = weights/np.max(weights)\n",
    "weights = 1/weights\n",
    "weights\n",
    "#weights = weights/np.max(weights)\n",
    "weights.tolist()"
   ]
  },
  {
   "cell_type": "markdown",
   "metadata": {},
   "source": [
    "# Checking PT detector perfomance"
   ]
  },
  {
   "cell_type": "code",
   "execution_count": 38,
   "metadata": {},
   "outputs": [
    {
     "name": "stderr",
     "output_type": "stream",
     "text": [
      " 27%|██▋       | 3/11 [00:00<00:00, 15.29it/s]"
     ]
    },
    {
     "name": "stdout",
     "output_type": "stream",
     "text": [
      "===================\n",
      "./data/F/formatted/E06964\n",
      "['ventricular premature beats', 'prolonged qt interval']\n",
      "===================\n",
      "===================\n",
      "./data/F/formatted/E00805\n",
      "['sinus rhythm']\n",
      "===================\n"
     ]
    },
    {
     "name": "stderr",
     "output_type": "stream",
     "text": [
      " 82%|████████▏ | 9/11 [00:00<00:00, 19.47it/s]"
     ]
    },
    {
     "name": "stdout",
     "output_type": "stream",
     "text": [
      "===================\n",
      "./data/F/formatted/E09754\n",
      "['left axis deviation']\n",
      "===================\n",
      "===================\n",
      "./data/F/formatted/E09218\n",
      "['left axis deviation']\n",
      "===================\n",
      "===================\n",
      "./data/F/formatted/E07023\n",
      "['1st degree av block', 'sinus bradycardia']\n",
      "===================\n",
      "===================\n",
      "./data/F/formatted/E08959\n",
      "['premature atrial contraction', 'premature atrial contraction']\n",
      "===================\n"
     ]
    },
    {
     "name": "stderr",
     "output_type": "stream",
     "text": [
      "100%|██████████| 11/11 [00:00<00:00, 20.48it/s]"
     ]
    },
    {
     "name": "stdout",
     "output_type": "stream",
     "text": [
      "===================\n",
      "./data/F/formatted/E07619\n",
      "['t wave abnormal', 'bradycardia']\n",
      "===================\n",
      "===================\n",
      "./data/F/formatted/E05312\n",
      "['prolonged qt interval', 'atrial fibrillation', 't wave abnormal']\n",
      "===================\n"
     ]
    },
    {
     "name": "stderr",
     "output_type": "stream",
     "text": [
      "\n"
     ]
    }
   ],
   "source": [
    "data_range = np.arange(len(datalist))[0:11].tolist()\n",
    "\n",
    "datalist_sub = [i for index,i in enumerate(datalist) if index in data_range]\n",
    "\n",
    "\n",
    "for data in tqdm(datalist_sub):\n",
    "    meta = json.load(open(data+'.json'))\n",
    "    if meta['shape'][0] > 38000:\n",
    "        continue\n",
    "    elif meta['labels_training_merged'] is None:\n",
    "        continue\n",
    "    else:\n",
    "        signal = np.load(data+'.npy')\n",
    "        \n",
    "        \n",
    "        fig = plt.figure(figsize=(20,10))\n",
    "        for i in range(12):\n",
    "            channel = signal[:,i]\n",
    "            plt.plot(channel+i*500)\n",
    "            plt.plot(meta['p_waves'][i],channel[meta['p_waves'][i]]+i*500,'*')\n",
    "            plt.plot(meta['t_waves'][i],channel[meta['t_waves'][i]]+i*500,'*')\n",
    "        plt.show()\n",
    "        plt.title(str(meta['labels_full'])+' | '+data)\n",
    "        print('===================')\n",
    "        print(data)\n",
    "        print(meta['labels_full'])\n",
    "        print('===================')\n",
    "        if data == '../data/A/formatted/A2091':\n",
    "            break"
   ]
  },
  {
   "cell_type": "code",
   "execution_count": null,
   "metadata": {},
   "outputs": [],
   "source": []
  }
 ],
 "metadata": {
  "kernelspec": {
   "display_name": "Python 3",
   "language": "python",
   "name": "python3"
  },
  "language_info": {
   "codemirror_mode": {
    "name": "ipython",
    "version": 3
   },
   "file_extension": ".py",
   "mimetype": "text/x-python",
   "name": "python",
   "nbconvert_exporter": "python",
   "pygments_lexer": "ipython3",
   "version": "3.7.7"
  }
 },
 "nbformat": 4,
 "nbformat_minor": 4
}
