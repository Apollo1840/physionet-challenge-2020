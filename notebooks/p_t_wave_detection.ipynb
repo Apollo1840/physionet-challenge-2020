{
 "cells": [
  {
   "cell_type": "code",
   "execution_count": 1,
   "metadata": {},
   "outputs": [
    {
     "name": "stdout",
     "output_type": "stream",
     "text": [
      "/HDD/ECG_physionet\n"
     ]
    }
   ],
   "source": [
    "cd .."
   ]
  },
  {
   "cell_type": "code",
   "execution_count": 2,
   "metadata": {},
   "outputs": [],
   "source": [
    "import pandas as pd\n",
    "import numpy as np\n",
    "import seaborn as sns\n",
    "import json\n",
    "import os\n",
    "import gc\n",
    "from tqdm import tqdm\n",
    "import matplotlib.pyplot as plt\n",
    "\n",
    "from p_t_wave_detection import PTWaveDetection\n",
    "from resampling import Resampling"
   ]
  },
  {
   "cell_type": "code",
   "execution_count": 3,
   "metadata": {},
   "outputs": [],
   "source": [
    "%matplotlib qt"
   ]
  },
  {
   "cell_type": "code",
   "execution_count": 4,
   "metadata": {},
   "outputs": [
    {
     "name": "stderr",
     "output_type": "stream",
     "text": [
      "  0%|          | 0/5913 [00:00<?, ?it/s]"
     ]
    },
    {
     "name": "stdout",
     "output_type": "stream",
     "text": [
      "Start processing...\n"
     ]
    },
    {
     "name": "stderr",
     "output_type": "stream",
     "text": [
      "\n"
     ]
    },
    {
     "ename": "ValueError",
     "evalue": "max() arg is an empty sequence",
     "output_type": "error",
     "traceback": [
      "\u001b[0;31m---------------------------------------------------------------------------\u001b[0m",
      "\u001b[0;31mValueError\u001b[0m                                Traceback (most recent call last)",
      "\u001b[0;32m<ipython-input-4-de91adce46f4>\u001b[0m in \u001b[0;36m<module>\u001b[0;34m\u001b[0m\n\u001b[1;32m     38\u001b[0m     \u001b[0;31m#data = resampling.upsample(data[:,0],2)\u001b[0m\u001b[0;34m\u001b[0m\u001b[0;34m\u001b[0m\u001b[0;34m\u001b[0m\u001b[0m\n\u001b[1;32m     39\u001b[0m \u001b[0;34m\u001b[0m\u001b[0m\n\u001b[0;32m---> 40\u001b[0;31m     \u001b[0mtwaves\u001b[0m\u001b[0;34m,\u001b[0m\u001b[0mpwaves\u001b[0m \u001b[0;34m=\u001b[0m \u001b[0mextract_waves\u001b[0m\u001b[0;34m.\u001b[0m\u001b[0mrun\u001b[0m\u001b[0;34m(\u001b[0m\u001b[0mdata\u001b[0m\u001b[0;34m[\u001b[0m\u001b[0;36m0\u001b[0m\u001b[0;34m,\u001b[0m\u001b[0;34m:\u001b[0m\u001b[0;34m]\u001b[0m\u001b[0;34m,\u001b[0m\u001b[0mrpeaks\u001b[0m\u001b[0;34m)\u001b[0m\u001b[0;34m\u001b[0m\u001b[0;34m\u001b[0m\u001b[0m\n\u001b[0m\u001b[1;32m     41\u001b[0m     \u001b[0;31m#data_p = extract_waves.run(data[:,0],rpeaks)\u001b[0m\u001b[0;34m\u001b[0m\u001b[0;34m\u001b[0m\u001b[0;34m\u001b[0m\u001b[0m\n\u001b[1;32m     42\u001b[0m \u001b[0;34m\u001b[0m\u001b[0m\n",
      "\u001b[0;32m/HDD/ECG_physionet/p_t_wave_detection.py\u001b[0m in \u001b[0;36mrun\u001b[0;34m(self, X, rpeaks)\u001b[0m\n\u001b[1;32m     62\u001b[0m \u001b[0;34m\u001b[0m\u001b[0m\n\u001b[1;32m     63\u001b[0m             \u001b[0mPR\u001b[0m \u001b[0;34m/=\u001b[0m \u001b[0mmax\u001b[0m\u001b[0;34m(\u001b[0m\u001b[0mPR\u001b[0m\u001b[0;34m)\u001b[0m\u001b[0;34m\u001b[0m\u001b[0;34m\u001b[0m\u001b[0m\n\u001b[0;32m---> 64\u001b[0;31m             \u001b[0mRT\u001b[0m \u001b[0;34m/=\u001b[0m \u001b[0mmax\u001b[0m\u001b[0;34m(\u001b[0m\u001b[0mRT\u001b[0m\u001b[0;34m)\u001b[0m\u001b[0;34m\u001b[0m\u001b[0;34m\u001b[0m\u001b[0m\n\u001b[0m\u001b[1;32m     65\u001b[0m \u001b[0;34m\u001b[0m\u001b[0m\n\u001b[1;32m     66\u001b[0m             \u001b[0mT_wave\u001b[0m\u001b[0;34m,\u001b[0m \u001b[0m_\u001b[0m \u001b[0;34m=\u001b[0m \u001b[0mpeakdet\u001b[0m\u001b[0;34m(\u001b[0m\u001b[0mRT\u001b[0m\u001b[0;34m,\u001b[0m \u001b[0;36m1\u001b[0m \u001b[0;34m/\u001b[0m \u001b[0;36m6\u001b[0m\u001b[0;34m)\u001b[0m\u001b[0;34m\u001b[0m\u001b[0;34m\u001b[0m\u001b[0m\n",
      "\u001b[0;31mValueError\u001b[0m: max() arg is an empty sequence"
     ]
    }
   ],
   "source": [
    "extract_waves = PTWaveDetection()\n",
    "resampling = Resampling()\n",
    "\n",
    "DATA_PATH = './data/A/formatted/'\n",
    "\n",
    "list_records = [record for record in os.listdir(DATA_PATH) if record.find('.json') != -1]\n",
    "\n",
    "age = []\n",
    "gender = []\n",
    "label = []\n",
    "shape = []\n",
    "n_channels = []\n",
    "\n",
    "labels_SNOMEDCT = []\n",
    "labels = []\n",
    "labels_full = []\n",
    "\n",
    "j = 0\n",
    "print('Start processing...')\n",
    "for record in tqdm(list_records):\n",
    "    meta = json.load(open(DATA_PATH + record))\n",
    "    data = np.load(DATA_PATH + record[:-4]+'npy')\n",
    "    #data *= meta['amp_conversion']\n",
    "    \n",
    "    if meta['age'] == 'NaN':\n",
    "        meta['age'] = -1\n",
    "    \n",
    "    if meta['labels_SNOMEDCT'] is None:\n",
    "        meta['labels_SNOMEDCT'] = []\n",
    "    if meta['labels'] is None:\n",
    "        meta['labels'] = []\n",
    "    if meta['labels_full'] is None:\n",
    "        meta['labels_full'] = []\n",
    "    \n",
    "    \n",
    "    rpeaks = meta['rpeaks'][0]\n",
    "    \n",
    "    #data = resampling.upsample(data[:,0],2)\n",
    "    \n",
    "    twaves,pwaves = extract_waves.run(data[0,:],rpeaks)\n",
    "    #data_p = extract_waves.run(data[:,0],rpeaks)\n",
    "    \n",
    "    j+=1\n",
    "    if j ==6:\n",
    "        plt.plot(data[:,0])\n",
    "        #plt.plot(data_p)\n",
    "        plt.plot(twaves[:,0],twaves[:,1],'o')\n",
    "        plt.plot(pwaves[:,0],pwaves[:,1],'o')\n",
    "        plt.legend(['Raw data','T waves','P waves'])\n",
    "        break"
   ]
  },
  {
   "cell_type": "code",
   "execution_count": 5,
   "metadata": {},
   "outputs": [
    {
     "data": {
      "text/plain": [
       "array([ 1, 12, 11, ...,  7, -2, -3], dtype=int16)"
      ]
     },
     "execution_count": 5,
     "metadata": {},
     "output_type": "execute_result"
    }
   ],
   "source": [
    "data[:,0]"
   ]
  },
  {
   "cell_type": "code",
   "execution_count": null,
   "metadata": {},
   "outputs": [],
   "source": []
  }
 ],
 "metadata": {
  "kernelspec": {
   "display_name": "Python 3.7.7 64-bit ('tf_gpu': conda)",
   "language": "python",
   "name": "python37764bittfgpuconda65e251bb915b4afb913cb977bb5f684e"
  },
  "language_info": {
   "codemirror_mode": {
    "name": "ipython",
    "version": 3
   },
   "file_extension": ".py",
   "mimetype": "text/x-python",
   "name": "python",
   "nbconvert_exporter": "python",
   "pygments_lexer": "ipython3",
   "version": "3.7.7"
  }
 },
 "nbformat": 4,
 "nbformat_minor": 4
}
