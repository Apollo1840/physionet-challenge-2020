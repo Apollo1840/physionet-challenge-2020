{
 "cells": [
  {
   "cell_type": "code",
   "execution_count": null,
   "metadata": {},
   "outputs": [],
   "source": [
    "cd .."
   ]
  },
  {
   "cell_type": "code",
   "execution_count": 2,
   "metadata": {},
   "outputs": [],
   "source": [
    "import pandas as pd\n",
    "import numpy as np\n",
    "import seaborn as sns\n",
    "import json\n",
    "import os\n",
    "import gc\n",
    "from tqdm import tqdm\n",
    "import matplotlib.pyplot as plt\n",
    "\n",
    "from p_t_wave_detection import PTWaveDetection"
   ]
  },
  {
   "cell_type": "code",
   "execution_count": 3,
   "metadata": {},
   "outputs": [],
   "source": [
    "%matplotlib qt"
   ]
  },
  {
   "cell_type": "code",
   "execution_count": 4,
   "metadata": {},
   "outputs": [
    {
     "name": "stderr",
     "output_type": "stream",
     "text": [
      "  0%|          | 0/6877 [00:00<?, ?it/s]"
     ]
    },
    {
     "name": "stdout",
     "output_type": "stream",
     "text": [
      "Start processing...\n"
     ]
    },
    {
     "name": "stderr",
     "output_type": "stream",
     "text": [
      "  0%|          | 5/6877 [00:00<13:22,  8.56it/s]\n"
     ]
    }
   ],
   "source": [
    "extract_waves = PTWaveDetection()\n",
    "\n",
    "DATA_PATH = './data/A/formatted/'\n",
    "\n",
    "list_records = [record for record in os.listdir(DATA_PATH) if record.find('.json') != -1]\n",
    "\n",
    "age = []\n",
    "gender = []\n",
    "label = []\n",
    "shape = []\n",
    "n_channels = []\n",
    "\n",
    "labels_SNOMEDCT = []\n",
    "labels = []\n",
    "labels_full = []\n",
    "\n",
    "j = 0\n",
    "print('Start processing...')\n",
    "for record in tqdm(list_records):\n",
    "    meta = json.load(open(DATA_PATH + record))\n",
    "    data = np.load(DATA_PATH + record[:-4]+'npy')\n",
    "    #data *= meta['amp_conversion']\n",
    "    \n",
    "    if meta['age'] == 'NaN':\n",
    "        meta['age'] = -1\n",
    "    \n",
    "    if meta['labels_SNOMEDCT'] is None:\n",
    "        meta['labels_SNOMEDCT'] = []\n",
    "    if meta['labels'] is None:\n",
    "        meta['labels'] = []\n",
    "    if meta['labels_full'] is None:\n",
    "        meta['labels_full'] = []\n",
    "    \n",
    "    \n",
    "    rpeaks = meta['rpeaks'][0]\n",
    "    \n",
    "    \n",
    "    twaves,pwaves,data_p = extract_waves.run(data[:,0],rpeaks)\n",
    "    #data_p = extract_waves.run(data[:,0],rpeaks)\n",
    "    \n",
    "    j+=1\n",
    "    if j ==6:\n",
    "        plt.plot(data[:,0])\n",
    "        #plt.plot(data_p)\n",
    "        plt.plot(twaves[:,0],twaves[:,1],'o')\n",
    "        plt.plot(pwaves[:,0],pwaves[:,1],'o')\n",
    "        plt.legend(['Raw data','T waves','P waves'])\n",
    "        break"
   ]
  },
  {
   "cell_type": "code",
   "execution_count": 5,
   "metadata": {},
   "outputs": [
    {
     "data": {
      "text/plain": [
       "['atrial fibrillation']"
      ]
     },
     "execution_count": 5,
     "metadata": {},
     "output_type": "execute_result"
    }
   ],
   "source": [
    "meta['labels_full']"
   ]
  },
  {
   "cell_type": "code",
   "execution_count": null,
   "metadata": {},
   "outputs": [],
   "source": []
  }
 ],
 "metadata": {
  "kernelspec": {
   "display_name": "Python 3.7.7 64-bit ('tf_gpu': conda)",
   "language": "python",
   "name": "python37764bittfgpuconda65e251bb915b4afb913cb977bb5f684e"
  },
  "language_info": {
   "codemirror_mode": {
    "name": "ipython",
    "version": 3
   },
   "file_extension": ".py",
   "mimetype": "text/x-python",
   "name": "python",
   "nbconvert_exporter": "python",
   "pygments_lexer": "ipython3",
   "version": "3.7.7"
  }
 },
 "nbformat": 4,
 "nbformat_minor": 4
}
