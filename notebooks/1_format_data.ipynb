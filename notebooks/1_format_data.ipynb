{
 "cells": [
  {
   "cell_type": "markdown",
   "metadata": {},
   "source": [
    "# PhysioNet/Computing in Cardiology Challenge 2020\n",
    "## Classification of 12-lead ECGs\n",
    "### 1. Download and format dataset"
   ]
  },
  {
   "cell_type": "markdown",
   "metadata": {},
   "source": [
    "# Setup Notebook"
   ]
  },
  {
   "cell_type": "code",
   "execution_count": 1,
   "metadata": {},
   "outputs": [],
   "source": [
    "# Import 3rd party libraries\n",
    "import os\n",
    "import sys\n",
    "\n",
    "# Import local Libraries\n",
    "sys.path.insert(0, os.path.dirname(os.path.abspath(os.getcwd())))\n",
    "from kardioml.data.format_data_physionet_2020 import FormatDataPhysionet2020\n",
    "from kardioml.data.format_data_zheng_2020 import FormatDataZheng2020\n",
    "\n",
    "# Configure Notebook\n",
    "import warnings\n",
    "warnings.filterwarnings('ignore')\n",
    "%matplotlib inline\n",
    "%load_ext autoreload\n",
    "%autoreload 2"
   ]
  },
  {
   "cell_type": "markdown",
   "metadata": {},
   "source": [
    "# Download and Format Dataset\n",
    "## Physionet 2020\n",
    "### Tranche 1 (February 7, 2020)"
   ]
  },
  {
   "cell_type": "code",
   "execution_count": 4,
   "metadata": {},
   "outputs": [
    {
     "name": "stdout",
     "output_type": "stream",
     "text": [
      "Formatting Physionet2020 dataset...\n",
      "Extracting dataset...\n"
     ]
    }
   ],
   "source": [
    "# Initialize data formater\n",
    "data = FormatDataPhysionet2020(tranche=1)\n",
    "\n",
    "# Run format process\n",
    "data.format(extract=True, debug=False)"
   ]
  },
  {
   "cell_type": "markdown",
   "metadata": {},
   "source": [
    "### Tranche 2 (May 20, 2020)"
   ]
  },
  {
   "cell_type": "code",
   "execution_count": 5,
   "metadata": {
    "scrolled": false
   },
   "outputs": [
    {
     "name": "stdout",
     "output_type": "stream",
     "text": [
      "Formatting Physionet2020 dataset...\n",
      "Extracting dataset...\n"
     ]
    }
   ],
   "source": [
    "# Initialize data formater\n",
    "data = FormatDataPhysionet2020(tranche=2)\n",
    "\n",
    "# Run format process\n",
    "data.format(extract=True, debug=False)"
   ]
  },
  {
   "cell_type": "markdown",
   "metadata": {},
   "source": [
    "## Zheng et al. (2019)\n",
    "### https://figshare.com/collections/ChapmanECG/4560497/2"
   ]
  },
  {
   "cell_type": "code",
   "execution_count": null,
   "metadata": {},
   "outputs": [],
   "source": [
    "# Initialize data formater\n",
    "data = FormatDataZheng2020()\n",
    "\n",
    "# Run format process\n",
    "data.format(extract=False, debug=False)"
   ]
  }
 ],
 "metadata": {
  "kernelspec": {
   "display_name": "Python 3",
   "language": "python",
   "name": "python3"
  },
  "language_info": {
   "codemirror_mode": {
    "name": "ipython",
    "version": 3
   },
   "file_extension": ".py",
   "mimetype": "text/x-python",
   "name": "python",
   "nbconvert_exporter": "python",
   "pygments_lexer": "ipython3",
   "version": "3.6.9"
  }
 },
 "nbformat": 4,
 "nbformat_minor": 4
}
