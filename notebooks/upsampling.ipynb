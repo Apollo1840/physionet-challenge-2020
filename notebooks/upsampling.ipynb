{
 "cells": [
  {
   "cell_type": "code",
   "execution_count": 1,
   "metadata": {},
   "outputs": [
    {
     "name": "stdout",
     "output_type": "stream",
     "text": [
      "/HDD/ECG_physionet\n"
     ]
    }
   ],
   "source": [
    "cd .."
   ]
  },
  {
   "cell_type": "code",
   "execution_count": 2,
   "metadata": {},
   "outputs": [],
   "source": [
    "import pandas as pd\n",
    "import numpy as np\n",
    "import seaborn as sns\n",
    "import json\n",
    "import os\n",
    "import gc\n",
    "from tqdm import tqdm\n",
    "import matplotlib.pyplot as plt\n",
    "\n",
    "from resampling import Resampling"
   ]
  },
  {
   "cell_type": "code",
   "execution_count": 3,
   "metadata": {},
   "outputs": [],
   "source": [
    "%matplotlib qt"
   ]
  },
  {
   "cell_type": "code",
   "execution_count": 9,
   "metadata": {},
   "outputs": [
    {
     "name": "stderr",
     "output_type": "stream",
     "text": [
      "  0%|          | 5/5913 [00:00<02:24, 40.85it/s]"
     ]
    },
    {
     "name": "stdout",
     "output_type": "stream",
     "text": [
      "Start processing...\n"
     ]
    },
    {
     "name": "stderr",
     "output_type": "stream",
     "text": [
      "  0%|          | 10/5913 [00:00<02:50, 34.65it/s]\n"
     ]
    }
   ],
   "source": [
    "resampling = Resampling()\n",
    "\n",
    "DATA_PATH = './data/A/formatted/'\n",
    "\n",
    "list_records = [record for record in os.listdir(DATA_PATH) if record.find('.json') != -1]\n",
    "\n",
    "age = []\n",
    "gender = []\n",
    "label = []\n",
    "shape = []\n",
    "n_channels = []\n",
    "\n",
    "labels_SNOMEDCT = []\n",
    "labels = []\n",
    "labels_full = []\n",
    "\n",
    "j = 0\n",
    "print('Start processing...')\n",
    "for record in tqdm(list_records):\n",
    "    meta = json.load(open(DATA_PATH + record))\n",
    "    data = np.load(DATA_PATH + record[:-4]+'npy')\n",
    "    #data *= meta['amp_conversion']\n",
    "    \n",
    "    if meta['age'] == 'NaN':\n",
    "        meta['age'] = -1\n",
    "    \n",
    "    if meta['labels_SNOMEDCT'] is None:\n",
    "        meta['labels_SNOMEDCT'] = []\n",
    "    if meta['labels'] is None:\n",
    "        meta['labels'] = []\n",
    "    if meta['labels_full'] is None:\n",
    "        meta['labels_full'] = []\n",
    "    \n",
    "    \n",
    "    rpeaks = meta['rpeaks'][0]\n",
    "    \n",
    "    \n",
    "    resampled = resampling.upsample(data[:,0],4)\n",
    "    #data_p = extract_waves.run(data[:,0],rpeaks)\n",
    "    \n",
    "    j+=1\n",
    "    if j ==11:\n",
    "        plt.plot(resampled)\n",
    "        plt.plot(data[:,0])\n",
    "        plt.legend(['Upsampled','Raw data'])\n",
    "        break"
   ]
  },
  {
   "cell_type": "code",
   "execution_count": 5,
   "metadata": {},
   "outputs": [
    {
     "data": {
      "text/plain": [
       "['premature atrial contraction']"
      ]
     },
     "execution_count": 5,
     "metadata": {},
     "output_type": "execute_result"
    }
   ],
   "source": [
    "meta['labels_full']"
   ]
  },
  {
   "cell_type": "code",
   "execution_count": null,
   "metadata": {},
   "outputs": [],
   "source": []
  }
 ],
 "metadata": {
  "kernelspec": {
   "display_name": "Python 3.7.7 64-bit ('tf_gpu': conda)",
   "language": "python",
   "name": "python37764bittfgpuconda65e251bb915b4afb913cb977bb5f684e"
  },
  "language_info": {
   "codemirror_mode": {
    "name": "ipython",
    "version": 3
   },
   "file_extension": ".py",
   "mimetype": "text/x-python",
   "name": "python",
   "nbconvert_exporter": "python",
   "pygments_lexer": "ipython3",
   "version": "3.7.7"
  }
 },
 "nbformat": 4,
 "nbformat_minor": 4
}
