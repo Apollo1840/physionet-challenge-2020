{
 "cells": [
  {
   "cell_type": "code",
   "execution_count": 1,
   "metadata": {},
   "outputs": [
    {
     "name": "stdout",
     "output_type": "stream",
     "text": [
      "/HDD/ECG_physionet\n"
     ]
    }
   ],
   "source": [
    "cd .."
   ]
  },
  {
   "cell_type": "code",
   "execution_count": null,
   "metadata": {},
   "outputs": [],
   "source": [
    "#### insert the name of the last run\n",
    "!tensorboard --logdir=runs/May11_01-21-42_dmitrii"
   ]
  },
  {
   "cell_type": "code",
   "execution_count": 2,
   "metadata": {},
   "outputs": [],
   "source": [
    "import pandas as pd\n",
    "import numpy as np\n",
    "import scipy as sp\n",
    "import matplotlib.pyplot as plt\n",
    "import gc\n",
    "import ast\n",
    "import json\n",
    "from data_generator import PreProcessing"
   ]
  },
  {
   "cell_type": "markdown",
   "metadata": {},
   "source": [
    "# Train"
   ]
  },
  {
   "cell_type": "code",
   "execution_count": 3,
   "metadata": {},
   "outputs": [],
   "source": [
    "DATA_LIST = [\n",
    "    '0_fold_0.19386279658302819.txt'\n",
    "]\n",
    "\n",
    "DEBUG_PATH = './data/CV_debug/'\n",
    "DATA_PATH = './data/formatted/'\n",
    "\n",
    "preprocessing = PreProcessing()"
   ]
  },
  {
   "cell_type": "code",
   "execution_count": 4,
   "metadata": {},
   "outputs": [],
   "source": [
    "def load_data():\n",
    "    \n",
    "    for index,i in enumerate(DATA_LIST):\n",
    "        if index == 0:\n",
    "            with open(DEBUG_PATH+i, 'r') as f:\n",
    "                s = f.read()\n",
    "                data = ast.literal_eval(s)\n",
    "        else:\n",
    "            with open(DEBUG_PATH+i, 'r') as f:\n",
    "                s = f.read()\n",
    "                temp = ast.literal_eval(s)\n",
    "            data.update(temp) \n",
    "        \n",
    "    return data\n",
    "\n",
    "data = load_data()"
   ]
  },
  {
   "cell_type": "code",
   "execution_count": 5,
   "metadata": {},
   "outputs": [],
   "source": [
    "#calculate the score for each record\n",
    "scores = np.array([])\n",
    "records = np.array([]).astype(np.str)\n",
    "\n",
    "for record in data.keys():\n",
    "    scores = np.append(scores,np.sum(np.abs(np.array(data[record]['labels'],dtype=np.float) - np.array(data[record]['preds'],dtype=np.float))))\n",
    "    records = np.append(records,record)  \n",
    "                       \n",
    "#get 50 top worse examples\n",
    "score_order = np.argsort(scores)\n",
    "#TODO\n",
    "records = records[score_order[::1]][:10]"
   ]
  },
  {
   "cell_type": "code",
   "execution_count": 6,
   "metadata": {},
   "outputs": [],
   "source": [
    "%matplotlib qt"
   ]
  },
  {
   "cell_type": "code",
   "execution_count": 7,
   "metadata": {},
   "outputs": [
    {
     "data": {
      "text/plain": [
       "0"
      ]
     },
     "execution_count": 7,
     "metadata": {},
     "output_type": "execute_result"
    }
   ],
   "source": [
    "def plot_record(record,data):\n",
    "    \n",
    "    ecg = np.load(DATA_PATH+record+'.npy')\n",
    "    ecg = preprocessing.run(ecg)\n",
    "    meta = json.load(open(DATA_PATH+ f'{record}.json'))\n",
    "    \n",
    "    heatmap = np.array(data[record]['heatmap'],dtype=np.float)\n",
    "    \n",
    "    #plot the data\n",
    "    fig,ax = plt.subplots(figsize=(20,20))\n",
    "    fig.suptitle(record+', labels: '+str(meta['labels']))\n",
    "    for i in range(12):\n",
    "        ax.plot(ecg[:,i]-2.5*i)\n",
    "    ax.plot(heatmap-2.5*12)\n",
    "    plt.show()\n",
    "    \n",
    "    return 0\n",
    "\n",
    "plot_record(record=records[0],data=data)"
   ]
  }
 ],
 "metadata": {
  "kernelspec": {
   "display_name": "Python 3",
   "language": "python",
   "name": "python3"
  },
  "language_info": {
   "codemirror_mode": {
    "name": "ipython",
    "version": 3
   },
   "file_extension": ".py",
   "mimetype": "text/x-python",
   "name": "python",
   "nbconvert_exporter": "python",
   "pygments_lexer": "ipython3",
   "version": "3.7.7"
  }
 },
 "nbformat": 4,
 "nbformat_minor": 4
}
