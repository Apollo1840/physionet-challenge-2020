{
 "cells": [
  {
   "cell_type": "code",
   "execution_count": 1,
   "metadata": {},
   "outputs": [
    {
     "name": "stdout",
     "output_type": "stream",
     "text": [
      "/home/dmitriishubin/Desktop/physionet-challenge-2020\n"
     ]
    }
   ],
   "source": [
    "cd .."
   ]
  },
  {
   "cell_type": "code",
   "execution_count": 2,
   "metadata": {},
   "outputs": [
    {
     "name": "stdout",
     "output_type": "stream",
     "text": [
      "/home/dmitriishubin/anaconda3/envs/tf_gpu/lib/python3.7/site-packages/tensorflow/python/framework/dtypes.py:516: FutureWarning: Passing (type, 1) or '1type' as a synonym of type is deprecated; in a future version of numpy, it will be understood as (type, (1,)) / '(1,)type'.\n",
      "  _np_qint8 = np.dtype([(\"qint8\", np.int8, 1)])\n",
      "/home/dmitriishubin/anaconda3/envs/tf_gpu/lib/python3.7/site-packages/tensorflow/python/framework/dtypes.py:517: FutureWarning: Passing (type, 1) or '1type' as a synonym of type is deprecated; in a future version of numpy, it will be understood as (type, (1,)) / '(1,)type'.\n",
      "  _np_quint8 = np.dtype([(\"quint8\", np.uint8, 1)])\n",
      "/home/dmitriishubin/anaconda3/envs/tf_gpu/lib/python3.7/site-packages/tensorflow/python/framework/dtypes.py:518: FutureWarning: Passing (type, 1) or '1type' as a synonym of type is deprecated; in a future version of numpy, it will be understood as (type, (1,)) / '(1,)type'.\n",
      "  _np_qint16 = np.dtype([(\"qint16\", np.int16, 1)])\n",
      "/home/dmitriishubin/anaconda3/envs/tf_gpu/lib/python3.7/site-packages/tensorflow/python/framework/dtypes.py:519: FutureWarning: Passing (type, 1) or '1type' as a synonym of type is deprecated; in a future version of numpy, it will be understood as (type, (1,)) / '(1,)type'.\n",
      "  _np_quint16 = np.dtype([(\"quint16\", np.uint16, 1)])\n",
      "/home/dmitriishubin/anaconda3/envs/tf_gpu/lib/python3.7/site-packages/tensorflow/python/framework/dtypes.py:520: FutureWarning: Passing (type, 1) or '1type' as a synonym of type is deprecated; in a future version of numpy, it will be understood as (type, (1,)) / '(1,)type'.\n",
      "  _np_qint32 = np.dtype([(\"qint32\", np.int32, 1)])\n",
      "/home/dmitriishubin/anaconda3/envs/tf_gpu/lib/python3.7/site-packages/tensorflow/python/framework/dtypes.py:525: FutureWarning: Passing (type, 1) or '1type' as a synonym of type is deprecated; in a future version of numpy, it will be understood as (type, (1,)) / '(1,)type'.\n",
      "  np_resource = np.dtype([(\"resource\", np.ubyte, 1)])\n",
      "TensorBoard 1.15.0 at http://rit-XPS-15-9500:6006/ (Press CTRL+C to quit)\n",
      "^C\n"
     ]
    }
   ],
   "source": [
    "#### insert the name of the last run\n",
    "!tensorboard --logdir=runs/May11_01-21-42_dmitrii"
   ]
  },
  {
   "cell_type": "code",
   "execution_count": 2,
   "metadata": {},
   "outputs": [],
   "source": [
    "import pandas as pd\n",
    "import numpy as np\n",
    "import scipy as sp\n",
    "import matplotlib.pyplot as plt\n",
    "import gc\n",
    "import ast\n",
    "import json\n",
    "import os\n",
    "\n",
    "from metrics import Metric\n",
    "from utils.KPI_plots import plot_confusion_matrix"
   ]
  },
  {
   "cell_type": "code",
   "execution_count": 3,
   "metadata": {},
   "outputs": [],
   "source": [
    "%matplotlib qt"
   ]
  },
  {
   "cell_type": "markdown",
   "metadata": {},
   "source": [
    "# Settings"
   ]
  },
  {
   "cell_type": "code",
   "execution_count": 4,
   "metadata": {},
   "outputs": [],
   "source": [
    "competition_metric = Metric()"
   ]
  },
  {
   "cell_type": "markdown",
   "metadata": {},
   "source": [
    "# Dataset A"
   ]
  },
  {
   "cell_type": "code",
   "execution_count": 5,
   "metadata": {},
   "outputs": [],
   "source": [
    "DEBUG_PATH = './data/CV_debug/A/'\n",
    "DATA_PATH = './data/A/formatted/'\n",
    "\n",
    "list_records = [i[:-5] for i in os.listdir(DEBUG_PATH) if i.find('.json')!=-1]\n"
   ]
  },
  {
   "cell_type": "code",
   "execution_count": 6,
   "metadata": {},
   "outputs": [],
   "source": [
    "def load_waveform(data_path,name):\n",
    "    \n",
    "    signal = np.load(data_path+name+'.npy')\n",
    "        \n",
    "    return signal\n",
    "\n",
    "def load_label(data_path,name):\n",
    "    \n",
    "    label = json.load(open(data_path+name+'.json'))\n",
    "        \n",
    "    return label"
   ]
  },
  {
   "cell_type": "code",
   "execution_count": 7,
   "metadata": {},
   "outputs": [
    {
     "name": "stderr",
     "output_type": "stream",
     "text": [
      "/home/dmitriishubin/Desktop/physionet-challenge-2020/utils/KPI_plots.py:54: RuntimeWarning: invalid value encountered in true_divide\n",
      "  cm = cm.astype('float') / cm.sum(axis=1)[:, np.newaxis]\n"
     ]
    }
   ],
   "source": [
    "# Main processing pipeline\n",
    "scores_errors = np.array([])\n",
    "scores_competition = np.array([])\n",
    "records = np.array([]).astype(np.str)\n",
    "labels = [] #np.array([])\n",
    "preds = [] #np.array([])\n",
    "\n",
    "#load all records\n",
    "for record in list_records:\n",
    "    \n",
    "    label = load_label(DATA_PATH,record)\n",
    "    records = np.append(records,label['filename'])\n",
    "    label = label['labels_training_merged']\n",
    "    \n",
    "    pred = load_label(DEBUG_PATH,record)\n",
    "    pred = pred['predicted_label']\n",
    "    \n",
    "    #calc score for each record\n",
    "    label = np.array(label).reshape(1,-1)\n",
    "    pred = np.array(pred).reshape(1,-1)\n",
    "    \n",
    "    scores_competition = np.append(scores_competition,competition_metric.compute(label, pred))\n",
    "    scores_errors = np.append(scores_errors,np.sum(np.abs(label - pred)))\n",
    "    \n",
    "    #add predictions and labels for overall KPI estimation\n",
    "    labels.append(label[0,:])#labels = np.append(labels,label,axis=0)\n",
    "    preds.append(pred[0,:])#preds = np.append(preds,pred,axis=0)\n",
    "\n",
    "    \n",
    "preds = np.array(preds)\n",
    "labels = np.array(labels)\n",
    "#plot modified consustion matrix\n",
    "matrix = competition_metric.compute_modified_confusion_matrix(labels, preds)\n",
    "label_names = ['IAVB'\n",
    "'AF',\n",
    "'AFL',\n",
    "'Brady',\n",
    "'CRBBB',\n",
    "'IRBBB',\n",
    "'LAnFB',\n",
    "'LAD',\n",
    "'LBBB',\n",
    "'LQRSV',\n",
    "'NSIVCB',\n",
    "'PR',\n",
    "'PAC',\n",
    "'PVC',\n",
    "'LPR',\n",
    "'LQT',\n",
    "'QAb',\n",
    "'RAD',\n",
    "'RBBB',\n",
    "'SA',\n",
    "'SB',\n",
    "'SNR',\n",
    "'STach',\n",
    "'SVPB',\n",
    "'TAb',\n",
    "'TInv',\n",
    "'VP'\n",
    " ]\n",
    "\n",
    "\n",
    "plot_confusion_matrix(matrix,label_names)"
   ]
  },
  {
   "cell_type": "code",
   "execution_count": 8,
   "metadata": {},
   "outputs": [
    {
     "ename": "SyntaxError",
     "evalue": "invalid syntax (<ipython-input-8-73b21cc80c72>, line 1)",
     "output_type": "error",
     "traceback": [
      "\u001b[0;36m  File \u001b[0;32m\"<ipython-input-8-73b21cc80c72>\"\u001b[0;36m, line \u001b[0;32m1\u001b[0m\n\u001b[0;31m    print('Metric for dataset A: 'competition_metric.compute(labels, preds))\u001b[0m\n\u001b[0m                                                   ^\u001b[0m\n\u001b[0;31mSyntaxError\u001b[0m\u001b[0;31m:\u001b[0m invalid syntax\n"
     ]
    }
   ],
   "source": [
    "print('Metric for dataset A: 'competition_metric.compute(labels, preds))"
   ]
  },
  {
   "cell_type": "code",
   "execution_count": 33,
   "metadata": {},
   "outputs": [],
   "source": [
    "#keeep records with errors only\n",
    "records = records[np.where(scores_errors > 0)]\n",
    "scores_errors = scores_errors[np.where(scores_errors > 0)]\n",
    "\n",
    "#TODO: clarify the type of sort\n",
    "score_order = np.argsort(scores_errors)\n",
    "records = records[score_order[::1]]\n",
    "\n",
    "#save a list of files in csv\n",
    "pd.DataFrame(records).to_csv('./data/dataset_A_list.csv')"
   ]
  },
  {
   "cell_type": "code",
   "execution_count": 48,
   "metadata": {},
   "outputs": [
    {
     "name": "stdout",
     "output_type": "stream",
     "text": [
      "Predictions:  [-7.87102508e-08 -1.06736738e-11 -1.55952414e-17 -2.33664234e-11\n",
      " -1.33120404e-10 -6.44375291e-08 -3.14574755e-11 -2.11950519e-05\n",
      " -1.76306276e-08 -1.45609177e-10 -8.04824936e-08 -3.31910644e-15\n",
      " -4.20201195e-06 -1.30721836e-13 -2.53869176e-10 -2.83426442e-11\n",
      " -3.73308584e-09 -2.26913453e-12 -1.76738264e-38 -3.29476370e-06\n",
      " -2.23708483e-08  1.31130219e-06 -1.26122125e-11 -4.67066483e-38\n",
      " -5.08948226e-08 -2.30375302e-11 -7.60597565e-38]\n"
     ]
    },
    {
     "data": {
      "text/plain": [
       "0"
      ]
     },
     "execution_count": 48,
     "metadata": {},
     "output_type": "execute_result"
    }
   ],
   "source": [
    "def plot_record(record):\n",
    "    \n",
    "    ecg = np.load(DATA_PATH+record+'.npy')\n",
    "    #ecg = preprocessing.run(ecg)\n",
    "    meta = json.load(open(DATA_PATH+ f'{record}.json'))\n",
    "    \n",
    "    pred = load_label(DEBUG_PATH,record)\n",
    "    pred = pred['predicted_label']\n",
    "    \n",
    "    #heatmap = np.array(data[record]['heatmap'],dtype=np.float)\n",
    "    \n",
    "    #plot the data\n",
    "    fig,ax = plt.subplots(figsize=(20,20))\n",
    "    fig.suptitle(record+', labels: '+str(meta['labels_full']))\n",
    "    for i in range(12):\n",
    "        ax.plot(ecg[:,i]+500*i)\n",
    "    plt.show()\n",
    "    \n",
    "    print('Predictions: ',np.array(meta['labels_training_merged']) - np.array(pred))\n",
    "    #print('Label:       ',meta['labels_training_merged'])\n",
    "    return 0\n",
    "\n",
    "plot_record(record=records[0])"
   ]
  },
  {
   "cell_type": "code",
   "execution_count": null,
   "metadata": {},
   "outputs": [],
   "source": []
  }
 ],
 "metadata": {
  "kernelspec": {
   "display_name": "Python 3",
   "language": "python",
   "name": "python3"
  },
  "language_info": {
   "codemirror_mode": {
    "name": "ipython",
    "version": 3
   },
   "file_extension": ".py",
   "mimetype": "text/x-python",
   "name": "python",
   "nbconvert_exporter": "python",
   "pygments_lexer": "ipython3",
   "version": "3.7.7"
  }
 },
 "nbformat": 4,
 "nbformat_minor": 4
}
