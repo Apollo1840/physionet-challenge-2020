{
 "cells": [
  {
   "cell_type": "code",
   "execution_count": 1,
   "metadata": {},
   "outputs": [
    {
     "name": "stdout",
     "output_type": "stream",
     "text": [
      "/HDD/ECG_physionet\n"
     ]
    }
   ],
   "source": [
    "cd .."
   ]
  },
  {
   "cell_type": "code",
   "execution_count": 2,
   "metadata": {},
   "outputs": [
    {
     "name": "stdout",
     "output_type": "stream",
     "text": [
      "TensorBoard 1.15.0 at http://dmitrii:6006/ (Press CTRL+C to quit)\n",
      "^C\n"
     ]
    }
   ],
   "source": [
    "#### insert the name of the last run\n",
    "!tensorboard --logdir=runs/May11_01-21-42_dmitrii"
   ]
  },
  {
   "cell_type": "code",
   "execution_count": 2,
   "metadata": {},
   "outputs": [],
   "source": [
    "import pandas as pd\n",
    "import numpy as np\n",
    "import scipy as sp\n",
    "import matplotlib.pyplot as plt\n",
    "import gc\n",
    "import ast\n",
    "import json\n",
    "from data_generator import PreProcessing\n",
    "from metrics import compute_beta_score"
   ]
  },
  {
   "cell_type": "markdown",
   "metadata": {},
   "source": [
    "# Train"
   ]
  },
  {
   "cell_type": "code",
   "execution_count": 11,
   "metadata": {},
   "outputs": [],
   "source": [
    "DATA_LIST = [\n",
    "    '0_fold_0.5320328777731149.txt',\n",
    "    '1_fold_0.5242880885956407.txt',\n",
    "    '2_fold_0.5077841499012357.txt',\n",
    "    '3_fold_0.5418115277967558.txt',\n",
    "    '4_fold_0.5370379360251707.txt'\n",
    "]\n",
    "\n",
    "DEBUG_PATH = './data/CV_debug/'\n",
    "DATA_PATH = './data/formatted/'\n",
    "\n",
    "preprocessing = PreProcessing()"
   ]
  },
  {
   "cell_type": "code",
   "execution_count": 4,
   "metadata": {},
   "outputs": [],
   "source": [
    "def load_data():\n",
    "    \n",
    "    for index,i in enumerate(DATA_LIST):\n",
    "        if index == 0:\n",
    "            with open(DEBUG_PATH+i, 'r') as f:\n",
    "                s = f.read()\n",
    "                data = ast.literal_eval(s)\n",
    "        else:\n",
    "            with open(DEBUG_PATH+i, 'r') as f:\n",
    "                s = f.read()\n",
    "                temp = ast.literal_eval(s)\n",
    "            data.update(temp) \n",
    "        \n",
    "    return data\n",
    "\n",
    "data = load_data()"
   ]
  },
  {
   "cell_type": "code",
   "execution_count": 5,
   "metadata": {},
   "outputs": [],
   "source": [
    "def find_optim_threshold(y_true,y_pred):\n",
    "    #define a grid of thresholds\n",
    "    thresholf_grid = np.arange(0.05,1.05,0.05).tolist()\n",
    "    \n",
    "    #list of optim thresholds for each class\n",
    "    optim_threshold = []\n",
    "    \n",
    "    y_pred_final = y_pred.copy()\n",
    "    y_pred_final[:,:] = 0\n",
    "    \n",
    "    \n",
    "    for i in range(9): #iterate over all classes\n",
    "        score_grid = []\n",
    "        for threshold in thresholf_grid: #iterare over all thresholds\n",
    "            temp = y_pred[:,i].copy()\n",
    "            \n",
    "            #apply threshold\n",
    "            temp[np.where(temp >= threshold)] = 1\n",
    "            temp[np.where(temp < threshold)] = 0\n",
    "            \n",
    "            y_pred_final[:,i] = temp\n",
    "            \n",
    "            f2_train, g2_train = compute_beta_score(\n",
    "                    y_true, y_pred_final, beta=2, num_classes=9\n",
    "                )\n",
    "\n",
    "            score_grid.append(np.sqrt(f2_train*g2_train))\n",
    "        \n",
    "        optim_threshold.append(thresholf_grid[np.where(score_grid == np.max(score_grid))[0][0]])\n",
    "        \n",
    "        #apply optimial threshold\n",
    "        temp = y_pred[:,i].copy()\n",
    "        temp[np.where(temp >= optim_threshold[-1])] = 1\n",
    "        temp[np.where(temp < optim_threshold[-1])] = 0\n",
    "        y_pred_final[:,i] = temp\n",
    "        \n",
    "        \n",
    "    #score_grid = np.array(score_grid)\n",
    "    \n",
    "    f2_train, g2_train = compute_beta_score(\n",
    "                    y_true, y_pred_final, beta=2, num_classes=9\n",
    "                )\n",
    "\n",
    "    final_score = np.sqrt(f2_train*g2_train)\n",
    "    \n",
    "    return optim_threshold,final_score #thresholf_grid,score_grid #thresholf_grid[np.where(f1_grid == np.max(f1_grid))[0][0]]"
   ]
  },
  {
   "cell_type": "code",
   "execution_count": 6,
   "metadata": {},
   "outputs": [],
   "source": [
    "predictions_raw = np.zeros((len(data.keys()),9))\n",
    "y_true = np.zeros((len(data.keys()),9))\n",
    "\n",
    "for index,i in enumerate(data.keys()):\n",
    "    predictions_raw[index,:] = data[i]['preds_raw']\n",
    "    y_true[index,:] = data[i]['labels']"
   ]
  },
  {
   "cell_type": "code",
   "execution_count": 7,
   "metadata": {},
   "outputs": [
    {
     "data": {
      "text/plain": [
       "([0.35000000000000003,\n",
       "  0.3,\n",
       "  0.3,\n",
       "  0.35000000000000003,\n",
       "  0.05,\n",
       "  0.05,\n",
       "  0.25,\n",
       "  0.15000000000000002,\n",
       "  0.05],\n",
       " 0.5822892196418115)"
      ]
     },
     "execution_count": 7,
     "metadata": {},
     "output_type": "execute_result"
    }
   ],
   "source": [
    "find_optim_threshold(y_true,predictions_raw)"
   ]
  },
  {
   "cell_type": "code",
   "execution_count": 28,
   "metadata": {},
   "outputs": [],
   "source": [
    "#calculate the score for each record\n",
    "scores = np.array([])\n",
    "records = np.array([]).astype(np.str)\n",
    "\n",
    "for record in data.keys():\n",
    "    scores = np.append(scores,np.sum(np.abs(np.array(data[record]['labels'],dtype=np.float) - np.array(data[record]['preds_raw'],dtype=np.float))))\n",
    "    records = np.append(records,record)  \n",
    "                       \n",
    "#get 50 top worse examples\n",
    "score_order = np.argsort(scores)\n",
    "#TODO\n",
    "records = records[score_order[::-1]]"
   ]
  },
  {
   "cell_type": "code",
   "execution_count": 29,
   "metadata": {},
   "outputs": [],
   "source": [
    "%matplotlib qt"
   ]
  },
  {
   "cell_type": "code",
   "execution_count": 30,
   "metadata": {},
   "outputs": [
    {
     "data": {
      "text/plain": [
       "0"
      ]
     },
     "execution_count": 30,
     "metadata": {},
     "output_type": "execute_result"
    }
   ],
   "source": [
    "def plot_record(record,data):\n",
    "    \n",
    "    ecg = np.load(DATA_PATH+record+'.npy')\n",
    "    ecg = preprocessing.run(ecg)\n",
    "    meta = json.load(open(DATA_PATH+ f'{record}.json'))\n",
    "    \n",
    "    heatmap = np.array(data[record]['heatmap'],dtype=np.float)\n",
    "    \n",
    "    #plot the data\n",
    "    fig,ax = plt.subplots(figsize=(20,20))\n",
    "    fig.suptitle(record+', labels: '+str(meta['labels']) + '| labels_digit:'+str(data[record]['labels'])+'| preds_digit:'+str(data[record]['preds']))\n",
    "    for i in range(12):\n",
    "        ax.plot(ecg[:,i]-2.5*i)\n",
    "    ax.plot(heatmap-2.5*12)\n",
    "    plt.show()\n",
    "    \n",
    "    return 0\n",
    "\n",
    "plot_record(record=records[1],data=data)"
   ]
  },
  {
   "cell_type": "code",
   "execution_count": 13,
   "metadata": {},
   "outputs": [
    {
     "data": {
      "text/plain": [
       "'A3820'"
      ]
     },
     "execution_count": 13,
     "metadata": {},
     "output_type": "execute_result"
    }
   ],
   "source": [
    "records[0]"
   ]
  },
  {
   "cell_type": "code",
   "execution_count": null,
   "metadata": {},
   "outputs": [],
   "source": []
  }
 ],
 "metadata": {
  "kernelspec": {
   "display_name": "Python 3",
   "language": "python",
   "name": "python3"
  },
  "language_info": {
   "codemirror_mode": {
    "name": "ipython",
    "version": 3
   },
   "file_extension": ".py",
   "mimetype": "text/x-python",
   "name": "python",
   "nbconvert_exporter": "python",
   "pygments_lexer": "ipython3",
   "version": "3.7.7"
  }
 },
 "nbformat": 4,
 "nbformat_minor": 4
}
