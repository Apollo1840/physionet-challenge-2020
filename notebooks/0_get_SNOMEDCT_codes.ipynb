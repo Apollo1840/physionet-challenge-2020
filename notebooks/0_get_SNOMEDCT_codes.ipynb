{
 "cells": [
  {
   "cell_type": "markdown",
   "metadata": {},
   "source": [
    "# PhysioNet/Computing in Cardiology Challenge 2020\n",
    "## Classification of 12-lead ECGs\n",
    "### 1. Download and format dataset"
   ]
  },
  {
   "cell_type": "markdown",
   "metadata": {},
   "source": [
    "# Setup Notebook"
   ]
  },
  {
   "cell_type": "code",
   "execution_count": 3,
   "metadata": {},
   "outputs": [],
   "source": [
    "# Import 3rd party libraries\n",
    "import os\n",
    "import sys\n",
    "import json\n",
    "import numpy as np\n",
    "import pandas as pd\n",
    "from urllib.parse import quote\n",
    "from urllib.request import urlopen\n",
    "\n",
    "# Import local Libraries\n",
    "sys.path.insert(0, os.path.dirname(os.path.abspath(os.getcwd())))\n",
    "from kardioml import DATA_PATH, EXTRACTED_FOLDER_NAMES\n",
    "\n",
    "# Configure Notebook\n",
    "import warnings\n",
    "warnings.filterwarnings('ignore')\n",
    "%matplotlib inline\n",
    "%load_ext autoreload\n",
    "%autoreload 2"
   ]
  },
  {
   "cell_type": "markdown",
   "metadata": {},
   "source": [
    "# Find SNOMED-CT Code Mappings"
   ]
  },
  {
   "cell_type": "code",
   "execution_count": 2,
   "metadata": {},
   "outputs": [],
   "source": [
    "# SNOMED-CT request\n",
    "baseUrl = 'https://browser.ihtsdotools.org/snowstorm/snomed-ct'\n",
    "edition = 'MAIN'\n",
    "version = '2019-07-31'\n",
    "\n",
    "def get_concept_by_id(id_number):\n",
    "    url = baseUrl + '/browser/' + edition + '/' + version + '/concepts/' + id_number\n",
    "    response = urlopen(url).read()\n",
    "    data = json.loads(response.decode('utf-8'))\n",
    "    return data['fsn']['term']"
   ]
  },
  {
   "cell_type": "markdown",
   "metadata": {},
   "source": [
    "### Tranche 1 (February 7, 2020)"
   ]
  },
  {
   "cell_type": "code",
   "execution_count": 3,
   "metadata": {},
   "outputs": [],
   "source": [
    "# Get a list of .hea files\n",
    "filenames = [filename.split('.')[0] for filename in\n",
    "             os.listdir(os.path.join(DATA_PATH, 'physionet_2020_1', 'raw', EXTRACTED_FOLDER_NAMES[0])) if 'hea' in filename]\n",
    "\n",
    "# List of all labels\n",
    "labels = list()\n",
    "\n",
    "# Loop through files and extract #Dx: label\n",
    "for filename in filenames:\n",
    "\n",
    "    # Load file\n",
    "    file = open(os.path.join(DATA_PATH, 'physionet_2020_1', 'raw', EXTRACTED_FOLDER_NAMES[0], '{}.hea'.format(filename)), 'r')\n",
    "    content = file.read().split('\\n')\n",
    "    file.close()\n",
    "\n",
    "    # Get patient attributes\n",
    "    labels.extend([label for label in content[15].split(':')[-1].strip().split(',')])"
   ]
  },
  {
   "cell_type": "code",
   "execution_count": 4,
   "metadata": {},
   "outputs": [
    {
     "name": "stdout",
     "output_type": "stream",
     "text": [
      "164884008 Electrocardiogram: ventricular ectopics (finding)\n",
      "164889003 Electrocardiographic atrial fibrillation (finding)\n",
      "164909002 Electrocardiographic left bundle branch block (finding)\n",
      "164931005 ST elevation (observable entity)\n",
      "270492004 First degree atrioventricular block (disorder)\n",
      "284470004 Premature atrial contraction (disorder)\n",
      "426783006 Electrocardiogram: sinus rhythm (finding)\n",
      "429622005 ST Depression (observable entity)\n",
      "59118001 Right bundle branch block (disorder)\n"
     ]
    }
   ],
   "source": [
    "# Get list of unique labels\n",
    "labels = np.unique(labels).tolist()\n",
    "\n",
    "# Get label names from SNOMED-CT\n",
    "labels = {label: get_concept_by_id(id_number=label) for label in labels}\n",
    "for key, value in labels.items():\n",
    "    print(key, value)"
   ]
  },
  {
   "cell_type": "markdown",
   "metadata": {},
   "source": [
    "### Tranche 2 (May 20, 2020)"
   ]
  },
  {
   "cell_type": "code",
   "execution_count": 8,
   "metadata": {},
   "outputs": [],
   "source": [
    "# Get a list of .hea files\n",
    "filenames = [filename.split('.')[0] for filename in\n",
    "             os.listdir(os.path.join(DATA_PATH, 'physionet_2020_2', 'raw', EXTRACTED_FOLDER_NAMES[1])) if 'hea' in filename]\n",
    "\n",
    "# List of all labels\n",
    "labels = list()\n",
    "\n",
    "# Loop through files and extract #Dx: label\n",
    "for filename in filenames:\n",
    "\n",
    "    # Load file\n",
    "    file = open(os.path.join(DATA_PATH, 'physionet_2020_2', 'raw', EXTRACTED_FOLDER_NAMES[1], '{}.hea'.format(filename)), 'r')\n",
    "    content = file.read().split('\\n')\n",
    "    file.close()\n",
    "\n",
    "    # Get patient attributes\n",
    "    labels.extend([label for label in content[15].split(':')[-1].strip().split(',')])"
   ]
  },
  {
   "cell_type": "code",
   "execution_count": 9,
   "metadata": {},
   "outputs": [
    {
     "name": "stdout",
     "output_type": "stream",
     "text": [
      "10370003 Rhythm from artificial pacing (finding)\n",
      "111288001 Ventricular flutter (disorder)\n",
      "11157007 Ventricular bigeminy (disorder)\n",
      "111975006 Prolonged QT interval (finding)\n",
      "164861001 Electrocardiographic myocardial ischemia (finding)\n",
      "164865005 Electrocardiographic myocardial infarction (finding)\n",
      "164867002 Electrocardiographic old myocardial infarction (finding)\n",
      "164873001 Electrocardiographic left ventricle hypertrophy (finding)\n",
      "164889003 Electrocardiographic atrial fibrillation (finding)\n",
      "164890007 Electrocardiographic atrial flutter (finding)\n",
      "164895002 Electrocardiographic ventricular tachycardia (finding)\n",
      "164896001 Electrocardiographic ventricular fibrillation (finding)\n",
      "164909002 Electrocardiographic left bundle branch block (finding)\n",
      "164917005 Electrocardiographic Q wave abnormal (finding)\n",
      "164921003 Electrocardiographic R wave abnormal (finding)\n",
      "164930006 Electrocardiographic ST interval abnormal (finding)\n",
      "164931005 ST elevation (observable entity)\n",
      "164934002 Electrocardiographic T wave abnormal (finding)\n",
      "164937009 Electrocardiographic U wave abnormal (finding)\n",
      "17338001 Ventricular premature beats (disorder)\n",
      "195042002 Second degree atrioventricular block (disorder)\n",
      "195060002 Ventricular pre-excitation (disorder)\n",
      "195080001 Atrial fibrillation and flutter (disorder)\n",
      "195126007 Atrial hypertrophy (disorder)\n",
      "233917008 Atrioventricular block (disorder)\n",
      "251120003 Incomplete left bundle branch block (disorder)\n",
      "251164006 Junctional premature complex (disorder)\n",
      "251170000 Blocked premature atrial contraction (disorder)\n",
      "251180001 Ventricular trigeminy (disorder)\n",
      "251259000 High T-voltage (finding)\n",
      "266249003 Ventricular hypertrophy (disorder)\n",
      "270492004 First degree atrioventricular block (disorder)\n",
      "27885002 Complete atrioventricular block (disorder)\n",
      "284470004 Premature atrial contraction (disorder)\n",
      "29320008 Ectopic rhythm (disorder)\n",
      "370365005 Electrocardiographic left ventricular strain (finding)\n",
      "413444003 Acute myocardial ischemia (disorder)\n",
      "413844008 Chronic myocardial ischemia (disorder)\n",
      "426177001 Electrocardiogram: sinus bradycardia (finding)\n",
      "426627000 Electrocardiogram: bradycardia (finding)\n",
      "426648003 Electrocardiogram: junctional tachycardia (finding)\n",
      "426749004 Chronic atrial fibrillation (disorder)\n",
      "426761007 Electrocardiographic supraventricular tachycardia (finding)\n",
      "426783006 Electrocardiogram: sinus rhythm (finding)\n",
      "426995002 Electrocardiographic junctional escape rhythm (finding)\n",
      "427084000 Electrocardiogram: sinus tachycardia (finding)\n",
      "427172004 Electrocardiogram: premature ventricular contractions (finding)\n",
      "427393009 Electrocardiogram: sinus arrhythmia (finding)\n",
      "428750005 Nonspecific ST-T abnormality on electrocardiogram (finding)\n",
      "429622005 ST Depression (observable entity)\n",
      "446358003 Right atrial hypertrophy (disorder)\n",
      "446813000 Left atrial hypertrophy (disorder)\n",
      "47665007 Right axis deviation (finding)\n",
      "49578007 Shortened PR interval (finding)\n",
      "54329005 Acute myocardial infarction of anterior wall (disorder)\n",
      "55930002 Electrocardiographic ST segment changes (finding)\n",
      "59118001 Right bundle branch block (disorder)\n",
      "59931005 Inverted T wave (finding)\n",
      "63593006 Supraventricular premature beats (disorder)\n",
      "65778007 Sinoatrial block (disorder)\n",
      "67741000119109 Left atrial enlargement (disorder)\n",
      "698252002 Non-specific intraventricular conduction delay (disorder)\n",
      "704997005 Inferior ST segment depression (finding)\n",
      "713422000 Electrocardiographic atrial tachycardia (finding)\n",
      "713426002 Electrocardiographic incomplete right bundle branch block (finding)\n",
      "713427006 Electrocardiographic complete right bundle branch block (finding)\n",
      "74615001 Tachycardia-bradycardia (disorder)\n",
      "75532003 Ventricular escape beat (disorder)\n",
      "77867006 Shortened QT interval (finding)\n",
      "81898007 Ventricular escape rhythm (disorder)\n",
      "82226007 Diffuse intraventricular block (disorder)\n",
      "89792004 Right ventricular hypertrophy (disorder)\n"
     ]
    }
   ],
   "source": [
    "# Get list of unique labels\n",
    "labels = np.unique(labels).tolist()\n",
    "\n",
    "# Get label names from SNOMED-CT\n",
    "labels = {label: get_concept_by_id(id_number=label) for label in labels}\n",
    "for key, value in labels.items():\n",
    "    print(key, value)"
   ]
  },
  {
   "cell_type": "markdown",
   "metadata": {},
   "source": [
    "# Format SNOMED-CT Codes"
   ]
  },
  {
   "cell_type": "code",
   "execution_count": 5,
   "metadata": {},
   "outputs": [
    {
     "data": {
      "text/html": [
       "<div>\n",
       "<style scoped>\n",
       "    .dataframe tbody tr th:only-of-type {\n",
       "        vertical-align: middle;\n",
       "    }\n",
       "\n",
       "    .dataframe tbody tr th {\n",
       "        vertical-align: top;\n",
       "    }\n",
       "\n",
       "    .dataframe thead th {\n",
       "        text-align: right;\n",
       "    }\n",
       "</style>\n",
       "<table border=\"1\" class=\"dataframe\">\n",
       "  <thead>\n",
       "    <tr style=\"text-align: right;\">\n",
       "      <th></th>\n",
       "      <th>dx</th>\n",
       "      <th>SNOMED code</th>\n",
       "      <th>Abbreviation</th>\n",
       "    </tr>\n",
       "  </thead>\n",
       "  <tbody>\n",
       "    <tr>\n",
       "      <th>0</th>\n",
       "      <td>1st degree av block</td>\n",
       "      <td>270492004</td>\n",
       "      <td>IAVB</td>\n",
       "    </tr>\n",
       "    <tr>\n",
       "      <th>1</th>\n",
       "      <td>2nd degree av block</td>\n",
       "      <td>195042002</td>\n",
       "      <td>IIAVB</td>\n",
       "    </tr>\n",
       "    <tr>\n",
       "      <th>2</th>\n",
       "      <td>abnormal QRS</td>\n",
       "      <td>164951009</td>\n",
       "      <td>abQRS</td>\n",
       "    </tr>\n",
       "    <tr>\n",
       "      <th>3</th>\n",
       "      <td>accelerated idioventricular rhythm</td>\n",
       "      <td>61277005</td>\n",
       "      <td>AIVR</td>\n",
       "    </tr>\n",
       "    <tr>\n",
       "      <th>4</th>\n",
       "      <td>accelerated junctional rhythm</td>\n",
       "      <td>426664006</td>\n",
       "      <td>AJR</td>\n",
       "    </tr>\n",
       "  </tbody>\n",
       "</table>\n",
       "</div>"
      ],
      "text/plain": [
       "                                   dx  SNOMED code Abbreviation\n",
       "0                 1st degree av block    270492004         IAVB\n",
       "1                 2nd degree av block    195042002        IIAVB\n",
       "2                        abnormal QRS    164951009        abQRS\n",
       "3  accelerated idioventricular rhythm     61277005         AIVR\n",
       "4       accelerated junctional rhythm    426664006          AJR"
      ]
     },
     "execution_count": 5,
     "metadata": {},
     "output_type": "execute_result"
    }
   ],
   "source": [
    "# Import csv from competition organizers\n",
    "mappings = pd.read_csv(os.path.join(DATA_PATH, 'labels.csv'))\n",
    "\n",
    "# View DataFrame\n",
    "mappings.head()"
   ]
  },
  {
   "cell_type": "code",
   "execution_count": 24,
   "metadata": {},
   "outputs": [],
   "source": [
    "mappings_list = dict()\n",
    "for index, row in mappings.iterrows():\n",
    "    mappings_list[row['SNOMED code']] = {'label': row['Abbreviation'], 'label_full': row['dx']}"
   ]
  }
 ],
 "metadata": {
  "kernelspec": {
   "display_name": "Python 3",
   "language": "python",
   "name": "python3"
  },
  "language_info": {
   "codemirror_mode": {
    "name": "ipython",
    "version": 3
   },
   "file_extension": ".py",
   "mimetype": "text/x-python",
   "name": "python",
   "nbconvert_exporter": "python",
   "pygments_lexer": "ipython3",
   "version": "3.7.7"
  }
 },
 "nbformat": 4,
 "nbformat_minor": 4
}
