{
 "cells": [
  {
   "cell_type": "markdown",
   "metadata": {},
   "source": [
    "# PhysioNet/Computing in Cardiology Challenge 2020\n",
    "## Classification of 12-lead ECGs\n",
    "### Synthetic Noise Generation"
   ]
  },
  {
   "cell_type": "markdown",
   "metadata": {},
   "source": [
    "# Setup Notebook"
   ]
  },
  {
   "cell_type": "code",
   "execution_count": 13,
   "metadata": {},
   "outputs": [
    {
     "name": "stdout",
     "output_type": "stream",
     "text": [
      "The autoreload extension is already loaded. To reload it, use:\n",
      "  %reload_ext autoreload\n"
     ]
    }
   ],
   "source": [
    "# Import 3rd party libraries\n",
    "import os\n",
    "import sys\n",
    "import json\n",
    "import numpy as np\n",
    "import pandas as pd\n",
    "import matplotlib.pylab as plt\n",
    "from ipywidgets import interact, fixed\n",
    "\n",
    "# Import local Libraries\n",
    "sys.path.insert(0, os.path.dirname(os.path.abspath(os.getcwd())))\n",
    "from kardioml import DATA_PATH, FS, LABELS_LOOKUP, ECG_LEADS\n",
    "\n",
    "# Configure Notebook\n",
    "import warnings\n",
    "warnings.filterwarnings('ignore')\n",
    "%matplotlib inline\n",
    "%load_ext autoreload\n",
    "%autoreload 2"
   ]
  },
  {
   "cell_type": "markdown",
   "metadata": {},
   "source": [
    "# Synthetic Noise Generation"
   ]
  },
  {
   "cell_type": "code",
   "execution_count": 38,
   "metadata": {},
   "outputs": [],
   "source": [
    "def gen_bw_noise(sig_t, sig_v, fs, amplitude=0.1):\n",
    "    \"\"\"\n",
    "    Adds baseline wandering to the input signal.\n",
    "\n",
    "    Parameters:\n",
    "      fs: Wandering frequency in Hz\n",
    "      amplitude: Wandering amplitude\n",
    "    \"\"\"\n",
    "    w = 2*np.pi*fs\n",
    "    mod_v = sig_v + amplitude * np.sin(w*sig_t + 20)\n",
    "    return [sig_t, mod_v]\n",
    "\n",
    "def gen_am_noise(sig_t, sig_v, fs, amplitude=0.1):\n",
    "    \"\"\"\n",
    "    Adds amplitude modulation noise to the input signal.\n",
    "\n",
    "    Parameters:\n",
    "      fs: Modulation frequency in Hz\n",
    "      amplitude: Modulation amplitude\n",
    "    \"\"\"\n",
    "    w = 2*np.pi*fs\n",
    "    mod_v = detrend(sig_v)*((1/amplitude)+np.cos(w*sig_t));\n",
    "    return [sig_t, mod_v]\n",
    "\n",
    "def gen_fm_noise(sig_t, sig_v, fs, amplitude=0.05):\n",
    "    \"\"\"\n",
    "    Adds frequency modulation noise to the input signal.\n",
    "\n",
    "    Parameters:\n",
    "      fs: Modulation frequency in Hz\n",
    "      amplitude: Modulation amplitude\n",
    "    \"\"\"\n",
    "    w = 2*np.pi*fs\n",
    "    mod_t = sig_t + amplitude*np.sin(w*sig_t)\n",
    "    mod_v = np.interp(mod_t, sig_t, sig_v)\n",
    "    return [sig_t, mod_v]\n",
    "\n",
    "def generate_noise_burst(waveform):\n",
    "    \"\"\"Generate multiple noise bursts.\"\"\"\n",
    "    \n",
    "    "
   ]
  },
  {
   "cell_type": "markdown",
   "metadata": {},
   "source": [
    "# Plot Synthetic Noise"
   ]
  },
  {
   "cell_type": "code",
   "execution_count": 50,
   "metadata": {},
   "outputs": [],
   "source": [
    "def waveform_plot(filename_id, filenames, path):\n",
    "    \"\"\"Plot measure vs time.\"\"\"\n",
    "    # Get filename\n",
    "    filename = filenames[filename_id]\n",
    "\n",
    "    # Import waveforms\n",
    "    waveforms = np.load(os.path.join(path, '{}.npy'.format(filename)))\n",
    "\n",
    "    # Time array\n",
    "    time = np.arange(waveforms.shape[1]) * 1 / FS\n",
    "\n",
    "    # Setup figure\n",
    "    fig = plt.figure(figsize=(15, 15), facecolor='w')\n",
    "    fig.subplots_adjust(wspace=0, hspace=0.05)\n",
    "    ax1 = plt.subplot2grid((1, 1), (0, 0))\n",
    "\n",
    "    # ECG\n",
    "    ax1.set_title('File Name: {}'.format(filename), fontsize=20, loc='left', x=0)\n",
    "    shift = 0\n",
    "    for channel_id in range(waveforms.shape[0]):\n",
    "        ax1.plot(time, waveforms[channel_id, :] + shift, '-k', lw=2)\n",
    "        ax1.text(0.1, 0.25 + shift, ECG_LEADS[channel_id], color='red', fontsize=16, ha='left')\n",
    "        shift += 3\n",
    "\n",
    "    # Axes labels\n",
    "    ax1.set_xlabel('Time, seconds', fontsize=24)\n",
    "    ax1.set_ylabel('ECG Amplitude, mV', fontsize=24)\n",
    "    ax1.set_xlim([time.min(), time.max()])\n",
    "    plt.xticks(fontsize=14)\n",
    "    plt.yticks(fontsize=14)\n",
    "\n",
    "    plt.show()\n",
    "\n",
    "\n",
    "def waveform_plot_interact():\n",
    "    \"\"\"Launch interactive plotting widget.\"\"\"\n",
    "    # Set data path\n",
    "    path = os.path.join(DATA_PATH, 'formatted')\n",
    "\n",
    "    # Get filenames\n",
    "    filenames = [filename.split('.')[0] for filename in os.listdir(path) if 'npy' in filename]\n",
    "\n",
    "    interact(waveform_plot,\n",
    "             filename_id=(0, len(filenames) - 1, 1),\n",
    "             filenames=fixed(filenames),\n",
    "             path=fixed(path))"
   ]
  },
  {
   "cell_type": "code",
   "execution_count": 51,
   "metadata": {},
   "outputs": [
    {
     "data": {
      "application/vnd.jupyter.widget-view+json": {
       "model_id": "6601b3725f6a47cfa8e11d9275274311",
       "version_major": 2,
       "version_minor": 0
      },
      "text/plain": [
       "interactive(children=(IntSlider(value=3438, description='filename_id', max=6876), Output()), _dom_classes=('wi…"
      ]
     },
     "metadata": {},
     "output_type": "display_data"
    }
   ],
   "source": [
    "# Plot waveforms\n",
    "waveform_plot_interact()"
   ]
  },
  {
   "cell_type": "code",
   "execution_count": null,
   "metadata": {},
   "outputs": [],
   "source": [
    "5617"
   ]
  }
 ],
 "metadata": {
  "kernelspec": {
   "display_name": "Python 3",
   "language": "python",
   "name": "python3"
  },
  "language_info": {
   "codemirror_mode": {
    "name": "ipython",
    "version": 3
   },
   "file_extension": ".py",
   "mimetype": "text/x-python",
   "name": "python",
   "nbconvert_exporter": "python",
   "pygments_lexer": "ipython3",
   "version": "3.7.7"
  }
 },
 "nbformat": 4,
 "nbformat_minor": 4
}
