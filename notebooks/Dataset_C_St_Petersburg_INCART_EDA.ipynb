{
 "cells": [
  {
   "cell_type": "code",
   "execution_count": 1,
   "metadata": {
    "scrolled": true
   },
   "outputs": [
    {
     "name": "stderr",
     "output_type": "stream",
     "text": [
      "\n",
      "Bad key \"text.kerning_factor\" on line 4 in\n",
      "/home/carsonmclean/miniconda3/envs/physionet-2020/lib/python3.7/site-packages/matplotlib/mpl-data/stylelib/_classic_test_patch.mplstyle.\n",
      "You probably need to get an updated matplotlibrc file from\n",
      "https://github.com/matplotlib/matplotlib/blob/v3.1.3/matplotlibrc.template\n",
      "or from the matplotlib source distribution\n"
     ]
    },
    {
     "data": {
      "text/html": [
       "<style>.container { width:100% !important; }</style>"
      ],
      "text/plain": [
       "<IPython.core.display.HTML object>"
      ]
     },
     "metadata": {},
     "output_type": "display_data"
    }
   ],
   "source": [
    "import collections\n",
    "import glob\n",
    "import itertools\n",
    "import json\n",
    "import os\n",
    "import sys\n",
    "\n",
    "import matplotlib.pyplot as plt\n",
    "import pandas as pd\n",
    "import seaborn as sns\n",
    "\n",
    "from kardioml import DATA_PATH\n",
    "\n",
    "import warnings\n",
    "warnings.filterwarnings('ignore')\n",
    "%matplotlib inline\n",
    "%load_ext autoreload\n",
    "%autoreload 2\n",
    "\n",
    "from IPython.core.display import display, HTML\n",
    "display(HTML(\"<style>.container { width:100% !important; }</style>\"))"
   ]
  },
  {
   "cell_type": "markdown",
   "metadata": {},
   "source": [
    "# Set up paths"
   ]
  },
  {
   "cell_type": "code",
   "execution_count": 2,
   "metadata": {},
   "outputs": [],
   "source": [
    "ROOT = os.path.abspath(os.path.join(os.getcwd(), f'./..'))\n",
    "\n",
    "DATASET = 'C'\n",
    "\n",
    "DATASET_DIR = os.path.join(ROOT, f'data/{DATASET}')\n",
    "FORMATTED_DIR = os.path.join(DATASET_DIR, 'formatted' )\n",
    "RAW_DIR = os.path.join(DATASET_DIR, 'raw')\n",
    "\n",
    "metadata_filepaths = glob.glob(f'{FORMATTED_DIR}/*.json')\n",
    "data_filepaths = glob.glob(f'{FORMATTED_DIR}/*.npy')"
   ]
  },
  {
   "cell_type": "markdown",
   "metadata": {},
   "source": [
    "# Set up data"
   ]
  },
  {
   "cell_type": "code",
   "execution_count": 3,
   "metadata": {
    "scrolled": true
   },
   "outputs": [
    {
     "data": {
      "text/html": [
       "<div>\n",
       "<style scoped>\n",
       "    .dataframe tbody tr th:only-of-type {\n",
       "        vertical-align: middle;\n",
       "    }\n",
       "\n",
       "    .dataframe tbody tr th {\n",
       "        vertical-align: top;\n",
       "    }\n",
       "\n",
       "    .dataframe thead th {\n",
       "        text-align: right;\n",
       "    }\n",
       "</style>\n",
       "<table border=\"1\" class=\"dataframe\">\n",
       "  <thead>\n",
       "    <tr style=\"text-align: right;\">\n",
       "      <th></th>\n",
       "      <th>filename</th>\n",
       "      <th>datetime</th>\n",
       "      <th>channel_order</th>\n",
       "      <th>age</th>\n",
       "      <th>sex</th>\n",
       "      <th>amp_conversion</th>\n",
       "      <th>fs</th>\n",
       "      <th>length</th>\n",
       "      <th>num_leads</th>\n",
       "      <th>labels_SNOMEDCT</th>\n",
       "      <th>labels</th>\n",
       "      <th>labels_full</th>\n",
       "      <th>shape</th>\n",
       "      <th>hr</th>\n",
       "      <th>rpeaks</th>\n",
       "      <th>rpeak_array</th>\n",
       "      <th>rpeak_times</th>\n",
       "      <th>labels_unscored_SNOMEDCT</th>\n",
       "      <th>labels_unscored</th>\n",
       "      <th>labels_unscored_full</th>\n",
       "    </tr>\n",
       "  </thead>\n",
       "  <tbody>\n",
       "    <tr>\n",
       "      <th>0</th>\n",
       "      <td>I0002</td>\n",
       "      <td>15-May-2020</td>\n",
       "      <td>[I, II, III, aVR, aVL, aVF, V1, V2, V3, V4, V5...</td>\n",
       "      <td>65</td>\n",
       "      <td>female</td>\n",
       "      <td>306000</td>\n",
       "      <td>257</td>\n",
       "      <td>462600</td>\n",
       "      <td>12</td>\n",
       "      <td>None</td>\n",
       "      <td>None</td>\n",
       "      <td>None</td>\n",
       "      <td>[462600, 12]</td>\n",
       "      <td>92.710609</td>\n",
       "      <td>[[13, 194, 377, 587, 748, 933, 1120, 1307, 151...</td>\n",
       "      <td>[1.0, 1.0, 1.0, 1.0, 1.0, 1.0, 1.0, 1.0, 1.0, ...</td>\n",
       "      <td>[[0.0, 0.05058365758754864], [0.75097276264591...</td>\n",
       "      <td>[53741008, 251180001, 251182009]</td>\n",
       "      <td>[CHD, VTrig, VPVC]</td>\n",
       "      <td>[coronary heart disease, ventricular trigeminy...</td>\n",
       "    </tr>\n",
       "    <tr>\n",
       "      <th>1</th>\n",
       "      <td>I0053</td>\n",
       "      <td>15-May-2020</td>\n",
       "      <td>[I, II, III, aVR, aVL, aVF, V1, V2, V3, V4, V5...</td>\n",
       "      <td>56</td>\n",
       "      <td>male</td>\n",
       "      <td>617000</td>\n",
       "      <td>257</td>\n",
       "      <td>462600</td>\n",
       "      <td>12</td>\n",
       "      <td>None</td>\n",
       "      <td>None</td>\n",
       "      <td>None</td>\n",
       "      <td>[462600, 12]</td>\n",
       "      <td>89.899406</td>\n",
       "      <td>[[52, 283, 315, 476, 638, 799, 924, 1053, 1116...</td>\n",
       "      <td>[0.0, 0.0, 0.0, 0.0, 0.0, 0.0, 0.0, 0.0, 0.0, ...</td>\n",
       "      <td>[[0.20233463035019456, 0.2140077821011673], [0...</td>\n",
       "      <td>[251182009, 164884008]</td>\n",
       "      <td>[VPVC, VEB]</td>\n",
       "      <td>[paired ventricular premature complexes, ventr...</td>\n",
       "    </tr>\n",
       "    <tr>\n",
       "      <th>2</th>\n",
       "      <td>I0057</td>\n",
       "      <td>15-May-2020</td>\n",
       "      <td>[I, II, III, aVR, aVL, aVF, V1, V2, V3, V4, V5...</td>\n",
       "      <td>45</td>\n",
       "      <td>female</td>\n",
       "      <td>1041000</td>\n",
       "      <td>257</td>\n",
       "      <td>462600</td>\n",
       "      <td>12</td>\n",
       "      <td>[427084000]</td>\n",
       "      <td>[STach]</td>\n",
       "      <td>[sinus tachycardia]</td>\n",
       "      <td>[462600, 12]</td>\n",
       "      <td>97.597543</td>\n",
       "      <td>[[150, 307, 467, 622, 764, 937, 1097, 1256, 14...</td>\n",
       "      <td>[0.0, 0.0, 0.0, 0.0, 0.0, 0.0, 0.0, 0.0, 0.0, ...</td>\n",
       "      <td>[[0.5836575875486382, 0.6070038910505836], [1....</td>\n",
       "      <td>[53741008, 251182009, 13640000]</td>\n",
       "      <td>[CHD, VPVC, FB]</td>\n",
       "      <td>[coronary heart disease, paired ventricular pr...</td>\n",
       "    </tr>\n",
       "    <tr>\n",
       "      <th>3</th>\n",
       "      <td>I0045</td>\n",
       "      <td>15-May-2020</td>\n",
       "      <td>[I, II, III, aVR, aVL, aVF, V1, V2, V3, V4, V5...</td>\n",
       "      <td>53</td>\n",
       "      <td>female</td>\n",
       "      <td>612000</td>\n",
       "      <td>257</td>\n",
       "      <td>462600</td>\n",
       "      <td>12</td>\n",
       "      <td>None</td>\n",
       "      <td>None</td>\n",
       "      <td>None</td>\n",
       "      <td>[462600, 12]</td>\n",
       "      <td>73.382906</td>\n",
       "      <td>[[302, 438, 765, 1003, 1136, 1468, 1708, 1843,...</td>\n",
       "      <td>[0.0, 0.0, 0.0, 0.0, 0.0, 0.0, 0.0, 0.0, 0.0, ...</td>\n",
       "      <td>[[0.245136186770428, 0.26459143968871596], [1....</td>\n",
       "      <td>[164873001, 53741008, 251182009]</td>\n",
       "      <td>[LVH, CHD, VPVC]</td>\n",
       "      <td>[left ventricular hypertrophy, coronary heart ...</td>\n",
       "    </tr>\n",
       "    <tr>\n",
       "      <th>4</th>\n",
       "      <td>I0067</td>\n",
       "      <td>15-May-2020</td>\n",
       "      <td>[I, II, III, aVR, aVL, aVF, V1, V2, V3, V4, V5...</td>\n",
       "      <td>58</td>\n",
       "      <td>female</td>\n",
       "      <td>623000</td>\n",
       "      <td>257</td>\n",
       "      <td>462600</td>\n",
       "      <td>12</td>\n",
       "      <td>[427084000]</td>\n",
       "      <td>[STach]</td>\n",
       "      <td>[sinus tachycardia]</td>\n",
       "      <td>[462600, 12]</td>\n",
       "      <td>103.500843</td>\n",
       "      <td>[[173, 201, 303, 546, 705, 753, 907, 1061, 112...</td>\n",
       "      <td>[1.0, 1.0, 1.0, 1.0, 1.0, 1.0, 1.0, 1.0, 1.0, ...</td>\n",
       "      <td>[[0.0, 0.08560311284046693], [0.67315175097276...</td>\n",
       "      <td>[425856008]</td>\n",
       "      <td>[PVT]</td>\n",
       "      <td>[paroxysmal ventricular tachycardia]</td>\n",
       "    </tr>\n",
       "  </tbody>\n",
       "</table>\n",
       "</div>"
      ],
      "text/plain": [
       "  filename     datetime                                      channel_order  \\\n",
       "0    I0002  15-May-2020  [I, II, III, aVR, aVL, aVF, V1, V2, V3, V4, V5...   \n",
       "1    I0053  15-May-2020  [I, II, III, aVR, aVL, aVF, V1, V2, V3, V4, V5...   \n",
       "2    I0057  15-May-2020  [I, II, III, aVR, aVL, aVF, V1, V2, V3, V4, V5...   \n",
       "3    I0045  15-May-2020  [I, II, III, aVR, aVL, aVF, V1, V2, V3, V4, V5...   \n",
       "4    I0067  15-May-2020  [I, II, III, aVR, aVL, aVF, V1, V2, V3, V4, V5...   \n",
       "\n",
       "   age     sex  amp_conversion   fs  length  num_leads labels_SNOMEDCT  \\\n",
       "0   65  female          306000  257  462600         12            None   \n",
       "1   56    male          617000  257  462600         12            None   \n",
       "2   45  female         1041000  257  462600         12     [427084000]   \n",
       "3   53  female          612000  257  462600         12            None   \n",
       "4   58  female          623000  257  462600         12     [427084000]   \n",
       "\n",
       "    labels          labels_full         shape          hr  \\\n",
       "0     None                 None  [462600, 12]   92.710609   \n",
       "1     None                 None  [462600, 12]   89.899406   \n",
       "2  [STach]  [sinus tachycardia]  [462600, 12]   97.597543   \n",
       "3     None                 None  [462600, 12]   73.382906   \n",
       "4  [STach]  [sinus tachycardia]  [462600, 12]  103.500843   \n",
       "\n",
       "                                              rpeaks  \\\n",
       "0  [[13, 194, 377, 587, 748, 933, 1120, 1307, 151...   \n",
       "1  [[52, 283, 315, 476, 638, 799, 924, 1053, 1116...   \n",
       "2  [[150, 307, 467, 622, 764, 937, 1097, 1256, 14...   \n",
       "3  [[302, 438, 765, 1003, 1136, 1468, 1708, 1843,...   \n",
       "4  [[173, 201, 303, 546, 705, 753, 907, 1061, 112...   \n",
       "\n",
       "                                         rpeak_array  \\\n",
       "0  [1.0, 1.0, 1.0, 1.0, 1.0, 1.0, 1.0, 1.0, 1.0, ...   \n",
       "1  [0.0, 0.0, 0.0, 0.0, 0.0, 0.0, 0.0, 0.0, 0.0, ...   \n",
       "2  [0.0, 0.0, 0.0, 0.0, 0.0, 0.0, 0.0, 0.0, 0.0, ...   \n",
       "3  [0.0, 0.0, 0.0, 0.0, 0.0, 0.0, 0.0, 0.0, 0.0, ...   \n",
       "4  [1.0, 1.0, 1.0, 1.0, 1.0, 1.0, 1.0, 1.0, 1.0, ...   \n",
       "\n",
       "                                         rpeak_times  \\\n",
       "0  [[0.0, 0.05058365758754864], [0.75097276264591...   \n",
       "1  [[0.20233463035019456, 0.2140077821011673], [0...   \n",
       "2  [[0.5836575875486382, 0.6070038910505836], [1....   \n",
       "3  [[0.245136186770428, 0.26459143968871596], [1....   \n",
       "4  [[0.0, 0.08560311284046693], [0.67315175097276...   \n",
       "\n",
       "           labels_unscored_SNOMEDCT     labels_unscored  \\\n",
       "0  [53741008, 251180001, 251182009]  [CHD, VTrig, VPVC]   \n",
       "1            [251182009, 164884008]         [VPVC, VEB]   \n",
       "2   [53741008, 251182009, 13640000]     [CHD, VPVC, FB]   \n",
       "3  [164873001, 53741008, 251182009]    [LVH, CHD, VPVC]   \n",
       "4                       [425856008]               [PVT]   \n",
       "\n",
       "                                labels_unscored_full  \n",
       "0  [coronary heart disease, ventricular trigeminy...  \n",
       "1  [paired ventricular premature complexes, ventr...  \n",
       "2  [coronary heart disease, paired ventricular pr...  \n",
       "3  [left ventricular hypertrophy, coronary heart ...  \n",
       "4               [paroxysmal ventricular tachycardia]  "
      ]
     },
     "metadata": {},
     "output_type": "display_data"
    },
    {
     "data": {
      "text/plain": [
       "Index(['filename', 'datetime', 'channel_order', 'age', 'sex', 'amp_conversion',\n",
       "       'fs', 'length', 'num_leads', 'labels_SNOMEDCT', 'labels', 'labels_full',\n",
       "       'shape', 'hr', 'rpeaks', 'rpeak_array', 'rpeak_times',\n",
       "       'labels_unscored_SNOMEDCT', 'labels_unscored', 'labels_unscored_full'],\n",
       "      dtype='object')"
      ]
     },
     "metadata": {},
     "output_type": "display_data"
    }
   ],
   "source": [
    "# metadata\n",
    "metadata_temp = []\n",
    "for file in metadata_filepaths:\n",
    "    metadata_temp.append(json.load(open(file)))\n",
    "    \n",
    "metadata_df = pd.DataFrame(metadata_temp)\n",
    "del metadata_temp\n",
    "\n",
    "metadata_df['age'] = metadata_df['age'].astype('int')\n",
    "\n",
    "display(metadata_df[:5])\n",
    "display(metadata_df.columns)"
   ]
  },
  {
   "cell_type": "code",
   "execution_count": 4,
   "metadata": {},
   "outputs": [
    {
     "data": {
      "text/html": [
       "<div>\n",
       "<style scoped>\n",
       "    .dataframe tbody tr th:only-of-type {\n",
       "        vertical-align: middle;\n",
       "    }\n",
       "\n",
       "    .dataframe tbody tr th {\n",
       "        vertical-align: top;\n",
       "    }\n",
       "\n",
       "    .dataframe thead th {\n",
       "        text-align: right;\n",
       "    }\n",
       "</style>\n",
       "<table border=\"1\" class=\"dataframe\">\n",
       "  <thead>\n",
       "    <tr style=\"text-align: right;\">\n",
       "      <th></th>\n",
       "      <th>age</th>\n",
       "      <th>amp_conversion</th>\n",
       "      <th>fs</th>\n",
       "      <th>length</th>\n",
       "      <th>num_leads</th>\n",
       "      <th>hr</th>\n",
       "    </tr>\n",
       "  </thead>\n",
       "  <tbody>\n",
       "    <tr>\n",
       "      <th>count</th>\n",
       "      <td>74.000000</td>\n",
       "      <td>7.400000e+01</td>\n",
       "      <td>74.0</td>\n",
       "      <td>74.0</td>\n",
       "      <td>74.0</td>\n",
       "      <td>74.000000</td>\n",
       "    </tr>\n",
       "    <tr>\n",
       "      <th>mean</th>\n",
       "      <td>55.986486</td>\n",
       "      <td>5.969595e+05</td>\n",
       "      <td>257.0</td>\n",
       "      <td>462600.0</td>\n",
       "      <td>12.0</td>\n",
       "      <td>80.016555</td>\n",
       "    </tr>\n",
       "    <tr>\n",
       "      <th>std</th>\n",
       "      <td>13.884547</td>\n",
       "      <td>2.322327e+05</td>\n",
       "      <td>0.0</td>\n",
       "      <td>0.0</td>\n",
       "      <td>0.0</td>\n",
       "      <td>17.839073</td>\n",
       "    </tr>\n",
       "    <tr>\n",
       "      <th>min</th>\n",
       "      <td>18.000000</td>\n",
       "      <td>2.400000e+05</td>\n",
       "      <td>257.0</td>\n",
       "      <td>462600.0</td>\n",
       "      <td>12.0</td>\n",
       "      <td>48.088671</td>\n",
       "    </tr>\n",
       "    <tr>\n",
       "      <th>25%</th>\n",
       "      <td>49.000000</td>\n",
       "      <td>5.142500e+05</td>\n",
       "      <td>257.0</td>\n",
       "      <td>462600.0</td>\n",
       "      <td>12.0</td>\n",
       "      <td>67.241838</td>\n",
       "    </tr>\n",
       "    <tr>\n",
       "      <th>50%</th>\n",
       "      <td>59.000000</td>\n",
       "      <td>6.145000e+05</td>\n",
       "      <td>257.0</td>\n",
       "      <td>462600.0</td>\n",
       "      <td>12.0</td>\n",
       "      <td>80.260874</td>\n",
       "    </tr>\n",
       "    <tr>\n",
       "      <th>75%</th>\n",
       "      <td>66.000000</td>\n",
       "      <td>6.230000e+05</td>\n",
       "      <td>257.0</td>\n",
       "      <td>462600.0</td>\n",
       "      <td>12.0</td>\n",
       "      <td>91.936215</td>\n",
       "    </tr>\n",
       "    <tr>\n",
       "      <th>max</th>\n",
       "      <td>80.000000</td>\n",
       "      <td>1.063000e+06</td>\n",
       "      <td>257.0</td>\n",
       "      <td>462600.0</td>\n",
       "      <td>12.0</td>\n",
       "      <td>127.438017</td>\n",
       "    </tr>\n",
       "  </tbody>\n",
       "</table>\n",
       "</div>"
      ],
      "text/plain": [
       "             age  amp_conversion     fs    length  num_leads          hr\n",
       "count  74.000000    7.400000e+01   74.0      74.0       74.0   74.000000\n",
       "mean   55.986486    5.969595e+05  257.0  462600.0       12.0   80.016555\n",
       "std    13.884547    2.322327e+05    0.0       0.0        0.0   17.839073\n",
       "min    18.000000    2.400000e+05  257.0  462600.0       12.0   48.088671\n",
       "25%    49.000000    5.142500e+05  257.0  462600.0       12.0   67.241838\n",
       "50%    59.000000    6.145000e+05  257.0  462600.0       12.0   80.260874\n",
       "75%    66.000000    6.230000e+05  257.0  462600.0       12.0   91.936215\n",
       "max    80.000000    1.063000e+06  257.0  462600.0       12.0  127.438017"
      ]
     },
     "execution_count": 4,
     "metadata": {},
     "output_type": "execute_result"
    }
   ],
   "source": [
    "metadata_df.describe()"
   ]
  },
  {
   "cell_type": "markdown",
   "metadata": {},
   "source": [
    "# Age distribution statistics and histograms"
   ]
  },
  {
   "cell_type": "code",
   "execution_count": 5,
   "metadata": {},
   "outputs": [
    {
     "data": {
      "text/plain": [
       "<matplotlib.axes._subplots.AxesSubplot at 0x7fef24dc5510>"
      ]
     },
     "execution_count": 5,
     "metadata": {},
     "output_type": "execute_result"
    },
    {
     "data": {
      "image/png": "[encoded data removed]",
      "text/plain": [
       "<Figure size 1008x432 with 1 Axes>"
      ]
     },
     "metadata": {
      "needs_background": "light"
     },
     "output_type": "display_data"
    }
   ],
   "source": [
    "plt.figure(figsize=(14,6))\n",
    "sns.distplot(metadata_df['age'], \n",
    "             kde=True,\n",
    "             bins=25)"
   ]
  },
  {
   "cell_type": "code",
   "execution_count": 6,
   "metadata": {},
   "outputs": [
    {
     "data": {
      "text/plain": [
       "count    74.000000\n",
       "mean     55.986486\n",
       "std      13.884547\n",
       "min      18.000000\n",
       "25%      49.000000\n",
       "50%      59.000000\n",
       "75%      66.000000\n",
       "max      80.000000\n",
       "Name: age, dtype: float64"
      ]
     },
     "execution_count": 6,
     "metadata": {},
     "output_type": "execute_result"
    }
   ],
   "source": [
    "metadata_df['age'].describe()"
   ]
  },
  {
   "cell_type": "markdown",
   "metadata": {},
   "source": [
    "# Male/Female split"
   ]
  },
  {
   "cell_type": "code",
   "execution_count": 7,
   "metadata": {},
   "outputs": [
    {
     "data": {
      "text/plain": [
       "<matplotlib.axes._subplots.AxesSubplot at 0x7feeee52d210>"
      ]
     },
     "execution_count": 7,
     "metadata": {},
     "output_type": "execute_result"
    },
    {
     "data": {
      "image/png": "[encoded data removed]",
      "text/plain": [
       "<Figure size 432x288 with 1 Axes>"
      ]
     },
     "metadata": {
      "needs_background": "light"
     },
     "output_type": "display_data"
    }
   ],
   "source": [
    "sns.countplot(metadata_df['sex'])"
   ]
  },
  {
   "cell_type": "code",
   "execution_count": 8,
   "metadata": {},
   "outputs": [
    {
     "data": {
      "text/plain": [
       "<seaborn.axisgrid.FacetGrid at 0x7fef618b2690>"
      ]
     },
     "execution_count": 8,
     "metadata": {},
     "output_type": "execute_result"
    },
    {
     "data": {
      "image/png": "[encoded data removed]",
      "text/plain": [
       "<Figure size 864x864 with 2 Axes>"
      ]
     },
     "metadata": {
      "needs_background": "light"
     },
     "output_type": "display_data"
    }
   ],
   "source": [
    "g = sns.FacetGrid(metadata_df, \n",
    "                  col='sex', \n",
    "                  col_wrap=1, \n",
    "                  size=6,\n",
    "                  aspect=2)\n",
    "g.map(sns.distplot, \"age\", bins=25)"
   ]
  },
  {
   "cell_type": "code",
   "execution_count": 9,
   "metadata": {},
   "outputs": [
    {
     "data": {
      "text/plain": [
       "'MALE'"
      ]
     },
     "metadata": {},
     "output_type": "display_data"
    },
    {
     "data": {
      "text/html": [
       "<div>\n",
       "<style scoped>\n",
       "    .dataframe tbody tr th:only-of-type {\n",
       "        vertical-align: middle;\n",
       "    }\n",
       "\n",
       "    .dataframe tbody tr th {\n",
       "        vertical-align: top;\n",
       "    }\n",
       "\n",
       "    .dataframe thead th {\n",
       "        text-align: right;\n",
       "    }\n",
       "</style>\n",
       "<table border=\"1\" class=\"dataframe\">\n",
       "  <thead>\n",
       "    <tr style=\"text-align: right;\">\n",
       "      <th></th>\n",
       "      <th>age</th>\n",
       "      <th>hr</th>\n",
       "    </tr>\n",
       "  </thead>\n",
       "  <tbody>\n",
       "    <tr>\n",
       "      <th>count</th>\n",
       "      <td>40.000000</td>\n",
       "      <td>40.000000</td>\n",
       "    </tr>\n",
       "    <tr>\n",
       "      <th>mean</th>\n",
       "      <td>60.850000</td>\n",
       "      <td>77.383894</td>\n",
       "    </tr>\n",
       "    <tr>\n",
       "      <th>std</th>\n",
       "      <td>13.074834</td>\n",
       "      <td>17.198770</td>\n",
       "    </tr>\n",
       "    <tr>\n",
       "      <th>min</th>\n",
       "      <td>19.000000</td>\n",
       "      <td>50.522673</td>\n",
       "    </tr>\n",
       "    <tr>\n",
       "      <th>25%</th>\n",
       "      <td>57.750000</td>\n",
       "      <td>65.083146</td>\n",
       "    </tr>\n",
       "    <tr>\n",
       "      <th>50%</th>\n",
       "      <td>63.000000</td>\n",
       "      <td>76.262534</td>\n",
       "    </tr>\n",
       "    <tr>\n",
       "      <th>75%</th>\n",
       "      <td>68.000000</td>\n",
       "      <td>89.937328</td>\n",
       "    </tr>\n",
       "    <tr>\n",
       "      <th>max</th>\n",
       "      <td>80.000000</td>\n",
       "      <td>122.386092</td>\n",
       "    </tr>\n",
       "  </tbody>\n",
       "</table>\n",
       "</div>"
      ],
      "text/plain": [
       "             age          hr\n",
       "count  40.000000   40.000000\n",
       "mean   60.850000   77.383894\n",
       "std    13.074834   17.198770\n",
       "min    19.000000   50.522673\n",
       "25%    57.750000   65.083146\n",
       "50%    63.000000   76.262534\n",
       "75%    68.000000   89.937328\n",
       "max    80.000000  122.386092"
      ]
     },
     "metadata": {},
     "output_type": "display_data"
    },
    {
     "data": {
      "text/plain": [
       "'FEMALE'"
      ]
     },
     "metadata": {},
     "output_type": "display_data"
    },
    {
     "data": {
      "text/html": [
       "<div>\n",
       "<style scoped>\n",
       "    .dataframe tbody tr th:only-of-type {\n",
       "        vertical-align: middle;\n",
       "    }\n",
       "\n",
       "    .dataframe tbody tr th {\n",
       "        vertical-align: top;\n",
       "    }\n",
       "\n",
       "    .dataframe thead th {\n",
       "        text-align: right;\n",
       "    }\n",
       "</style>\n",
       "<table border=\"1\" class=\"dataframe\">\n",
       "  <thead>\n",
       "    <tr style=\"text-align: right;\">\n",
       "      <th></th>\n",
       "      <th>age</th>\n",
       "      <th>hr</th>\n",
       "    </tr>\n",
       "  </thead>\n",
       "  <tbody>\n",
       "    <tr>\n",
       "      <th>count</th>\n",
       "      <td>34.000000</td>\n",
       "      <td>34.000000</td>\n",
       "    </tr>\n",
       "    <tr>\n",
       "      <th>mean</th>\n",
       "      <td>50.264706</td>\n",
       "      <td>83.113804</td>\n",
       "    </tr>\n",
       "    <tr>\n",
       "      <th>std</th>\n",
       "      <td>12.728657</td>\n",
       "      <td>18.333169</td>\n",
       "    </tr>\n",
       "    <tr>\n",
       "      <th>min</th>\n",
       "      <td>18.000000</td>\n",
       "      <td>48.088671</td>\n",
       "    </tr>\n",
       "    <tr>\n",
       "      <th>25%</th>\n",
       "      <td>41.000000</td>\n",
       "      <td>73.482437</td>\n",
       "    </tr>\n",
       "    <tr>\n",
       "      <th>50%</th>\n",
       "      <td>52.000000</td>\n",
       "      <td>85.298374</td>\n",
       "    </tr>\n",
       "    <tr>\n",
       "      <th>75%</th>\n",
       "      <td>59.000000</td>\n",
       "      <td>93.197895</td>\n",
       "    </tr>\n",
       "    <tr>\n",
       "      <th>max</th>\n",
       "      <td>68.000000</td>\n",
       "      <td>127.438017</td>\n",
       "    </tr>\n",
       "  </tbody>\n",
       "</table>\n",
       "</div>"
      ],
      "text/plain": [
       "             age          hr\n",
       "count  34.000000   34.000000\n",
       "mean   50.264706   83.113804\n",
       "std    12.728657   18.333169\n",
       "min    18.000000   48.088671\n",
       "25%    41.000000   73.482437\n",
       "50%    52.000000   85.298374\n",
       "75%    59.000000   93.197895\n",
       "max    68.000000  127.438017"
      ]
     },
     "metadata": {},
     "output_type": "display_data"
    }
   ],
   "source": [
    "display('MALE')\n",
    "display(metadata_df[metadata_df['sex'] == 'male'].describe()[['age', 'hr']])\n",
    "\n",
    "display('FEMALE')\n",
    "display(metadata_df[metadata_df['sex'] == 'female'].describe()[['age', 'hr']])"
   ]
  },
  {
   "cell_type": "markdown",
   "metadata": {},
   "source": [
    "# Distribution statistics and histograms of segment lengths"
   ]
  },
  {
   "cell_type": "code",
   "execution_count": 10,
   "metadata": {},
   "outputs": [
    {
     "data": {
      "text/plain": [
       "'Unique lengths: [462600]'"
      ]
     },
     "metadata": {},
     "output_type": "display_data"
    },
    {
     "data": {
      "text/plain": [
       "\"Unique shapes:  ['[462600, 12]']\""
      ]
     },
     "metadata": {},
     "output_type": "display_data"
    },
    {
     "data": {
      "text/plain": [
       "'Unique freqs:   [257]'"
      ]
     },
     "metadata": {},
     "output_type": "display_data"
    },
    {
     "name": "stdout",
     "output_type": "stream",
     "text": [
      "All segments are 0.500 hours long at 257 Hz\n"
     ]
    }
   ],
   "source": [
    "display(f'Unique lengths: {metadata_df[\"length\"].unique()}')\n",
    "display(f'Unique shapes:  {metadata_df[\"shape\"].astype(str).unique()}')\n",
    "display(f'Unique freqs:   {metadata_df[\"fs\"].unique()}')\n",
    "\n",
    "print(f'All segments are {metadata_df[\"length\"].iloc[0]/257/60/60:.3f} hours long at 257 Hz')"
   ]
  },
  {
   "cell_type": "markdown",
   "metadata": {},
   "source": [
    "# Label composition (e.g. 60% Normal Sinus Rhythm, etc.)"
   ]
  },
  {
   "cell_type": "code",
   "execution_count": 11,
   "metadata": {},
   "outputs": [
    {
     "data": {
      "text/plain": [
       "[(0, 100), Text(0, 0.5, '%')]"
      ]
     },
     "execution_count": 11,
     "metadata": {},
     "output_type": "execute_result"
    },
    {
     "data": {
      "image/png": "[encoded data removed]",
      "text/plain": [
       "<Figure size 1296x432 with 1 Axes>"
      ]
     },
     "metadata": {
      "needs_background": "light"
     },
     "output_type": "display_data"
    }
   ],
   "source": [
    "plt.figure(figsize=(18,6))\n",
    "\n",
    "chart = sns.countplot(metadata_df['labels'].astype(str),\n",
    "                     order=metadata_df['labels'].astype(str).value_counts().index)\n",
    "\n",
    "chart.set_xticklabels(chart.get_xticklabels(), \n",
    "                      rotation=75)\n",
    "chart.set(ylabel='%',\n",
    "          ylim=(0,100))"
   ]
  },
  {
   "cell_type": "markdown",
   "metadata": {},
   "source": [
    "# Unique label combinations and their proportions"
   ]
  },
  {
   "cell_type": "code",
   "execution_count": 12,
   "metadata": {},
   "outputs": [
    {
     "data": {
      "text/plain": [
       "Counter({0: 41, 1: 29, 2: 4})"
      ]
     },
     "execution_count": 12,
     "metadata": {},
     "output_type": "execute_result"
    }
   ],
   "source": [
    "collections.Counter(metadata_df['labels'].fillna('').apply(len))"
   ]
  },
  {
   "cell_type": "code",
   "execution_count": 13,
   "metadata": {},
   "outputs": [
    {
     "data": {
      "text/plain": [
       "NaN              41\n",
       "[STach]          10\n",
       "[Brady]           8\n",
       "[SVPB]            3\n",
       "[PAC]             3\n",
       "[SA]              2\n",
       "[AF, Brady]       1\n",
       "[Brady, SVPB]     1\n",
       "[NSIVCB]          1\n",
       "[AF, STach]       1\n",
       "[RBBB, Brady]     1\n",
       "[TInv]            1\n",
       "[RBBB]            1\n",
       "Name: labels, dtype: int64"
      ]
     },
     "metadata": {},
     "output_type": "display_data"
    }
   ],
   "source": [
    "display(metadata_df['labels'].value_counts(\n",
    "    dropna=False))"
   ]
  },
  {
   "cell_type": "code",
   "execution_count": 14,
   "metadata": {},
   "outputs": [
    {
     "data": {
      "text/plain": [
       "Counter({' ': 41,\n",
       "         'STach': 11,\n",
       "         'NSIVCB': 1,\n",
       "         'Brady': 11,\n",
       "         'RBBB': 2,\n",
       "         'SA': 2,\n",
       "         'AF': 2,\n",
       "         'SVPB': 4,\n",
       "         'PAC': 3,\n",
       "         'TInv': 1})"
      ]
     },
     "execution_count": 14,
     "metadata": {},
     "output_type": "execute_result"
    }
   ],
   "source": [
    "collections.Counter(itertools.chain.from_iterable(\n",
    "    metadata_df['labels'].fillna(' ')))"
   ]
  },
  {
   "cell_type": "markdown",
   "metadata": {},
   "source": [
    "# If there is an associated paper, please read and provide a summary. Importantly, how were the labels generated, additional information about the population?"
   ]
  },
  {
   "cell_type": "raw",
   "metadata": {},
   "source": []
  },
  {
   "cell_type": "markdown",
   "metadata": {},
   "source": [
    "# Heart Rate"
   ]
  },
  {
   "cell_type": "code",
   "execution_count": 15,
   "metadata": {},
   "outputs": [
    {
     "data": {
      "text/plain": [
       "<matplotlib.axes._subplots.AxesSubplot at 0x7feeeba65a50>"
      ]
     },
     "execution_count": 15,
     "metadata": {},
     "output_type": "execute_result"
    },
    {
     "data": {
      "image/png": "[encoded data removed]",
      "text/plain": [
       "<Figure size 1152x288 with 1 Axes>"
      ]
     },
     "metadata": {
      "needs_background": "light"
     },
     "output_type": "display_data"
    }
   ],
   "source": [
    "plt.figure(figsize=(16,4))\n",
    "sns.distplot(metadata_df['hr'], bins=25)"
   ]
  },
  {
   "cell_type": "code",
   "execution_count": 16,
   "metadata": {},
   "outputs": [
    {
     "data": {
      "text/plain": [
       "<seaborn.axisgrid.FacetGrid at 0x7feeeba473d0>"
      ]
     },
     "execution_count": 16,
     "metadata": {},
     "output_type": "execute_result"
    },
    {
     "data": {
      "image/png": "[encoded data removed]",
      "text/plain": [
       "<Figure size 864x864 with 2 Axes>"
      ]
     },
     "metadata": {
      "needs_background": "light"
     },
     "output_type": "display_data"
    }
   ],
   "source": [
    "g = sns.FacetGrid(metadata_df, \n",
    "                  col='sex', \n",
    "                  col_wrap=1, \n",
    "                  size=6,\n",
    "                  aspect=2)\n",
    "g.map(sns.distplot, \"hr\", bins=25)"
   ]
  },
  {
   "cell_type": "markdown",
   "metadata": {},
   "source": [
    "# Missingness"
   ]
  },
  {
   "cell_type": "code",
   "execution_count": 17,
   "metadata": {
    "scrolled": true
   },
   "outputs": [
    {
     "data": {
      "text/plain": [
       "[(0, 100), Text(0, 0.5, '%'), Text(0.5, 1.0, 'Missingness')]"
      ]
     },
     "execution_count": 17,
     "metadata": {},
     "output_type": "execute_result"
    },
    {
     "data": {
      "image/png": "[encoded data removed]",
      "text/plain": [
       "<Figure size 1152x432 with 1 Axes>"
      ]
     },
     "metadata": {
      "needs_background": "light"
     },
     "output_type": "display_data"
    }
   ],
   "source": [
    "missingness = pd.DataFrame(metadata_df.isna().mean().round(3)* 100,\n",
    "                          columns=['missingness_%']).transpose().sort_values(by='missingness_%', \n",
    "                                                                             axis=1, \n",
    "                                                                             ascending=False)\n",
    "plt.figure(figsize=(16,6))\n",
    "\n",
    "chart = sns.barplot(data=missingness)\n",
    "\n",
    "chart.set_xticklabels(chart.get_xticklabels(), \n",
    "                      rotation=75)\n",
    "chart.set(title='Missingness',\n",
    "          ylabel='%',\n",
    "          ylim=(0,100))"
   ]
  },
  {
   "cell_type": "code",
   "execution_count": 18,
   "metadata": {},
   "outputs": [
    {
     "data": {
      "text/html": [
       "<div>\n",
       "<style scoped>\n",
       "    .dataframe tbody tr th:only-of-type {\n",
       "        vertical-align: middle;\n",
       "    }\n",
       "\n",
       "    .dataframe tbody tr th {\n",
       "        vertical-align: top;\n",
       "    }\n",
       "\n",
       "    .dataframe thead th {\n",
       "        text-align: right;\n",
       "    }\n",
       "</style>\n",
       "<table border=\"1\" class=\"dataframe\">\n",
       "  <thead>\n",
       "    <tr style=\"text-align: right;\">\n",
       "      <th></th>\n",
       "      <th>labels</th>\n",
       "      <th>labels_SNOMEDCT</th>\n",
       "      <th>labels_full</th>\n",
       "      <th>labels_unscored</th>\n",
       "      <th>labels_unscored_SNOMEDCT</th>\n",
       "      <th>labels_unscored_full</th>\n",
       "      <th>fs</th>\n",
       "      <th>length</th>\n",
       "      <th>num_leads</th>\n",
       "      <th>amp_conversion</th>\n",
       "      <th>datetime</th>\n",
       "      <th>sex</th>\n",
       "      <th>shape</th>\n",
       "      <th>hr</th>\n",
       "      <th>rpeaks</th>\n",
       "      <th>rpeak_array</th>\n",
       "      <th>rpeak_times</th>\n",
       "      <th>age</th>\n",
       "      <th>channel_order</th>\n",
       "      <th>filename</th>\n",
       "    </tr>\n",
       "  </thead>\n",
       "  <tbody>\n",
       "    <tr>\n",
       "      <th>missingness_%</th>\n",
       "      <td>55.4</td>\n",
       "      <td>55.4</td>\n",
       "      <td>55.4</td>\n",
       "      <td>1.4</td>\n",
       "      <td>1.4</td>\n",
       "      <td>1.4</td>\n",
       "      <td>0.0</td>\n",
       "      <td>0.0</td>\n",
       "      <td>0.0</td>\n",
       "      <td>0.0</td>\n",
       "      <td>0.0</td>\n",
       "      <td>0.0</td>\n",
       "      <td>0.0</td>\n",
       "      <td>0.0</td>\n",
       "      <td>0.0</td>\n",
       "      <td>0.0</td>\n",
       "      <td>0.0</td>\n",
       "      <td>0.0</td>\n",
       "      <td>0.0</td>\n",
       "      <td>0.0</td>\n",
       "    </tr>\n",
       "  </tbody>\n",
       "</table>\n",
       "</div>"
      ],
      "text/plain": [
       "               labels  labels_SNOMEDCT  labels_full  labels_unscored  \\\n",
       "missingness_%    55.4             55.4         55.4              1.4   \n",
       "\n",
       "               labels_unscored_SNOMEDCT  labels_unscored_full   fs  length  \\\n",
       "missingness_%                       1.4                   1.4  0.0     0.0   \n",
       "\n",
       "               num_leads  amp_conversion  datetime  sex  shape   hr  rpeaks  \\\n",
       "missingness_%        0.0             0.0       0.0  0.0    0.0  0.0     0.0   \n",
       "\n",
       "               rpeak_array  rpeak_times  age  channel_order  filename  \n",
       "missingness_%          0.0          0.0  0.0            0.0       0.0  "
      ]
     },
     "metadata": {},
     "output_type": "display_data"
    }
   ],
   "source": [
    "display(missingness)"
   ]
  }
 ],
 "metadata": {
  "kernelspec": {
   "display_name": "Python 3",
   "language": "python",
   "name": "python3"
  },
  "language_info": {
   "codemirror_mode": {
    "name": "ipython",
    "version": 3
   },
   "file_extension": ".py",
   "mimetype": "text/x-python",
   "name": "python",
   "nbconvert_exporter": "python",
   "pygments_lexer": "ipython3",
   "version": "3.7.7"
  }
 },
 "nbformat": 4,
 "nbformat_minor": 4
}
